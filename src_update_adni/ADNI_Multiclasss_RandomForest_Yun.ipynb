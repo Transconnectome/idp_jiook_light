{
 "cells": [
  {
   "cell_type": "code",
   "execution_count": 2,
   "metadata": {
    "collapsed": false
   },
   "outputs": [
    {
     "name": "stdout",
     "output_type": "stream",
     "text": [
      "finished this block\n"
     ]
    }
   ],
   "source": [
    "from sklearn.model_selection import RepeatedStratifiedKFold\n",
    "from sklearn.svm import LinearSVC\n",
    "from sklearn.feature_selection import SelectFromModel\n",
    "import numpy as np\n",
    "import pandas as pd\n",
    "from pprint import pprint\n",
    "from os import listdir\n",
    "from os.path import isfile, join\n",
    "from sklearn.model_selection import StratifiedKFold\n",
    "from scipy import stats\n",
    "import numpy as np\n",
    "from sklearn import linear_model, svm\n",
    "import re\n",
    "from sklearn.metrics import roc_curve, auc,f1_score\n",
    "from sklearn.pipeline import Pipeline\n",
    "from sklearn.ensemble import RandomForestClassifier\n",
    "#s = \"../braindata/data_1_mor_select_100.csv\"\n",
    "import os          \n",
    "from sklearn import linear_model, svm\n",
    "from sklearn.ensemble import ExtraTreesClassifier\n",
    "#import xgboost as xgb\n",
    "import pickle\n",
    "import os\n",
    "import scipy.io\n",
    "from scipy import stats\n",
    "\n",
    "import pandas as pd\n",
    "from numpy import *\n",
    "\n",
    "import numpy as np\n",
    "from matplotlib import pyplot as plt\n",
    "from scipy import stats\n",
    "import pandas as pd\n",
    "import argparse\n",
    "from sklearn.model_selection import GridSearchCV, cross_val_score,cross_val_predict,StratifiedKFold,KFold\n",
    "from sklearn.feature_selection import SelectFromModel\n",
    "from sklearn.pipeline import Pipeline\n",
    "from sklearn.metrics import roc_auc_score,confusion_matrix, mean_squared_error,precision_score,recall_score,f1_score,hamming_loss\n",
    "from sklearn.preprocessing import StandardScaler\n",
    "from sklearn.ensemble import RandomForestClassifier, RandomForestRegressor\n",
    "from sklearn.ensemble import ExtraTreesClassifier\n",
    "from sklearn.metrics import accuracy_score\n",
    "print('finished this block')"
   ]
  },
  {
   "cell_type": "code",
   "execution_count": 3,
   "metadata": {
    "collapsed": false
   },
   "outputs": [
    {
     "name": "stdout",
     "output_type": "stream",
     "text": [
      "finished this block\n"
     ]
    }
   ],
   "source": [
    "os.getcwd()\n",
    "os.chdir('../data/adni')\n",
    "print('finished this block')"
   ]
  },
  {
   "cell_type": "code",
   "execution_count": 4,
   "metadata": {
    "collapsed": false
   },
   "outputs": [
    {
     "name": "stdout",
     "output_type": "stream",
     "text": [
      "the original training data dimension is\n",
      "(179, 34733)\n"
     ]
    }
   ],
   "source": [
    "dd =pd.read_csv(\"combine_new_biomarker_correct.csv\",header=0)\n",
    "print('the original training data dimension is')\n",
    "print(dd.shape)\n",
    "import csv"
   ]
  },
  {
   "cell_type": "code",
   "execution_count": 5,
   "metadata": {
    "collapsed": true
   },
   "outputs": [],
   "source": [
    "names=list(dd)\n",
    "start_index_conn=names.index('T1')\n"
   ]
  },
  {
   "cell_type": "code",
   "execution_count": 6,
   "metadata": {
    "collapsed": false
   },
   "outputs": [
    {
     "name": "stdout",
     "output_type": "stream",
     "text": [
      "after the precoessing, the X.shape is \n",
      "(179, 34709)\n",
      "the y.shape is\n",
      "(179,)\n"
     ]
    }
   ],
   "source": [
    "with open('combine_new_biomarker.csv', 'r') as f:\n",
    "    d_reader = csv.DictReader(f)\n",
    "    #get fieldnames from DictReader object and store in list\n",
    "    headers = d_reader.fieldnames\n",
    "    \n",
    "data=np.array(dd)\n",
    "#idx_IN_columns = np.append(np.array([9,10]),np.array(range(start_index_conn,data.shape[1])))\n",
    "\n",
    "#print(idx_IN_columns)\n",
    "\n",
    "X_conn=data[:,start_index_conn:]  #Connectome features\n",
    "X_biomarker=data[:,1:6] # Biomarker features\n",
    "y_baseline=data[:,10]  #baseline 1 is normal  2 MCI  3 is AD\n",
    "y_final=data[:,9]   #Finaldx # 0 is Not-AD  1 is AD \n",
    "\n",
    "\n",
    "#print(y_final)\n",
    "#print(y_baseline)\n",
    "\n",
    "\n",
    "y=np.zeros(y_baseline.shape)\n",
    "#print(len(y))\n",
    "\n",
    "for i in range(0,len(y)):\n",
    "    if y_baseline[i]==1:\n",
    "#         if y_final[i]==1:\n",
    "#             y[i]=0\n",
    "#         else:\n",
    "            y[i]=0\n",
    "    elif y_baseline[i]==2:\n",
    "        if y_final[i]==0:\n",
    "            y[i]=1 #stable MCI\n",
    "        else:\n",
    "            y[i]=2 # Converted MCI \n",
    "    else: \n",
    "        y[i]=3 \n",
    "\n",
    "        \n",
    "# X_marker=X[:,2:]\n",
    "\n",
    "ind_num_matrix=np.isnan(X_conn)\n",
    "ind_num_vector=np.any(ind_num_matrix,axis=1)\n",
    "\n",
    "X_no_nan=X_conn[~ind_num_vector,:]\n",
    "y_no_nan=y[~ind_num_vector]\n",
    "\n",
    "X_conn_final=X_no_nan\n",
    "y=y_no_nan        \n",
    "        \n",
    "        \n",
    "        \n",
    "        \n",
    "\n",
    "feature_num_all=[]\n",
    "\n",
    "lr_all_feature=[]\n",
    "svm_all_feature=[]\n",
    "XGreg_all_feature=[]\n",
    "\n",
    "\n",
    "lr_fls_feature=[]\n",
    "svm_fls_feature=[]\n",
    "XGB_f1s_feature=[]\n",
    "\n",
    "base_labels= []\n",
    "# np.isnan(X).any()\n",
    "\n",
    "# np.isnan(X).any()\n",
    "#X[np.isnan(X_)] = np.median(X[~np.isnan(X)])\n",
    "\n",
    "print(\"after the precoessing, the X.shape is \")\n",
    "print(X_conn_final.shape)\n",
    "print(\"the y.shape is\")\n",
    "print(y.shape)\n",
    "\n",
    "X=X_biomarker\n",
    "X[np.isnan(X)] = np.median(X[~np.isnan(X)])"
   ]
  },
  {
   "cell_type": "code",
   "execution_count": 7,
   "metadata": {
    "collapsed": true
   },
   "outputs": [],
   "source": [
    "from sklearn.multiclass import OneVsOneClassifier\n",
    "from sklearn.linear_model import SGDClassifier\n",
    "from sklearn.preprocessing import StandardScaler\n"
   ]
  },
  {
   "cell_type": "code",
   "execution_count": 7,
   "metadata": {
    "collapsed": true
   },
   "outputs": [],
   "source": [
    "# scaler=StandardScaler()\n",
    "# X_scaler=scaler.fit_transform(X.astype(np.float64))"
   ]
  },
  {
   "cell_type": "code",
   "execution_count": 8,
   "metadata": {
    "collapsed": true
   },
   "outputs": [],
   "source": [
    "# clf = ExtraTreesClassifier(n_estimators=250,random_state=0)\n",
    "# rs=33994\n",
    "# outer_cv = StratifiedKFold(n_splits=n_fold, shuffle=True, random_state=rs)\n",
    "# for train_index, test_index in outer_cv.split(X_scaler, y):\n",
    "#     X_train, X_test = X_scaler[train_index], X_scaler[test_index]\n",
    "#     y_train, y_test = y[train_index], y[test_index]\n",
    "    \n",
    "#     ovo_clf=OneVsOneClassifier(SGDClassifier(random_state=42))\n",
    "#     ovo_clf.fit(X_train,y_train)\n",
    "#     ovo_clf.predict(X_train)"
   ]
  },
  {
   "cell_type": "code",
   "execution_count": 9,
   "metadata": {
    "collapsed": true
   },
   "outputs": [],
   "source": [
    "# cross_val_score( ovo_clf,X_train,y_train,cv=3)"
   ]
  },
  {
   "cell_type": "code",
   "execution_count": 10,
   "metadata": {
    "collapsed": true
   },
   "outputs": [],
   "source": [
    "# y_train_pred=cross_val_predict(ovo_clf,X_train,y_train,cv=10)\n",
    "# conf_mx=confusion_matrix(y_train,y_train_pred)"
   ]
  },
  {
   "cell_type": "code",
   "execution_count": 11,
   "metadata": {
    "collapsed": true
   },
   "outputs": [],
   "source": [
    "# row_sums=conf_mx.sum(axis=1,keepdims=True)\n",
    "# norm_conf_mx=conf_mx/row_sums\n",
    "# np.fill_diagonal(norm_conf_mx,0)\n",
    "# plt.matshow(norm_conf_mx,cmap=plt.cm.gray)\n",
    "# plt.show()"
   ]
  },
  {
   "cell_type": "code",
   "execution_count": null,
   "metadata": {
    "collapsed": true
   },
   "outputs": [],
   "source": []
  },
  {
   "cell_type": "code",
<<<<<<< HEAD
   "execution_count": 12,
   "metadata": {},
=======
   "execution_count": 9,
   "metadata": {
    "collapsed": false
   },
>>>>>>> 009456e908c8be4eee7feecd09a6a06b0e7988f8
   "outputs": [
    {
     "name": "stdout",
     "output_type": "stream",
     "text": [
      "********random seed:33994\n"
     ]
    },
    {
     "ename": "TypeError",
     "evalue": "'list' object is not callable",
     "output_type": "error",
     "traceback": [
      "\u001b[0;31m---------------------------------------------------------------------------\u001b[0m",
      "\u001b[0;31mTypeError\u001b[0m                                 Traceback (most recent call last)",
<<<<<<< HEAD
      "\u001b[0;32m<ipython-input-12-1c6bc81130c6>\u001b[0m in \u001b[0;36m<module>\u001b[0;34m()\u001b[0m\n\u001b[1;32m     36\u001b[0m             \u001b[0mclf\u001b[0m\u001b[0;34m.\u001b[0m\u001b[0mfit\u001b[0m\u001b[0;34m(\u001b[0m\u001b[0mX_train\u001b[0m\u001b[0;34m,\u001b[0m \u001b[0my_train\u001b[0m\u001b[0;34m)\u001b[0m\u001b[0;34m\u001b[0m\u001b[0m\n\u001b[1;32m     37\u001b[0m             \u001b[0my_predict\u001b[0m\u001b[0;34m=\u001b[0m\u001b[0mclf\u001b[0m\u001b[0;34m.\u001b[0m\u001b[0mpredict\u001b[0m\u001b[0;34m(\u001b[0m\u001b[0mX_test\u001b[0m\u001b[0;34m)\u001b[0m\u001b[0;34m\u001b[0m\u001b[0m\n\u001b[0;32m---> 38\u001b[0;31m             \u001b[0mconf_mx\u001b[0m\u001b[0;34m=\u001b[0m\u001b[0mconfusion_matrix\u001b[0m\u001b[0;34m(\u001b[0m\u001b[0my_test\u001b[0m\u001b[0;34m,\u001b[0m\u001b[0my_predict\u001b[0m\u001b[0;34m)\u001b[0m\u001b[0;34m\u001b[0m\u001b[0m\n\u001b[0m\u001b[1;32m     39\u001b[0m \u001b[0;34m\u001b[0m\u001b[0m\n\u001b[1;32m     40\u001b[0m             \u001b[0mrow_sums\u001b[0m\u001b[0;34m=\u001b[0m\u001b[0mconf_mx\u001b[0m\u001b[0;34m.\u001b[0m\u001b[0msum\u001b[0m\u001b[0;34m(\u001b[0m\u001b[0maxis\u001b[0m\u001b[0;34m=\u001b[0m\u001b[0;36m1\u001b[0m\u001b[0;34m,\u001b[0m\u001b[0mkeepdims\u001b[0m\u001b[0;34m=\u001b[0m\u001b[0;32mTrue\u001b[0m\u001b[0;34m)\u001b[0m\u001b[0;34m\u001b[0m\u001b[0m\n",
=======
      "\u001b[0;32m<ipython-input-9-c1fd0901e36c>\u001b[0m in \u001b[0;36m<module>\u001b[0;34m()\u001b[0m\n\u001b[1;32m     36\u001b[0m             \u001b[0mclf\u001b[0m\u001b[0;34m.\u001b[0m\u001b[0mfit\u001b[0m\u001b[0;34m(\u001b[0m\u001b[0mX_train\u001b[0m\u001b[0;34m,\u001b[0m \u001b[0my_train\u001b[0m\u001b[0;34m)\u001b[0m\u001b[0;34m\u001b[0m\u001b[0m\n\u001b[1;32m     37\u001b[0m             \u001b[0my_predict\u001b[0m\u001b[0;34m=\u001b[0m\u001b[0mclf\u001b[0m\u001b[0;34m.\u001b[0m\u001b[0mpredict\u001b[0m\u001b[0;34m(\u001b[0m\u001b[0mX_test\u001b[0m\u001b[0;34m)\u001b[0m\u001b[0;34m\u001b[0m\u001b[0m\n\u001b[0;32m---> 38\u001b[0;31m             \u001b[0mconf_mx\u001b[0m\u001b[0;34m=\u001b[0m\u001b[0mconfusion_matrix\u001b[0m\u001b[0;34m(\u001b[0m\u001b[0my_test\u001b[0m\u001b[0;34m,\u001b[0m\u001b[0my_predict\u001b[0m\u001b[0;34m)\u001b[0m\u001b[0;34m\u001b[0m\u001b[0m\n\u001b[0m\u001b[1;32m     39\u001b[0m \u001b[0;34m\u001b[0m\u001b[0m\n\u001b[1;32m     40\u001b[0m             \u001b[0mrow_sums\u001b[0m\u001b[0;34m=\u001b[0m\u001b[0mconf_mx\u001b[0m\u001b[0;34m.\u001b[0m\u001b[0msum\u001b[0m\u001b[0;34m(\u001b[0m\u001b[0maxis\u001b[0m\u001b[0;34m=\u001b[0m\u001b[0;36m1\u001b[0m\u001b[0;34m,\u001b[0m\u001b[0mkeepdims\u001b[0m\u001b[0;34m=\u001b[0m\u001b[0;32mTrue\u001b[0m\u001b[0;34m)\u001b[0m\u001b[0;34m\u001b[0m\u001b[0m\n",
>>>>>>> 009456e908c8be4eee7feecd09a6a06b0e7988f8
      "\u001b[0;31mTypeError\u001b[0m: 'list' object is not callable"
     ]
    }
   ],
   "source": [
    "n_fold = 3\n",
    "confusion_matrix=[]\n",
    "#rs_list=[33994,31358,27381,8642,7012,42023,44642,44002,30706,12571]\n",
    "rs_list=[33994]\n",
    "for rs in rs_list:\n",
    "        print('********random seed:{}'.format(rs))\n",
    "\n",
    "        inner_cv = StratifiedKFold(n_splits=n_fold, shuffle=True, random_state=rs)\n",
    "        outer_cv = StratifiedKFold(n_splits=n_fold, shuffle=True, random_state=rs)\n",
    "\n",
    "        scaler = StandardScaler()\n",
    "        #scaler = RobustScaler()\n",
    "        scaler.fit(X)\n",
    "        X = scaler.transform(X)\n",
    "\n",
    "        \n",
    "        \n",
    "        for train_index, test_index in outer_cv.split(X, y):\n",
    "            X_train, X_test = X[train_index], X[test_index]\n",
    "            y_train, y_test = y[train_index], y[test_index]\n",
    "            \n",
    "            params = {'estimator__min_samples_leaf': np.arange(1, 51, 5),\n",
    "                      'estimator__n_estimators': np.arange(10, 500, 10)}\n",
    "            \n",
    "\n",
    "            \n",
    "            pipe_rf = Pipeline([\n",
    "                ('featureExtract', SelectFromModel(ExtraTreesClassifier())),\n",
    "                ('estimator', OneVsOneClassifier(RandomForestClassifier(random_state=100))),\n",
    "            ])\n",
    "\n",
    "            \n",
    "            ovo=OneVsOneClassifier(RandomForestClassifier(random_state=100))\n",
    "            #clf = GridSearchCV(estimator=pipe, param_grid=params, cv=inner_cv, scoring='accuracy',n_jobs=8)\n",
    "            clf=GridSearchCV(ovo,{'estimator__n_estimators':np.arange(10, 500, 10)}, cv=inner_cv)\n",
    "            clf.fit(X_train, y_train)\n",
    "            y_predict=clf.predict(X_test)\n",
    "            conf_mx=confusion_matrix(y_test,y_predict)\n",
    "            \n",
    "            row_sums=conf_mx.sum(axis=1,keepdims=True)\n",
    "            norm_conf_mx=conf_mx/row_sums\n",
    "            np.fill_diagonal(norm_conf_mx,0)\n",
    "            plt.matshow(norm_conf_mx,cmap=plt.cm.gray)\n",
    "            plt.show()\n",
    "\n",
    "\n",
    "\n",
    "\n",
    "\n",
    "            \n",
    "          "
   ]
  },
  {
   "cell_type": "code",
   "execution_count": null,
   "metadata": {
    "collapsed": true
   },
   "outputs": [],
   "source": []
  },
  {
   "cell_type": "code",
   "execution_count": null,
   "metadata": {
    "collapsed": true,
    "scrolled": false
   },
   "outputs": [],
   "source": [
    "y_predict.shape"
   ]
  },
  {
   "cell_type": "code",
   "execution_count": null,
   "metadata": {
    "collapsed": true
   },
   "outputs": [],
   "source": []
  },
  {
   "cell_type": "code",
   "execution_count": null,
   "metadata": {
    "collapsed": true
   },
   "outputs": [],
   "source": []
  },
  {
   "cell_type": "code",
   "execution_count": null,
   "metadata": {
    "collapsed": true,
    "scrolled": true
   },
   "outputs": [],
   "source": []
  },
  {
   "cell_type": "code",
   "execution_count": null,
   "metadata": {
    "collapsed": true
   },
   "outputs": [],
   "source": []
  },
  {
   "cell_type": "code",
   "execution_count": null,
   "metadata": {
    "collapsed": true
   },
   "outputs": [],
   "source": []
  }
 ],
 "metadata": {
  "kernelspec": {
   "display_name": "Python 3",
   "language": "python",
   "name": "python3"
  },
  "language_info": {
   "codemirror_mode": {
    "name": "ipython",
    "version": 3
   },
   "file_extension": ".py",
   "mimetype": "text/x-python",
   "name": "python",
   "nbconvert_exporter": "python",
   "pygments_lexer": "ipython3",
   "version": "3.5.4"
  }
 },
 "nbformat": 4,
 "nbformat_minor": 2
}
