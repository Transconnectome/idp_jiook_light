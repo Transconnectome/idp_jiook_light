{
 "cells": [
  {
   "cell_type": "code",
   "execution_count": 1,
   "metadata": {
    "code_folding": [
     26
    ],
    "collapsed": true
   },
   "outputs": [],
   "source": [
    "from __future__ import print_function\n",
    "import pickle\n",
    "import os\n",
    "import scipy.io\n",
    "from scipy import stats\n",
    "import scipy.stats as st\n",
    "from sklearn.decomposition import PCA\n",
    "import pandas as pd\n",
    "from numpy import *\n",
    "from sklearn.svm import SVC\n",
    "from sklearn import linear_model\n",
    "import numpy as np\n",
    "from matplotlib import pyplot as plt\n",
    "from scipy import stats\n",
    "import pandas as pd\n",
    "import argparse\n",
    "from sklearn.model_selection import GridSearchCV, cross_val_score,cross_val_predict,StratifiedKFold\n",
    "from sklearn.feature_selection import SelectFromModel\n",
    "from sklearn.pipeline import Pipeline\n",
    "from sklearn.metrics import roc_auc_score,confusion_matrix\n",
    "from sklearn.preprocessing import StandardScaler\n",
    "from sklearn.ensemble import RandomForestClassifier\n",
    "from sklearn.ensemble import ExtraTreesClassifier\n",
    "from sklearn.metrics import accuracy_score\n",
    "from sklearn.metrics import roc_curve, auc,f1_score\n",
    "\n",
    "##read the data and clean data\n",
    "def data_fetch_clean(file,type):\n",
    "    #os.getcwd()\n",
    "    #os.chdir('../braindata')\n",
    "    dd =pd.read_csv(file,header=0)\n",
    "    print(dd.shape)\n",
    "    import csv\n",
    "\n",
    "    with open(file, 'r') as f:\n",
    "        d_reader = csv.DictReader(f)\n",
    "\n",
    "        #get fieldnames from DictReader object and store in list\n",
    "        headers = d_reader.fieldnames\n",
    "    data=np.array(dd)\n",
    "    #print(data.shape)\n",
    "    idx_IN_columns = np.array(range(18,data.shape[1]))\n",
    "   # idx_IN_columns = np.append(np.array([3]),np.array(range(11,data.shape[1])))\n",
    "\n",
    "    print(idx_IN_columns)\n",
    "    X=data[:,idx_IN_columns]\n",
    "    #features=data[:,11:data.shape[1]]\n",
    "    #features = features.transpose()\n",
    "    X = stats.zscore(X)\n",
    "    #print(features.shape)\n",
    "    y=data[:,type]\n",
    "#/ 6:AD-normal / 7:AD-MCI / 8:MCI-normal \n",
    "\n",
    "\n",
    "    ind_num=np.isnan(y)\n",
    "    # print(ind_num.shape)\n",
    "\n",
    "\n",
    "    y_no_nan = y[~ind_num]\n",
    "\n",
    "    X_no_nan = X[~ind_num,:]\n",
    "\n",
    "           # print(y.shape)\n",
    "\n",
    "    y=y_no_nan\n",
    "    X=X_no_nan\n",
    "    feature_num_all=[]\n",
    "    lr_all_feature=[]\n",
    "    svm_all_feature=[]\n",
    "    lr_fls_feature=[]\n",
    "    svm_fls_feature=[]\n",
    "    base_labels= []\n",
    "\n",
    "    np.isnan(X).any()\n",
    "\n",
    "    X[np.isnan(X)] = np.median(X[~np.isnan(X)])\n",
    "    return X,y"
   ]
  },
  {
   "cell_type": "code",
   "execution_count": null,
   "metadata": {
    "collapsed": true
   },
   "outputs": [],
   "source": []
  },
  {
   "cell_type": "code",
   "execution_count": 2,
   "metadata": {
    "code_folding": [],
    "collapsed": true
   },
   "outputs": [],
   "source": [
    "def main_classifier(X,y,name,filename,params,pipe,path_to_save,key):\n",
    "    all_TP = []\n",
    "    all_TN = []\n",
    "    all_FP = []\n",
    "    all_FN = []\n",
    "\n",
    "    all_acc = []\n",
    "    all_sen = []\n",
    "    all_spec = []\n",
    "    all_auc = []\n",
    "\n",
    "    all_roc_label = []\n",
    "    all_roc_pred = []\n",
    "    all_roc_prob = []\n",
    "    all_features=[]\n",
    "    n_fold = 3\n",
    "    #rs_list=[33994,31358,27381,8642,7012,42023,44642,44002,30706,12571]\n",
    "    rs_list=[33994]\n",
    "    for rs in rs_list:\n",
    "        print('********random seed:{}'.format(rs))\n",
    "\n",
    "        inner_cv = StratifiedKFold(n_splits=n_fold, shuffle=True, random_state=rs)\n",
    "        outer_cv = StratifiedKFold(n_splits=n_fold, shuffle=True, random_state=rs)\n",
    "\n",
    "        scaler = StandardScaler()\n",
    "        scaler.fit(X)\n",
    "        X = scaler.transform(X)\n",
    "        avg_auc = []\n",
    "        avg_acc = []\n",
    "        avg_TP = []\n",
    "        avg_TN = []\n",
    "        avg_FP = []\n",
    "        avg_FN = []\n",
    "        avg_sen = []\n",
    "        avg_spec = []\n",
    "     \n",
    "        roc_label = []\n",
    "        roc_pred = []\n",
    "        roc_prob = []\n",
    "        features=[]\n",
    "        for train_index, test_index in outer_cv.split(X, y):\n",
    "            X_train, X_test = X[train_index], X[test_index]\n",
    "            y_train, y_test = y[train_index], y[test_index]\n",
    "            # 'featureExtract__n_estimators': np.arange(10, 100, 10),\n",
    "#             params = {'randomforest__min_samples_leaf': np.arange(1, 51, 5),\n",
    "#                       'randomforest__n_estimators': np.arange(10, 500, 10)}\n",
    "#             # clf_m = RandomForestClassifier(random_state=0)\n",
    "\n",
    "#             pipe = Pipeline([\n",
    "#                 ('featureExtract', SelectFromModel(ExtraTreesClassifier())),\n",
    "#                 ('randomforest', RandomForestClassifier())\n",
    "#             ])\n",
    "\n",
    "            clf = GridSearchCV(estimator=pipe, param_grid=params, cv=inner_cv, scoring='accuracy',n_jobs=1)\n",
    "            clf.fit(X_train, y_train)\n",
    "\n",
    "            fs = clf.best_estimator_.named_steps['featureExtract']\n",
    "            mask = fs.get_support(indices=True)\n",
    "            print(mask.shape)\n",
    "            #features=np.append(features,mask[:10,])\n",
    "            y_pred = clf.predict(X_test)\n",
    "            y_prob = clf.predict_proba(X_test)\n",
    "          #  roc_pred = clf.predict_proba(X_test)\n",
    "\n",
    "            acc = accuracy_score(y_test, y_pred)\n",
    "            auc = roc_auc_score(y_test, y_prob[:, 1])\n",
    "\n",
    "            roc_label = np.append(roc_label, y_test)\n",
    "            roc_pred = np.append(roc_pred, y_pred)\n",
    "            roc_prob = np.append(roc_prob, y_prob[:, 1])\n",
    "\n",
    "\n",
    "            conf_mat = confusion_matrix(y_test, y_pred)\n",
    "\n",
    "            TP = conf_mat[0][0]\n",
    "            FP = conf_mat[0][1]\n",
    "            FN = conf_mat[1][0]\n",
    "            TN = conf_mat[1][1]\n",
    "\n",
    "            avg_TP = np.append(avg_TP, TP)\n",
    "            avg_TN = np.append(avg_TN, TN)\n",
    "            avg_FP = np.append(avg_FP, FP)\n",
    "            avg_FN = np.append(avg_FN, FN)\n",
    "\n",
    "            avg_acc = np.append(avg_acc, acc)\n",
    "\n",
    "            print(TP, FP, FN, TN)\n",
    "            sen = TP / (TP + FN)\n",
    "            spec = TN / (TN + FP)\n",
    "\n",
    "            avg_sen = np.append(avg_sen, sen)\n",
    "            avg_spec = np.append(avg_spec, spec)\n",
    "            avg_auc = np.append(avg_auc, auc)\n",
    "        \n",
    "#             print('Accuracy:{},AUC:{}'.format(acc, auc))\n",
    "#             print('Sensitivity:{},Specificity:{}'.format(sen, spec))\n",
    "#             print('Accuracy:{},AUC:{}'.format(acc, auc))\n",
    "#             print('Sensitivity:{},Specificity:{}'.format(sen, spec))\n",
    "        all_TP = np.append(all_TP, avg_TP)\n",
    "        all_TN = np.append(all_TN, avg_TN)\n",
    "        all_FP = np.append(all_FP, avg_FP)\n",
    "        all_FN = np.append(all_FN, avg_FN)\n",
    "\n",
    "        all_acc = np.append(all_acc, avg_acc)\n",
    "        all_sen = np.append(all_sen, avg_sen)\n",
    "        all_spec = np.append(all_spec, avg_spec)\n",
    "        all_auc = np.append(all_auc, avg_auc)\n",
    "\n",
    "        all_roc_label = np.append(all_roc_label, roc_label)\n",
    "        all_roc_pred = np.append(all_roc_pred, roc_pred)\n",
    "        all_roc_prob = np.append(all_roc_prob, roc_prob)\n",
    "        all_features=np.append(all_features,features)\n",
    "#         print(\"Accuracy Avg: {}\".format(np.mean(avg_acc)))\n",
    "#         print(\"Accuracy Standard Deviation: {}\".format(np.std(avg_acc)))\n",
    "#         print(\"Sensitivity Avg: {}\".format(np.mean(avg_sen)))\n",
    "#         print(\"Sensitivity Standard Deviation: {}\".format(np.std(avg_sen)))\n",
    "#         print(\"Specificity Avg: {}\".format(np.mean(avg_spec)))\n",
    "#         print(\"Specificity Standard Deviation: {}\".format(np.std(avg_spec)))\n",
    "\n",
    "        #if dataset == 1:\n",
    "    pickle.dump(all_roc_label, open(path_to_save+'/'+'roc_label_'+name+'.p', \"wb\"))\n",
    "    pickle.dump(all_roc_pred, open(path_to_save+'/'+'roc_pred_'+name+'.p', \"wb\"))\n",
    "    pickle.dump(all_roc_prob, open(path_to_save+'/'+'roc_prob_'+name+'.p', \"wb\"))\n",
    "    pickle.dump(all_features, open(path_to_save+'/'+'features_30'+name+'.p', \"wb\"))\n",
    "\n",
    "    acc_CI=st.t.interval(0.95, len(all_acc)-1, loc=np.mean(all_acc), scale=st.sem(all_acc))\n",
    "    sen_CI=st.t.interval(0.95, len(all_sen)-1, loc=np.mean(all_sen), scale=st.sem(all_sen))\n",
    "    spec_CI=st.t.interval(0.95, len(all_spec)-1, loc=np.mean(all_spec), scale=st.sem(all_spec))\n",
    "    auc_CI=st.t.interval(0.95, len(all_auc)-1, loc=np.mean(all_auc), scale=st.sem(all_auc))\n",
    "    import os\n",
    "    \n",
    "#     if not os.path.exists('../imgs3_idp/'+  todaystr+'/'+filename):\n",
    "#         os.makedirs('../imgs3_idp/'+filename)\n",
    "    txt_name=path_to_save+'/'+name +  '.txt'\n",
    "    print(\"ACC={a}, 95%CI={l}-{u}\".format(a=np.mean(all_acc), l=acc_CI[0],u=acc_CI[1]),file=open(txt_name, \"a\"))\n",
    "    print(\"AUC={a}, 95%CI={l}-{u}\".format(a=np.mean(all_auc), l=auc_CI[0],u=auc_CI[1]),file=open(txt_name, \"a\"))\n",
    "    print(\"SENSITIVITY={a}, 95%CI={l}-{u}\".format(a=np.mean(all_sen), l=sen_CI[0],u=sen_CI[1]),file=open(txt_name, \"a\"))\n",
    "    print(\"SPECIFICITY={a}, 95%CI={l}-{u}\".format(a=np.mean(all_spec), l=spec_CI[0],u=spec_CI[1]),file=open(txt_name, \"a\"))\n",
    "\n",
    "    fpr = dict()\n",
    "    tpr = dict()\n",
    "    roc_auc = dict()\n",
    "\n",
    "    fpr, tpr, _ = roc_curve(all_roc_label, all_roc_prob)\n",
    "    #auc = roc_auc_score(all_roc_label, all_roc_prob)\n",
    "\n",
    "    plt.figure()\n",
    "\n",
    "    plt.plot(fpr, tpr, lw=2, label=key+ ' '+'(AUC = %0.2f)' % np.mean(all_auc))\n",
    "    plt.plot([0, 1], [0, 1], color='gray', lw=1, linestyle='--')\n",
    "    plt.xlim([-0.01, 1.01])\n",
    "    plt.ylim([-0.01, 1.01])\n",
    "    plt.xlabel('False Positive Rate')\n",
    "    plt.ylabel('True Positive Rate')\n",
    "    plt.title(name)\n",
    "    plt.legend(loc=\"lower right\") \n",
    "    #plt.savefig('10x_Combined_ROC.eps')\n",
    "    roc_name=path_to_save+'/'+name +'.pdf'\n",
    "    plt.savefig(roc_name)\n",
    "    #plt.show()\n",
    "\n",
    "    "
   ]
  },
  {
   "cell_type": "code",
   "execution_count": 3,
   "metadata": {
    "collapsed": true
   },
   "outputs": [],
   "source": [
    "save_name=[\"MCI converter\"]\n"
   ]
  },
  {
   "cell_type": "code",
   "execution_count": 4,
   "metadata": {
    "collapsed": true
   },
   "outputs": [],
   "source": [
    "filename='combine_MConly'\n",
    "file=filename+'.csv'\n",
    "cwd=os.getcwd()\n",
    "os.chdir('../data/adni')"
   ]
  },
  {
   "cell_type": "code",
   "execution_count": 5,
   "metadata": {
    "collapsed": true
   },
   "outputs": [],
   "source": [
    "import time, datetime, os\n",
    "\n",
    "today = datetime.date.today()  \n",
    "\n",
    "todaystr = today.isoformat()  \n",
    "if not os.path.exists('../../imgs3_adni/'+todaystr):\n",
    "   # print('exist')\n",
    "    os.mkdir('../../imgs3_adni/'+ todaystr)\n",
    "    #os.mkdir('../../imgs3_adni/'+ todaystr+'/'+filename)\n",
    "if not os.path.exists('../../imgs3_adni/'+todaystr+'/'+filename):\n",
    "   # print('exist')\n",
    "    #os.mkdir('../../imgs3_adni/'+ todaystr)\n",
    "    os.mkdir('../../imgs3_adni/'+ todaystr+'/'+filename)"
   ]
  },
  {
   "cell_type": "code",
   "execution_count": 6,
   "metadata": {
    "collapsed": true
   },
   "outputs": [],
   "source": [
    "models1 = { \n",
    "    \n",
    "    'RandomForestClassifier': RandomForestClassifier(),\n",
    "    'SVC': SVC(probability=True),\n",
    "    'linear_model.LogisticRegression':linear_model.LogisticRegression()\n",
    "    \n",
    "}\n",
    "\n",
    "params1 = { \n",
    "            'RandomForestClassifier': [{ 'RandomForestClassifier__n_estimators': np.arange(10, 500, 50) },\n",
    "                                       {'RandomForestClassifier__min_samples_leaf': np.arange(1, 51, 5)},\n",
    "                                      ],\n",
    "    'SVC': [\n",
    "        {'SVC__kernel': ['linear'], 'SVC__C': [0.001,0.01,0.1,1, 10]},\n",
    "    ],\n",
    "    'linear_model.LogisticRegression':{'linear_model.LogisticRegression__C':[0.001, 0.01, 0.1, 1, 10]}\n",
    "}\n",
    "\n",
    "path_save='../../imgs3_adni/' + todaystr+'/'+filename+'/'\n",
    "# C={}\n",
    "# C['models']=models\n",
    "# C['params']=params\n",
    "# C['keys']=models.keys()"
   ]
  },
  {
   "cell_type": "code",
   "execution_count": null,
   "metadata": {
    "collapsed": true
   },
   "outputs": [],
   "source": []
  },
  {
   "cell_type": "code",
   "execution_count": 7,
   "metadata": {},
   "outputs": [
    {
     "name": "stdout",
     "output_type": "stream",
     "text": [
      "RandomForestClassifier\n",
      "(60, 34727)\n",
      "[   18    19    20 ... 34724 34725 34726]\n",
      "********random seed:33994\n"
     ]
    },
    {
     "name": "stderr",
     "output_type": "stream",
     "text": [
      "/Users/posnerlab/miniconda3/lib/python3.6/site-packages/scipy/stats/stats.py:2253: RuntimeWarning: invalid value encountered in true_divide\n",
      "  return (a - mns) / sstd\n"
     ]
    },
    {
     "name": "stdout",
     "output_type": "stream",
     "text": [
      "(14,)\n",
      "13 0 8 0\n"
     ]
    },
    {
     "name": "stderr",
     "output_type": "stream",
     "text": [
      "/Users/posnerlab/miniconda3/lib/python3.6/site-packages/ipykernel_launcher.py:89: RuntimeWarning: invalid value encountered in long_scalars\n"
     ]
    },
    {
     "name": "stdout",
     "output_type": "stream",
     "text": [
      "(17,)\n",
      "12 1 7 0\n",
      "(19,)\n",
      "12 0 7 0\n",
      "SVC\n"
     ]
    },
    {
     "name": "stderr",
     "output_type": "stream",
     "text": [
      "/Users/posnerlab/miniconda3/lib/python3.6/site-packages/ipykernel_launcher.py:89: RuntimeWarning: invalid value encountered in long_scalars\n"
     ]
    },
    {
     "name": "stdout",
     "output_type": "stream",
     "text": [
      "(60, 34727)\n",
      "[   18    19    20 ... 34724 34725 34726]\n",
      "********random seed:33994\n"
     ]
    },
    {
     "name": "stderr",
     "output_type": "stream",
     "text": [
      "/Users/posnerlab/miniconda3/lib/python3.6/site-packages/scipy/stats/stats.py:2253: RuntimeWarning: invalid value encountered in true_divide\n",
      "  return (a - mns) / sstd\n"
     ]
    },
    {
     "name": "stdout",
     "output_type": "stream",
     "text": [
      "(19,)\n",
      "13 0 7 1\n",
      "(17,)\n",
      "11 2 7 0\n",
      "(18,)\n",
      "11 1 6 1\n",
      "linear_model.LogisticRegression\n",
      "(60, 34727)\n",
      "[   18    19    20 ... 34724 34725 34726]\n",
      "********random seed:33994\n"
     ]
    },
    {
     "name": "stderr",
     "output_type": "stream",
     "text": [
      "/Users/posnerlab/miniconda3/lib/python3.6/site-packages/scipy/stats/stats.py:2253: RuntimeWarning: invalid value encountered in true_divide\n",
      "  return (a - mns) / sstd\n"
     ]
    },
    {
     "name": "stdout",
     "output_type": "stream",
     "text": [
      "(17,)\n",
      "8 5 5 3\n",
      "(21,)\n",
      "8 5 2 5\n",
      "(18,)\n",
      "8 4 6 1\n"
     ]
    },
    {
     "data": {
      "image/png": "[encoded data removed]",
      "text/plain": [
       "<Figure size 432x288 with 1 Axes>"
      ]
     },
     "metadata": {},
     "output_type": "display_data"
    },
    {
     "data": {
      "image/png": "[encoded data removed]",
      "text/plain": [
       "<Figure size 432x288 with 1 Axes>"
      ]
     },
     "metadata": {},
     "output_type": "display_data"
    },
    {
     "data": {
      "image/png": "[encoded data removed]",
      "text/plain": [
       "<Figure size 432x288 with 1 Axes>"
      ]
     },
     "metadata": {},
     "output_type": "display_data"
    }
   ],
   "source": [
    "for key, value in models1.items():\n",
    "    pipe=Pipeline([('PCA',PCA()),\n",
    "                ('featureExtract', SelectFromModel(ExtraTreesClassifier())),\n",
    "                (key, models1[key])\n",
    "            ])\n",
    "    print(key)\n",
    "    para=params1[key]\n",
    "    path_to_save=path_save+key\n",
    "    if not os.path.exists(path_to_save):\n",
    "        os.mkdir(path_to_save)\n",
    "    \n",
    "   \n",
    "   \n",
    "    X,y=data_fetch_clean(file,3)\n",
    "\n",
    "    y = y.reshape(-1)\n",
    "    name=save_name[0]\n",
    "    main_classifier(X,y,name,filename,para,pipe,path_to_save,key)\n"
   ]
  }
 ],
 "metadata": {
  "kernelspec": {
   "display_name": "Python 3",
   "language": "python",
   "name": "python3"
  },
  "language_info": {
   "codemirror_mode": {
    "name": "ipython",
    "version": 3
   },
   "file_extension": ".py",
   "mimetype": "text/x-python",
   "name": "python",
   "nbconvert_exporter": "python",
   "pygments_lexer": "ipython3",
   "version": "3.6.3"
  }
 },
 "nbformat": 4,
 "nbformat_minor": 2
}
