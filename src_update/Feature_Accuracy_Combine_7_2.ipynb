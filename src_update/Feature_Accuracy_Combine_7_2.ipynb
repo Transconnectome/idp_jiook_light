{
 "cells": [
  {
   "cell_type": "code",
   "execution_count": 1,
   "metadata": {},
   "outputs": [],
   "source": [
    "# Import modules\n",
    "from __future__ import print_function\n",
    "import pickle\n",
    "import os\n",
    "import scipy.io\n",
    "from scipy import stats\n",
    "import scipy.stats as st\n",
    "\n",
    "import pandas as pd\n",
    "from numpy import *\n",
    "\n",
    "import numpy as np\n",
    "from matplotlib import pyplot as plt\n",
    "from scipy import stats\n",
    "import pandas as pd\n",
    "import argparse\n",
    "from sklearn.model_selection import GridSearchCV, cross_val_score,cross_val_predict,StratifiedKFold\n",
    "from sklearn.feature_selection import SelectFromModel\n",
    "from sklearn.pipeline import Pipeline\n",
    "from sklearn.metrics import roc_auc_score,confusion_matrix\n",
    "from sklearn.preprocessing import StandardScaler\n",
    "from sklearn.ensemble import RandomForestClassifier\n",
    "from sklearn.ensemble import ExtraTreesClassifier\n",
    "from sklearn.metrics import accuracy_score\n",
    "from sklearn.metrics import roc_curve, auc,f1_score\n",
    "##read the data and clean data\n",
    "def argumentparser():\n",
    "    parser = argparse.ArgumentParser(description='PyTorch Connectome CNN')\n",
    "    # hyper-parameters\n",
    "    parser.add_argument('--dataset', type=int, default=1, help='select a dataset (1:connectome, 2: connectome + morphometry)')\n",
    "    return parser\n",
    "def data_fetch_clean(file,type):\n",
    "    #os.getcwd()\n",
    "    #os.chdir('../braindata')\n",
    "    dd =pd.read_csv(file,header=0)\n",
    "    print(dd.shape)\n",
    "    import csv\n",
    "\n",
    "    with open(file, 'r') as f:\n",
    "        d_reader = csv.DictReader(f)\n",
    "\n",
    "        #get fieldnames from DictReader object and store in list\n",
    "        headers = d_reader.fieldnames\n",
    "    data=np.array(dd)\n",
    "    #print(data.shape)\n",
    "    idx_IN_columns = np.append(np.array([3,4]),np.array(range(11,data.shape[1])))\n",
    "    print(idx_IN_columns)\n",
    "    X=data[:,idx_IN_columns]\n",
    "    #features=data[:,11:data.shape[1]]\n",
    "    #features = features.transpose()\n",
    "    X = stats.zscore(X)\n",
    "    #print(features.shape)\n",
    "    y=data[:,type]\n",
    "    #5: ad-smi / 6:mci-smi / 7:adonly-smi / 8:ad-mci / 9:adonly-mci / 10:adonly - adwithsmallvv\n",
    "\n",
    "\n",
    "    ind_num=np.isnan(y)\n",
    "    # print(ind_num.shape)\n",
    "\n",
    "\n",
    "    y_no_nan = y[~ind_num]\n",
    "\n",
    "    X_no_nan = X[~ind_num,:]\n",
    "\n",
    "           # print(y.shape)\n",
    "\n",
    "    y=y_no_nan\n",
    "    X=X_no_nan\n",
    "    feature_num_all=[]\n",
    "    lr_all_feature=[]\n",
    "    svm_all_feature=[]\n",
    "    lr_fls_feature=[]\n",
    "    svm_fls_feature=[]\n",
    "    base_labels= []\n",
    "\n",
    "    np.isnan(X).any()\n",
    "\n",
    "    X[np.isnan(X)] = np.median(X[~np.isnan(X)])\n",
    "    return X,y\n",
    "\n",
    "#classification and cross validation "
   ]
  },
  {
   "cell_type": "code",
   "execution_count": 2,
   "metadata": {},
   "outputs": [],
   "source": [
    "def clf_randomforest(X,y,name,filename):\n",
    "    all_TP = []\n",
    "    all_TN = []\n",
    "    all_FP = []\n",
    "    all_FN = []\n",
    "\n",
    "    all_acc = []\n",
    "    all_sen = []\n",
    "    all_spec = []\n",
    "    all_auc = []\n",
    "\n",
    "    all_roc_label = []\n",
    "    all_roc_pred = []\n",
    "    all_roc_prob = []\n",
    "    n_fold = 3\n",
    "    rs_list=[33994,31358,27381,8642,7012,42023,44642,44002,30706,12571]\n",
    "    for rs in rs_list:\n",
    "        print('********random seed:{}'.format(rs))\n",
    "\n",
    "\n",
    "      \n",
    "\n",
    "        inner_cv = StratifiedKFold(n_splits=n_fold, shuffle=True, random_state=rs)\n",
    "        outer_cv = StratifiedKFold(n_splits=n_fold, shuffle=True, random_state=rs)\n",
    "\n",
    "        scaler = StandardScaler()\n",
    "        scaler.fit(X)\n",
    "        X = scaler.transform(X)\n",
    "        avg_auc = []\n",
    "        avg_acc = []\n",
    "        avg_TP = []\n",
    "        avg_TN = []\n",
    "        avg_FP = []\n",
    "        avg_FN = []\n",
    "        avg_sen = []\n",
    "        avg_spec = []\n",
    "     \n",
    "        roc_label = []\n",
    "        roc_pred = []\n",
    "        roc_prob = []\n",
    "        for train_index, test_index in outer_cv.split(X, y):\n",
    "            X_train, X_test = X[train_index], X[test_index]\n",
    "            y_train, y_test = y[train_index], y[test_index]\n",
    "            # 'featureExtract__n_estimators': np.arange(10, 100, 10),\n",
    "            params = {'randomforest__min_samples_leaf': np.arange(1, 51, 5),\n",
    "                      'randomforest__n_estimators': np.arange(10, 500, 10)}\n",
    "            # clf_m = RandomForestClassifier(random_state=0)\n",
    "\n",
    "            pipe = Pipeline([\n",
    "                ('featureExtract', SelectFromModel(ExtraTreesClassifier())),\n",
    "                ('randomforest', RandomForestClassifier())\n",
    "            ])\n",
    "\n",
    "            clf = GridSearchCV(estimator=pipe, param_grid=params, cv=inner_cv, scoring='accuracy',n_jobs=-1)\n",
    "            clf.fit(X_train, y_train)\n",
    "\n",
    "            fs = clf.best_estimator_.named_steps['featureExtract']\n",
    "            mask = fs.get_support()\n",
    "            y_pred = clf.predict(X_test)\n",
    "            y_prob = clf.predict_proba(X_test)\n",
    "          #  roc_pred = clf.predict_proba(X_test)\n",
    "\n",
    "            acc = accuracy_score(y_test, y_pred)\n",
    "            auc = roc_auc_score(y_test, y_prob[:, 1])\n",
    "\n",
    "            roc_label = np.append(roc_label, y_test)\n",
    "            roc_pred = np.append(roc_pred, y_pred)\n",
    "            roc_prob = np.append(roc_prob, y_prob[:, 1])\n",
    "\n",
    "\n",
    "            conf_mat = confusion_matrix(y_test, y_pred)\n",
    "\n",
    "            TP = conf_mat[0][0]\n",
    "            FP = conf_mat[0][1]\n",
    "            FN = conf_mat[1][0]\n",
    "            TN = conf_mat[1][1]\n",
    "\n",
    "            avg_TP = np.append(avg_TP, TP)\n",
    "            avg_TN = np.append(avg_TN, TN)\n",
    "            avg_FP = np.append(avg_FP, FP)\n",
    "            avg_FN = np.append(avg_FN, FN)\n",
    "\n",
    "            avg_acc = np.append(avg_acc, acc)\n",
    "\n",
    "            print(TP, FP, FN, TN)\n",
    "            sen = TP / (TP + FN)\n",
    "            spec = TN / (TN + FP)\n",
    "\n",
    "            avg_sen = np.append(avg_sen, sen)\n",
    "            avg_spec = np.append(avg_spec, spec)\n",
    "            avg_auc = np.append(avg_auc, auc)\n",
    "        \n",
    "#             print('Accuracy:{},AUC:{}'.format(acc, auc))\n",
    "#             print('Sensitivity:{},Specificity:{}'.format(sen, spec))\n",
    "#             print('Accuracy:{},AUC:{}'.format(acc, auc))\n",
    "#             print('Sensitivity:{},Specificity:{}'.format(sen, spec))\n",
    "        all_TP = np.append(all_TP, avg_TP)\n",
    "        all_TN = np.append(all_TN, avg_TN)\n",
    "        all_FP = np.append(all_FP, avg_FP)\n",
    "        all_FN = np.append(all_FN, avg_FN)\n",
    "\n",
    "        all_acc = np.append(all_acc, avg_acc)\n",
    "        all_sen = np.append(all_sen, avg_sen)\n",
    "        all_spec = np.append(all_spec, avg_spec)\n",
    "        all_auc = np.append(all_auc, avg_auc)\n",
    "\n",
    "        all_roc_label = np.append(all_roc_label, roc_label)\n",
    "        all_roc_pred = np.append(all_roc_pred, roc_pred)\n",
    "        all_roc_prob = np.append(all_roc_prob, roc_prob)\n",
    "\n",
    "        print(\"Accuracy Avg: {}\".format(np.mean(avg_acc)))\n",
    "        print(\"Accuracy Standard Deviation: {}\".format(np.std(avg_acc)))\n",
    "        print(\"Sensitivity Avg: {}\".format(np.mean(avg_sen)))\n",
    "        print(\"Sensitivity Standard Deviation: {}\".format(np.std(avg_sen)))\n",
    "        print(\"Specificity Avg: {}\".format(np.mean(avg_spec)))\n",
    "        print(\"Specificity Standard Deviation: {}\".format(np.std(avg_spec)))\n",
    "\n",
    "        #if dataset == 1:\n",
    "#     pickle.dump(all_roc_label, open('roc_label_'+name+'.p', \"wb\"))\n",
    "#     pickle.dump(all_roc_pred, open('roc_pred_'+name+'.p', \"wb\"))\n",
    "#     pickle.dump(all_roc_prob, open('roc_prob_'+name+'.p', \"wb\"))\n",
    "    acc_CI=st.t.interval(0.95, len(all_acc)-1, loc=np.mean(all_acc), scale=st.sem(all_acc))\n",
    "    sen_CI=st.t.interval(0.95, len(all_sen)-1, loc=np.mean(all_sen), scale=st.sem(all_sen))\n",
    "    spec_CI=st.t.interval(0.95, len(all_spec)-1, loc=np.mean(all_spec), scale=st.sem(all_spec))\n",
    "    auc_CI=st.t.interval(0.95, len(all_auc)-1, loc=np.mean(all_auc), scale=st.sem(all_auc))\n",
    "    import os\n",
    "    \n",
    "    if not os.path.exists('../imgs3_idp/'+filename):\n",
    "        os.makedirs('../imgs3_idp/'+filename)\n",
    "    txt_name='../imgs3_idp/' + filename+'/'+name +  '.txt'\n",
    "    print(\"RF_ACC={a}, 95%CI={l}-{u}\".format(a=np.mean(all_acc), l=acc_CI[0],u=acc_CI[1]),file=open(txt_name, \"a\"))\n",
    "    print(\"RF_AUC={a}, 95%CI={l}-{u}\".format(a=np.mean(all_auc), l=auc_CI[0],u=auc_CI[1]),file=open(txt_name, \"a\"))\n",
    "    print(\"RF_SENSITIVITY={a}, 95%CI={l}-{u}\".format(a=np.mean(all_sen), l=sen_CI[0],u=sen_CI[1]),file=open(txt_name, \"a\"))\n",
    "    print(\"RF_SPECIFICITY={a}, 95%CI={l}-{u}\".format(a=np.mean(all_spec), l=spec_CI[0],u=spec_CI[1]),file=open(txt_name, \"a\"))\n",
    "\n",
    "    fpr = dict()\n",
    "    tpr = dict()\n",
    "    roc_auc = dict()\n",
    "\n",
    "    fpr, tpr, _ = roc_curve(all_roc_label, all_roc_prob)\n",
    "    #auc = roc_auc_score(all_roc_label, all_roc_prob)\n",
    "\n",
    "    plt.figure()\n",
    "\n",
    "    plt.plot(fpr, tpr, lw=2, label='random forest (AUC = %0.2f)' % np.mean(all_auc))\n",
    "    plt.plot([0, 1], [0, 1], color='gray', lw=1, linestyle='--')\n",
    "    plt.xlim([-0.01, 1.01])\n",
    "    plt.ylim([-0.01, 1.01])\n",
    "    plt.xlabel('False Positive Rate')\n",
    "    plt.ylabel('True Positive Rate')\n",
    "    plt.title(filename)\n",
    "    plt.legend(loc=\"lower right\") \n",
    "    #plt.savefig('10x_Combined_ROC.eps')\n",
    "    roc_name='../imgs3_idp/' + filename+'/'+name +  '.pdf'\n",
    "    plt.savefig(roc_name)\n",
    "    plt.show()\n",
    "\n",
    "    "
   ]
  },
  {
   "cell_type": "code",
   "execution_count": null,
   "metadata": {},
   "outputs": [],
   "source": [
    "\n",
    "\n"
   ]
  },
  {
   "cell_type": "code",
   "execution_count": 3,
   "metadata": {},
   "outputs": [],
   "source": [
    "save_name=[\"AD vs SMC\",\"MCI vs SMC\",\"ADonly vs SMC\",\"AD vs MCI\",\"ADonly vs MCI\",\"ADonly vs ADwithsmallvv\"]\n"
   ]
  },
  {
   "cell_type": "code",
   "execution_count": 4,
   "metadata": {},
   "outputs": [],
   "source": [
    "# filename=\"comine_new.csv\"\n",
    "# cwd=os.getcwd()\n",
    "# cwd\n",
    "\n",
    "# # os.chdir('../data/adni')\n",
    "# import pandas as pd\n",
    "# pd.read_csv('combine_new.csv')"
   ]
  },
  {
   "cell_type": "code",
   "execution_count": null,
   "metadata": {},
   "outputs": [],
   "source": []
  },
  {
   "cell_type": "code",
   "execution_count": 5,
   "metadata": {},
   "outputs": [
    {
     "name": "stdout",
     "output_type": "stream",
     "text": [
      "(208, 34657)\n",
      "[    3     4    11 ... 34654 34655 34656]\n"
     ]
    },
    {
     "name": "stderr",
     "output_type": "stream",
     "text": [
      "/Users/posnerlab/miniconda3/lib/python3.6/site-packages/scipy/stats/stats.py:2253: RuntimeWarning: invalid value encountered in true_divide\n",
      "  return (a - mns) / sstd\n"
     ]
    },
    {
     "name": "stdout",
     "output_type": "stream",
     "text": [
      "********random seed:33994\n",
      "3 1 0 7\n",
      "4 0 0 7\n",
      "4 0 1 5\n",
      "3 1 0 6\n",
      "2 2 2 4\n",
      "3 1 1 5\n",
      "1 2 0 6\n",
      "2 1 0 6\n",
      "2 1 2 4\n",
      "3 0 1 5\n",
      "Accuracy Avg: 0.8331313131313131\n",
      "Accuracy Standard Deviation: 0.11618866615221292\n",
      "Sensitivity Avg: 0.8300000000000001\n",
      "Sensitivity Standard Deviation: 0.19390719429665315\n",
      "Specificity Avg: 0.8639285714285714\n",
      "Specificity Standard Deviation: 0.10614889480574315\n"
     ]
    },
    {
     "data": {
      "image/png": "[encoded data removed]",
      "text/plain": [
       "<Figure size 432x288 with 1 Axes>"
      ]
     },
     "metadata": {},
     "output_type": "display_data"
    },
    {
     "name": "stdout",
     "output_type": "stream",
     "text": [
      "(208, 34657)\n",
      "[    3     4    11 ... 34654 34655 34656]\n"
     ]
    },
    {
     "name": "stderr",
     "output_type": "stream",
     "text": [
      "/Users/posnerlab/miniconda3/lib/python3.6/site-packages/scipy/stats/stats.py:2253: RuntimeWarning: invalid value encountered in true_divide\n",
      "  return (a - mns) / sstd\n"
     ]
    },
    {
     "name": "stdout",
     "output_type": "stream",
     "text": [
      "********random seed:33994\n",
      "2 5 2 9\n",
      "3 4 1 10\n",
      "2 4 0 11\n",
      "3 3 0 11\n",
      "5 1 0 11\n",
      "4 2 0 11\n",
      "2 4 0 11\n",
      "2 4 0 11\n",
      "4 2 0 11\n",
      "3 3 2 9\n",
      "Accuracy Avg: 0.7862745098039216\n",
      "Accuracy Standard Deviation: 0.09299898003011585\n",
      "Sensitivity Avg: 0.885\n",
      "Sensitivity Standard Deviation: 0.18445866745696715\n",
      "Specificity Avg: 0.7701831501831502\n",
      "Specificity Standard Deviation: 0.0755375748241947\n"
     ]
    },
    {
     "data": {
      "image/png": "[encoded data removed]",
      "text/plain": [
       "<Figure size 432x288 with 1 Axes>"
      ]
     },
     "metadata": {},
     "output_type": "display_data"
    },
    {
     "name": "stdout",
     "output_type": "stream",
     "text": [
      "(208, 34657)\n",
      "[    3     4    11 ... 34654 34655 34656]\n"
     ]
    },
    {
     "name": "stderr",
     "output_type": "stream",
     "text": [
      "/Users/posnerlab/miniconda3/lib/python3.6/site-packages/scipy/stats/stats.py:2253: RuntimeWarning: invalid value encountered in true_divide\n",
      "  return (a - mns) / sstd\n"
     ]
    },
    {
     "name": "stdout",
     "output_type": "stream",
     "text": [
      "********random seed:33994\n",
      "4 0 1 7\n",
      "4 0 0 8\n",
      "4 0 0 8\n",
      "4 0 0 8\n",
      "4 0 0 8\n",
      "4 0 0 8\n",
      "2 1 0 8\n",
      "3 0 0 8\n",
      "3 0 0 8\n",
      "3 0 1 6\n",
      "Accuracy Avg: 0.9725757575757576\n",
      "Accuracy Standard Deviation: 0.04205712368781967\n",
      "Sensitivity Avg: 0.9550000000000001\n",
      "Sensitivity Standard Deviation: 0.09069178573608527\n",
      "Specificity Avg: 0.9888888888888889\n",
      "Specificity Standard Deviation: 0.03333333333333335\n"
     ]
    },
    {
     "name": "stderr",
     "output_type": "stream",
     "text": [
      "/Users/posnerlab/miniconda3/lib/python3.6/site-packages/scipy/stats/_distn_infrastructure.py:1910: RuntimeWarning: invalid value encountered in multiply\n",
      "  lower_bound = self.a * scale + loc\n",
      "/Users/posnerlab/miniconda3/lib/python3.6/site-packages/scipy/stats/_distn_infrastructure.py:1911: RuntimeWarning: invalid value encountered in multiply\n",
      "  upper_bound = self.b * scale + loc\n"
     ]
    },
    {
     "data": {
      "image/png": "[encoded data removed]",
      "text/plain": [
       "<Figure size 432x288 with 1 Axes>"
      ]
     },
     "metadata": {},
     "output_type": "display_data"
    },
    {
     "name": "stdout",
     "output_type": "stream",
     "text": [
      "(208, 34657)\n",
      "[    3     4    11 ... 34654 34655 34656]\n"
     ]
    },
    {
     "name": "stderr",
     "output_type": "stream",
     "text": [
      "/Users/posnerlab/miniconda3/lib/python3.6/site-packages/scipy/stats/stats.py:2253: RuntimeWarning: invalid value encountered in true_divide\n",
      "  return (a - mns) / sstd\n"
     ]
    },
    {
     "name": "stdout",
     "output_type": "stream",
     "text": [
      "********random seed:33994\n",
      "2 5 2 6\n",
      "6 1 0 8\n",
      "3 3 0 8\n",
      "4 2 0 8\n",
      "5 1 1 7\n",
      "5 1 1 7\n",
      "2 4 2 6\n",
      "1 5 1 7\n",
      "4 2 1 7\n",
      "4 2 2 5\n",
      "Accuracy Avg: 0.7444688644688645\n",
      "Accuracy Standard Deviation: 0.1357730935945081\n",
      "Sensitivity Avg: 0.7633333333333334\n",
      "Sensitivity Standard Deviation: 0.1991370270832513\n",
      "Specificity Avg: 0.7387012987012987\n",
      "Specificity Standard Deviation: 0.12101395860287145\n"
     ]
    },
    {
     "data": {
      "image/png": "[encoded data removed]",
      "text/plain": [
       "<Figure size 432x288 with 1 Axes>"
      ]
     },
     "metadata": {},
     "output_type": "display_data"
    },
    {
     "name": "stdout",
     "output_type": "stream",
     "text": [
      "(208, 34657)\n",
      "[    3     4    11 ... 34654 34655 34656]\n",
      "********random seed:33994\n"
     ]
    },
    {
     "name": "stderr",
     "output_type": "stream",
     "text": [
      "/Users/posnerlab/miniconda3/lib/python3.6/site-packages/scipy/stats/stats.py:2253: RuntimeWarning: invalid value encountered in true_divide\n",
      "  return (a - mns) / sstd\n"
     ]
    },
    {
     "name": "stdout",
     "output_type": "stream",
     "text": [
      "2 2 0 8\n",
      "0 3 0 8\n"
     ]
    },
    {
     "name": "stderr",
     "output_type": "stream",
     "text": [
      "/Users/posnerlab/miniconda3/lib/python3.6/site-packages/ipykernel_launcher.py:86: RuntimeWarning: invalid value encountered in long_scalars\n"
     ]
    },
    {
     "name": "stdout",
     "output_type": "stream",
     "text": [
      "0 3 0 8\n"
     ]
    },
    {
     "name": "stderr",
     "output_type": "stream",
     "text": [
      "/Users/posnerlab/miniconda3/lib/python3.6/site-packages/ipykernel_launcher.py:86: RuntimeWarning: invalid value encountered in long_scalars\n"
     ]
    },
    {
     "name": "stdout",
     "output_type": "stream",
     "text": [
      "1 2 0 8\n",
      "1 2 1 7\n",
      "0 3 0 8\n"
     ]
    },
    {
     "name": "stderr",
     "output_type": "stream",
     "text": [
      "/Users/posnerlab/miniconda3/lib/python3.6/site-packages/ipykernel_launcher.py:86: RuntimeWarning: invalid value encountered in long_scalars\n"
     ]
    },
    {
     "name": "stdout",
     "output_type": "stream",
     "text": [
      "1 2 0 8\n",
      "0 3 0 8\n"
     ]
    },
    {
     "name": "stderr",
     "output_type": "stream",
     "text": [
      "/Users/posnerlab/miniconda3/lib/python3.6/site-packages/ipykernel_launcher.py:86: RuntimeWarning: invalid value encountered in long_scalars\n"
     ]
    },
    {
     "name": "stdout",
     "output_type": "stream",
     "text": [
      "0 3 0 8\n"
     ]
    },
    {
     "name": "stderr",
     "output_type": "stream",
     "text": [
      "/Users/posnerlab/miniconda3/lib/python3.6/site-packages/ipykernel_launcher.py:86: RuntimeWarning: invalid value encountered in long_scalars\n"
     ]
    },
    {
     "name": "stdout",
     "output_type": "stream",
     "text": [
      "0 3 1 6\n",
      "Accuracy Avg: 0.7433333333333333\n",
      "Accuracy Standard Deviation: 0.0643402628335291\n",
      "Sensitivity Avg: nan\n",
      "Sensitivity Standard Deviation: nan\n",
      "Specificity Avg: 0.7480808080808081\n",
      "Specificity Standard Deviation: 0.04214482297339535\n"
     ]
    },
    {
     "data": {
      "image/png": "[encoded data removed]",
      "text/plain": [
       "<Figure size 432x288 with 1 Axes>"
      ]
     },
     "metadata": {},
     "output_type": "display_data"
    }
   ],
   "source": [
    "filename='data_3_all'\n",
    "file=filename+'.csv'\n",
    "cwd=os.getcwd()\n",
    "os.chdir('../braindata')\n",
    "for i in range(5,11):\n",
    "#     parser = argumentparser()\n",
    "#     args = parser.parse_args()\n",
    "\n",
    "    X,y=data_fetch_clean(file,i)\n",
    "    \n",
    "\n",
    "#     X,y=data_fetch_clean()\n",
    "    y = y.reshape(-1)\n",
    "    name=save_name[i-6]\n",
    "#     if args.dataset == 1:\n",
    "    clf_randomforest(X,y,name,filename)\n",
    "#     elif args.dataset == 2:\n",
    "#         clf_randomforest(X, y, 1)"
   ]
  },
  {
   "cell_type": "code",
   "execution_count": 6,
   "metadata": {},
   "outputs": [],
   "source": [
    "#os.chdir('Mor_only_6_25')\n",
    "\n",
    "# for i in range(6,11):\n",
    "#         name=save_name[i-6]\n",
    "\n",
    "#         label=pickle.load(open('roc_label_'+name+'.p',\"rb\" ) )\n",
    "\n",
    "#         pred=pickle.load(open('roc_pred_'+name+'.p',\"rb\" ) )\n",
    "\n",
    "#         pp=pickle.load(open('roc_prob_'+name+'.p',\"rb\" ) )\n",
    "\n",
    "#         import numpy as np \n",
    "#         from sklearn.metrics import roc_curve, auc,f1_score\n",
    "#         import matplotlib.pyplot as plt\n",
    "#         fpr = dict()\n",
    "#         tpr = dict()\n",
    "#         roc_auc = dict()\n",
    "\n",
    "#         fpr, tpr, _ = roc_curve(label, pp)\n",
    "#         roc_auc = auc(fpr, tpr)\n",
    "\n",
    "#         plt.figure()\n",
    "#         plt.plot(fpr, tpr, lw=5, label='Random Forest(area = %0.2f)' % roc_auc)\n",
    "\n",
    "#         plt.plot([0, 1], [0, 1], color='navy', lw=5, linestyle='--')\n",
    "#         plt.xlim([0.0, 1.0])\n",
    "#         plt.ylim([0.0, 1.0])\n",
    "#         plt.xlabel('False Positive Rate')\n",
    "#         plt.ylabel('True Positive Rate')\n",
    "#         plt.title(name)\n",
    "#         plt.legend(loc=\"lower right\") \n",
    "#         roc_path=\"ROC_\"+name+\"_connectome.pdf\"\n",
    "#         plt.savefig(roc_path)"
   ]
  },
  {
   "cell_type": "code",
   "execution_count": null,
   "metadata": {},
   "outputs": [],
   "source": [
    "\n"
   ]
  },
  {
   "cell_type": "code",
   "execution_count": null,
   "metadata": {},
   "outputs": [],
   "source": []
  },
  {
   "cell_type": "code",
   "execution_count": null,
   "metadata": {},
   "outputs": [],
   "source": []
  }
 ],
 "metadata": {
  "kernelspec": {
   "display_name": "Python 3",
   "language": "python",
   "name": "python3"
  },
  "language_info": {
   "codemirror_mode": {
    "name": "ipython",
    "version": 3
   },
   "file_extension": ".py",
   "mimetype": "text/x-python",
   "name": "python",
   "nbconvert_exporter": "python",
   "pygments_lexer": "ipython3",
   "version": "3.6.3"
  }
 },
 "nbformat": 4,
 "nbformat_minor": 2
}
