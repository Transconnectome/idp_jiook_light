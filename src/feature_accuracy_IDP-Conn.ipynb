{
 "cells": [
  {
   "cell_type": "code",
   "execution_count": 28,
   "metadata": {},
   "outputs": [
    {
     "name": "stdout",
     "output_type": "stream",
     "text": [
      "../braindata/data_2_conn_select_100.csv\n",
      "(211,)\n",
      "0.818181818182\n",
      "0.909090909091\n",
      "../braindata/data_2_conn_select_500.csv\n",
      "(211,)\n"
     ]
    },
    {
     "name": "stderr",
     "output_type": "stream",
     "text": [
      "/Users/yunwang/anaconda/lib/python3.6/site-packages/sklearn/metrics/classification.py:1113: UndefinedMetricWarning: F-score is ill-defined and being set to 0.0 due to no predicted samples.\n",
      "  'precision', 'predicted', average, warn_for)\n"
     ]
    },
    {
     "name": "stdout",
     "output_type": "stream",
     "text": [
      "0.818181818182\n",
      "0.909090909091\n",
      "../braindata/data_2_conn_select_1000.csv\n",
      "(211,)\n",
      "0.772727272727\n",
      "0.95974025974\n",
      "../braindata/data_2_conn_select_3000.csv\n",
      "(211,)\n",
      "0.8\n",
      "0.954545454545\n",
      "../braindata/data_2_conn_select_4000.csv\n",
      "(211,)\n",
      "0.814285714286\n",
      "0.954545454545\n",
      "../braindata/data_2_conn_select_5000.csv\n",
      "(211,)\n",
      "0.818181818182\n",
      "0.954545454545\n",
      "../braindata/data_2_conn_select_6000.csv\n",
      "(211,)\n",
      "0.827272727273\n",
      "0.954545454545\n",
      "../braindata/data_2_conn_select_7000.csv\n",
      "(211,)\n",
      "0.788311688312\n",
      "0.954545454545\n",
      "../braindata/data_2_conn_select_8000.csv\n",
      "(211,)\n",
      "0.801298701299\n",
      "0.954545454545\n",
      "../braindata/data_2_conn_select_9000.csv\n",
      "(211,)\n",
      "0.788311688312\n",
      "0.954545454545\n",
      "../braindata/data_2_conn_select_10000.csv\n",
      "(211,)\n",
      "0.775324675325\n",
      "1.0\n",
      "../braindata/data_2_conn_select_20000.csv\n",
      "(211,)\n",
      "0.774494949495\n",
      "0.954545454545\n",
      "../braindata/data_2_conn_select_30000.csv\n",
      "(211,)\n",
      "0.775324675325\n",
      "1.0\n"
     ]
    }
   ],
   "source": [
    "import numpy as np\n",
    "import pandas as pd\n",
    "from pprint import pprint\n",
    "from os import listdir\n",
    "from os.path import isfile, join\n",
    "from sklearn.model_selection import StratifiedKFold\n",
    "from scipy import stats\n",
    "import numpy as np\n",
    "from sklearn import linear_model, svm\n",
    "import re\n",
    "from sklearn.metrics import roc_curve, auc,f1_score\n",
    "\n",
    "\n",
    "n_features = [100,1000,10000,20000,3000,30000,4000,500,5000,6000,7000,8000,9000]\n",
    "#n_features = [100,1000]\n",
    "\n",
    "n_features.sort()\n",
    "s = \"../braindata/data_2_conn_select_100.csv\"\n",
    "lr_all_feature=[]\n",
    "svm_all_feature=[]\n",
    "lr_fls_feature=[]\n",
    "svm_fls_feature=[]\n",
    "\n",
    "for i in n_features:\n",
    "    lr_all_accs = []\n",
    "    lr_all_scores = []\n",
    "    lr_f1s = []\n",
    "    svm_all_accs = []\n",
    "    svm_all_scores = []\n",
    "    svm_f1s = []\n",
    "    base_labels = []\n",
    "    #lr_accuracies = []\n",
    "    #svm_accuracies = []\n",
    "    \n",
    "    replaced = re.sub('100', str(i), s)\n",
    "    print(replaced)\n",
    "    dd =pd.read_csv(replaced,header=0)\n",
    "    data=np.array(dd)\n",
    "        #print(data.shape)\n",
    "    idx_IN_columns = np.append(np.array([3,4]),np.array(range(11,data.shape[1])))\n",
    "    features=data[:,idx_IN_columns]\n",
    "        #features=data[:,11:data.shape[1]]\n",
    "        #features = features.transpose()\n",
    "    features = stats.zscore(features)\n",
    "        #print(features.shape)\n",
    "    y=data[:,6]\n",
    "        #print(y)\n",
    "    print(y.shape)\n",
    "        #5: ad-smi / 6:mci-smi / 7:adonly-smi / 8:ad-mci / 9:adonly-mci / 10:adonly - adwithsmallvv\n",
    "\n",
    "    ind_num=np.isnan(y)\n",
    "       # print(ind_num.shape)\n",
    "    y_no_nan = y[~ind_num]\n",
    "    features_no_nan = features[~ind_num,:]\n",
    "\n",
    "       # print(y.shape)\n",
    "\n",
    "    y=y_no_nan\n",
    "    features=features_no_nan\n",
    "    \n",
    "    for runs in range(10):\n",
    "        lr_accuracies = []\n",
    "        lr_scores = []\n",
    "        svm_accuracies = []\n",
    "        svm_scores = []\n",
    "        strat_labels = []\n",
    "\n",
    "        logistic = linear_model.LogisticRegression(C=1e5)\n",
    "        rbf = svm.SVC(C=10,kernel='linear',gamma=0.01)\n",
    "       \n",
    "        skf = StratifiedKFold(n_splits=10)\n",
    "    for train_index, test_index in skf.split(features, y):\n",
    "                train_data, test_data = features[train_index], features[test_index]\n",
    "                train_labels, test_labels = y[train_index], y[test_index]\n",
    "\n",
    "                strat_labels = np.append(strat_labels, test_labels)\n",
    "\n",
    "                log = logistic.fit(train_data, train_labels)\n",
    "                log_prob = log.decision_function(test_data)\n",
    "                log_acc = log.score(test_data, test_labels)\n",
    "\n",
    "                #f1 calculation\n",
    "                y_pred = logistic.predict(test_data)\n",
    "                log_f1 = f1_score(test_labels, y_pred)\n",
    "\n",
    "                lr_accuracies = np.append(lr_accuracies, log_acc)\n",
    "                lr_scores = np.append(lr_scores, log_prob)\n",
    "                lr_f1s = np.append(lr_f1s, log_f1)\n",
    "                #print('Logistic Regression Accuracy: %f' % log_acc)\n",
    "\n",
    "                rbf = rbf.fit(train_data, train_labels)\n",
    "                svm_acc = rbf.score(test_data, test_labels)\n",
    "                svm_prob = rbf.decision_function(test_data)\n",
    "\n",
    "                #f1 calculation\n",
    "                y_pred = rbf.predict(test_data)\n",
    "                svm_f1 = f1_score(test_labels, y_pred)\n",
    "                #print('SVM Accuracy: %f' % svm_acc)\n",
    "                svm_accuracies = np.append(svm_accuracies, svm_acc)\n",
    "                svm_scores = np.append(svm_scores, svm_prob)\n",
    "                svm_f1s = np.append(svm_f1s, svm_f1)\n",
    "\n",
    "                base_labels = np.append(base_labels, strat_labels)\n",
    "                lr_all_scores = np.append(lr_all_scores, lr_scores)\n",
    "                lr_fold_avg = np.mean(lr_accuracies)\n",
    "                lr_all_accs = np.append(lr_all_accs, lr_fold_avg)\n",
    "                svm_all_scores = np.append(svm_all_scores, svm_scores)\n",
    "                svm_fold_avg = np.mean(svm_accuracies)\n",
    "                svm_all_accs = np.append(svm_all_accs, svm_fold_avg)\n",
    "                #print('Logistic Regression Accuracy: %f' % log_acc_avg)\n",
    "                #print('SVM Regression Accuracy: %f' % svm_acc_avg)\n",
    "    print(max(lr_all_accs))\n",
    "    print(max(svm_all_accs))\n",
    "    \n",
    "    lr_all_feature=np.append(lr_all_feature,np.mean(lr_all_accs))\n",
    "    svm_all_feature=np.append(svm_all_feature,np.mean(svm_all_accs))\n",
    "    lr_fls_feature=np.append(lr_fls_feature,np.mean(lr_f1s))\n",
    "    svm_fls_feature=np.append(svm_fls_feature,np.mean(svm_f1s))"
   ]
  },
  {
   "cell_type": "code",
   "execution_count": 35,
   "metadata": {},
   "outputs": [
    {
     "data": {
      "image/png": "[encoded data removed]",
      "text/plain": [
       "<matplotlib.figure.Figure at 0x119509e80>"
      ]
     },
     "metadata": {},
     "output_type": "display_data"
    }
   ],
   "source": [
    "import matplotlib.pyplot as plt\n",
    "plt.figure()\n",
    "plt.plot(n_features, lr_all_feature*100, lw=1, label='Logistic Regression')\n",
    "plt.plot(n_features, svm_all_feature*100, lw=1, label='SVM')\n",
    "plt.xlim([0, 30000])\n",
    "plt.ylim([0, 100])\n",
    "plt.xlabel('Number of Features')\n",
    "plt.ylabel('Accuracy')\n",
    "plt.title('Number of Features vs Accuracy')\n",
    "plt.legend(loc=\"lower right\")\n",
    "plt.savefig('AD_SMI_Conn_Only.eps')\n",
    "plt.show()"
   ]
  },
  {
   "cell_type": "code",
   "execution_count": 30,
   "metadata": {},
   "outputs": [
    {
     "name": "stdout",
     "output_type": "stream",
     "text": [
      "[ 1.          1.          0.93333333  0.93333333  0.92307692  0.92307692\n",
      "  1.          0.8         0.28571429]\n",
      "LR accuracy Avg: 0.7431806095139427\n",
      "LR accuracy Standard Deviation: 0.02190947753858812\n",
      "LR f1s Avg : 0.6392656488810335\n",
      "LR f1s Standard Deviation: 0.32350752173752156\n",
      "SVM Avg: 0.9057388074888075\n",
      "SVM Standard Deviation: 0.05566067926261496\n",
      "SVM f1s Avg : 0.7682222051452823\n",
      "SVM f1s Standard Deviation: 0.014861269273292543\n"
     ]
    }
   ],
   "source": [
    "svm_f1s=svm_f1s[np.nonzero(svm_f1s)]\n",
    "print(svm_f1s)\n",
    "\n",
    "print(\"LR accuracy Avg: {}\".format(np.mean(lr_all_feature)))\n",
    "print(\"LR accuracy Standard Deviation: {}\".format(np.std(lr_all_feature)))\n",
    "\n",
    "print(\"LR f1s Avg : {}\".format(np.mean( lr_fls_feature)))\n",
    "print(\"LR f1s Standard Deviation: {}\".format(np.std(lr_f1s)))\n",
    "\n",
    "print(\"SVM Avg: {}\".format(np.mean(svm_all_feature)))\n",
    "print(\"SVM Standard Deviation: {}\".format(np.std(svm_all_accs)))\n",
    "\n",
    "print(\"SVM f1s Avg : {}\".format(np.mean( svm_fls_feature )))\n",
    "print(\"SVM f1s Standard Deviation: {}\".format(np.std(svm_fls_feature)))\n",
    "#print(lr_all_accs)"
   ]
  },
  {
   "cell_type": "code",
   "execution_count": 12,
   "metadata": {},
   "outputs": [
    {
     "data": {
      "text/plain": [
       "array([ 0.63636364,  0.72727273,  0.6969697 ,  0.72727273,  0.72181818,\n",
       "        0.75151515,  0.77272727,  0.74558081,  0.69977553,  0.6520202 ])"
      ]
     },
     "execution_count": 12,
     "metadata": {},
     "output_type": "execute_result"
    }
   ],
   "source": [
    "lr_all_accs"
   ]
  },
  {
   "cell_type": "code",
   "execution_count": 16,
   "metadata": {},
   "outputs": [
    {
     "data": {
      "text/plain": [
       "array([ 0.63636364,  0.72727273,  0.6969697 ,  0.72727273,  0.72181818,\n",
       "        0.75151515,  0.77272727,  0.74558081,  0.69977553,  0.6520202 ])"
      ]
     },
     "execution_count": 16,
     "metadata": {},
     "output_type": "execute_result"
    }
   ],
   "source": [
    "lr_all_accs"
   ]
  },
  {
   "cell_type": "code",
   "execution_count": 23,
   "metadata": {},
   "outputs": [
    {
     "data": {
      "text/plain": [
       "array([ 0.83406285,  0.91513592])"
      ]
     },
     "execution_count": 23,
     "metadata": {},
     "output_type": "execute_result"
    }
   ],
   "source": [
    " svm_all_feature"
   ]
  },
  {
   "cell_type": "code",
   "execution_count": null,
   "metadata": {
    "collapsed": true
   },
   "outputs": [],
   "source": []
  }
 ],
 "metadata": {
  "kernelspec": {
   "display_name": "Python 3",
   "language": "python",
   "name": "python3"
  },
  "language_info": {
   "codemirror_mode": {
    "name": "ipython",
    "version": 3
   },
   "file_extension": ".py",
   "mimetype": "text/x-python",
   "name": "python",
   "nbconvert_exporter": "python",
   "pygments_lexer": "ipython3",
   "version": "3.6.1"
  }
 },
 "nbformat": 4,
 "nbformat_minor": 2
}
