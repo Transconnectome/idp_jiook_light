{
 "cells": [
  {
   "cell_type": "code",
   "execution_count": 1,
   "metadata": {
    "collapsed": false
   },
   "outputs": [
    {
     "name": "stdout",
     "output_type": "stream",
     "text": [
      "30162 > 28125 edges\n",
      "Layer 0: M_0 = |V| = 6116 nodes (491 added),|E| = 30162 edges\n",
      "Layer 1: M_1 = |V| = 3058 nodes (130 added),|E| = 13743 edges\n",
      "Layer 2: M_2 = |V| = 1529 nodes (0 added),|E| = 5947 edges\n",
      "Execution time: 5.44s\n"
     ]
    }
   ],
   "source": [
    "import sys, os\n",
    "sys.path.insert(0, '..')\n",
    "from lib import models, graph, coarsening, utils\n",
    "\n",
    "import tensorflow as tf\n",
    "import numpy as np\n",
    "import time\n",
    "from sklearn.model_selection import train_test_split\n",
    "from sklearn.model_selection import StratifiedKFold\n",
    "from sklearn.model_selection import LeaveOneOut\n",
    "from scipy import stats\n",
    "import numpy as np\n",
    "\n",
    "flags = tf.app.flags\n",
    "FLAGS = flags.FLAGS\n",
    "\n",
    "# Graphs.\n",
    "flags.DEFINE_integer('number_edges', 10, 'Graph: minimum number of edges per vertex.')\n",
    "flags.DEFINE_string('metric', 'euclidean', 'Graph: similarity measure (between features).')\n",
    "# TODO: change cgcnn for combinatorial Laplacians.\n",
    "flags.DEFINE_bool('normalized_laplacian', True, 'Graph Laplacian: normalized.')\n",
    "flags.DEFINE_integer('coarsening_levels', 2, 'Number of coarsened graphs.')\n",
    "\n",
    "# Directories.\n",
    "#flags.DEFINE_string('dir_data', os.path.join('..', 'data', 'mnist'), 'Directory to store data.')\n",
    "def grid_graph(m, corners=False):\n",
    "    z = graph.grid(m)\n",
    "    dist, idx = graph.distance_sklearn_metrics(z, k=FLAGS.number_edges, metric=FLAGS.metric)\n",
    "    A = graph.adjacency(dist, idx)\n",
    "\n",
    "    # Connections are only vertical or horizontal on the grid.\n",
    "    # Corner vertices are connected to 2 neightbors only.\n",
    "    if corners:\n",
    "        import scipy.sparse\n",
    "        A = A.toarray()\n",
    "        A[A < A.max()/1.5] = 0\n",
    "        A = scipy.sparse.csr_matrix(A)\n",
    "        print('{} edges'.format(A.nnz))\n",
    "    print(\"{} > {} edges\".format(A.nnz//2, FLAGS.number_edges*m**2//2))\n",
    "    return A\n",
    "\n",
    "t_start = time.process_time()\n",
    "A = grid_graph(75, corners=False)\n",
    "A = graph.replace_random_edges(A, 0)\n",
    "graphs, perm = coarsening.coarsen(A, levels=FLAGS.coarsening_levels, self_connections=False)\n",
    "L = [graph.laplacian(A, normalized=True) for A in graphs]\n",
    "print('Execution time: {:.2f}s'.format(time.process_time() - t_start))\n",
    "#graph.plot_spectrum(L)\n",
    "#del A\n",
    "\n",
    "features = np.loadtxt(open(\"../final_data.csv\", \"rb\"), delimiter=\",\", skiprows=1, usecols=range(1,94) )\n",
    "features = features.transpose()\n",
    "features = stats.zscore(features)\n",
    "y = np.loadtxt(open(\"../all_data.csv\", \"rb\"), delimiter=\",\", skiprows=1, usecols=range(1,94))\n",
    "y = y[0,:]\n",
    "\n",
    "bin_ixs = []\n",
    "train_ixs = []\n",
    " \n",
    "skf = StratifiedKFold(n_splits=10)\n",
    "for train_index, test_index in skf.split(features, y):\n",
    "    bin_ixs.append(test_index)\n",
    "\n",
    "common = {}\n",
    "common['dir_name']       = 'mnist/'\n",
    "common['num_epochs']     = 15\n",
    "common['batch_size']     = 10\n",
    "common['eval_frequency'] = common['num_epochs']\n",
    "common['brelu']          = 'b1relu'\n",
    "common['pool']           = 'mpool1'\n",
    "C = max(y) + 1  # number of classes\n",
    "\n",
    "model_perf = utils.model_perf()"
   ]
  },
  {
   "cell_type": "code",
   "execution_count": 2,
   "metadata": {
    "collapsed": false
   },
   "outputs": [
    {
     "name": "stdout",
     "output_type": "stream",
     "text": [
      "\n",
      " RUN: 0 **************************************************************************************************** \n",
      "\n",
      "\n",
      " Fold: 0 **************************************************************************************************** \n",
      "\n"
     ]
    },
    {
     "ename": "AssertionError",
     "evalue": "",
     "output_type": "error",
     "traceback": [
      "\u001b[0;31m---------------------------------------------------------------------------\u001b[0m",
      "\u001b[0;31mAssertionError\u001b[0m                            Traceback (most recent call last)",
      "\u001b[0;32m<ipython-input-2-f3332bf6663c>\u001b[0m in \u001b[0;36m<module>\u001b[0;34m()\u001b[0m\n\u001b[1;32m     36\u001b[0m \u001b[0;34m\u001b[0m\u001b[0m\n\u001b[1;32m     37\u001b[0m         \u001b[0;31m#t_start = time.process_time()\u001b[0m\u001b[0;34m\u001b[0m\u001b[0;34m\u001b[0m\u001b[0m\n\u001b[0;32m---> 38\u001b[0;31m         \u001b[0mtrain_data\u001b[0m \u001b[0;34m=\u001b[0m \u001b[0mcoarsening\u001b[0m\u001b[0;34m.\u001b[0m\u001b[0mperm_data\u001b[0m\u001b[0;34m(\u001b[0m\u001b[0mtrain_data\u001b[0m\u001b[0;34m,\u001b[0m \u001b[0mperm\u001b[0m\u001b[0;34m)\u001b[0m\u001b[0;34m\u001b[0m\u001b[0m\n\u001b[0m\u001b[1;32m     39\u001b[0m         \u001b[0mval_data\u001b[0m \u001b[0;34m=\u001b[0m \u001b[0mcoarsening\u001b[0m\u001b[0;34m.\u001b[0m\u001b[0mperm_data\u001b[0m\u001b[0;34m(\u001b[0m\u001b[0mval_data\u001b[0m\u001b[0;34m,\u001b[0m \u001b[0mperm\u001b[0m\u001b[0;34m)\u001b[0m\u001b[0;34m\u001b[0m\u001b[0m\n\u001b[1;32m     40\u001b[0m         \u001b[0mtest_data\u001b[0m \u001b[0;34m=\u001b[0m \u001b[0mcoarsening\u001b[0m\u001b[0;34m.\u001b[0m\u001b[0mperm_data\u001b[0m\u001b[0;34m(\u001b[0m\u001b[0mtest_data\u001b[0m\u001b[0;34m,\u001b[0m \u001b[0mperm\u001b[0m\u001b[0;34m)\u001b[0m\u001b[0;34m\u001b[0m\u001b[0m\n",
      "\u001b[0;32m/Users/juke/Documents/bitbucket/graph_hsrp17/lib/coarsening.py\u001b[0m in \u001b[0;36mperm_data\u001b[0;34m(x, indices)\u001b[0m\n\u001b[1;32m    227\u001b[0m     \u001b[0mN\u001b[0m\u001b[0;34m,\u001b[0m \u001b[0mM\u001b[0m \u001b[0;34m=\u001b[0m \u001b[0mx\u001b[0m\u001b[0;34m.\u001b[0m\u001b[0mshape\u001b[0m\u001b[0;34m\u001b[0m\u001b[0m\n\u001b[1;32m    228\u001b[0m     \u001b[0mMnew\u001b[0m \u001b[0;34m=\u001b[0m \u001b[0mlen\u001b[0m\u001b[0;34m(\u001b[0m\u001b[0mindices\u001b[0m\u001b[0;34m)\u001b[0m\u001b[0;34m\u001b[0m\u001b[0m\n\u001b[0;32m--> 229\u001b[0;31m     \u001b[0;32massert\u001b[0m \u001b[0mMnew\u001b[0m \u001b[0;34m>=\u001b[0m \u001b[0mM\u001b[0m\u001b[0;34m\u001b[0m\u001b[0m\n\u001b[0m\u001b[1;32m    230\u001b[0m     \u001b[0mxnew\u001b[0m \u001b[0;34m=\u001b[0m \u001b[0mnp\u001b[0m\u001b[0;34m.\u001b[0m\u001b[0mempty\u001b[0m\u001b[0;34m(\u001b[0m\u001b[0;34m(\u001b[0m\u001b[0mN\u001b[0m\u001b[0;34m,\u001b[0m \u001b[0mMnew\u001b[0m\u001b[0;34m)\u001b[0m\u001b[0;34m)\u001b[0m\u001b[0;34m\u001b[0m\u001b[0m\n\u001b[1;32m    231\u001b[0m     \u001b[0;32mfor\u001b[0m \u001b[0mi\u001b[0m\u001b[0;34m,\u001b[0m\u001b[0mj\u001b[0m \u001b[0;32min\u001b[0m \u001b[0menumerate\u001b[0m\u001b[0;34m(\u001b[0m\u001b[0mindices\u001b[0m\u001b[0;34m)\u001b[0m\u001b[0;34m:\u001b[0m\u001b[0;34m\u001b[0m\u001b[0m\n",
      "\u001b[0;31mAssertionError\u001b[0m: "
     ]
    }
   ],
   "source": [
    "total_accuracies = []\n",
    "all_scores = []\n",
    "all_labels = []\n",
    "sep = '*' * 100\n",
    "for runs in range(10):\n",
    "    print(\"\\n RUN: {} {} \\n\".format(runs, sep))\n",
    "    fold_acc = []\n",
    "    roc_scores = []\n",
    "    labels = []\n",
    "    \n",
    "    for i in range(skf.get_n_splits(features, y)):\n",
    "        bins = list(range(skf.get_n_splits(features, y)))\n",
    "        print(\"\\n Fold: {} {} \\n\".format(i, sep))\n",
    "        train_data = np.empty([0,features.shape[1]])\n",
    "        train_labels = [] \n",
    "        val_ix = i\n",
    "        if val_ix == max(bins):\n",
    "            test_ix = 0\n",
    "            bins.remove(val_ix)\n",
    "            bins.remove(test_ix)\n",
    "\n",
    "        else:\n",
    "            test_ix = val_ix + 1\n",
    "            bins.remove(test_ix)\n",
    "            bins.remove(val_ix)\n",
    "\n",
    "        val_data, val_labels = features[bin_ixs[val_ix]], y[bin_ixs[val_ix]]\n",
    "        test_data, test_labels = features[bin_ixs[test_ix]], y[bin_ixs[test_ix]]\n",
    "        for b in bins:\n",
    "            train_data = np.concatenate((train_data, features[bin_ixs[b]]))\n",
    "            train_labels = np.concatenate((train_labels, y[bin_ixs[b]]))\n",
    "\n",
    "        #print(train_data.shape)\n",
    "        #print(val_data.shape)\n",
    "        #print(test_data.shape)\n",
    "\n",
    "        #t_start = time.process_time()\n",
    "        train_data = coarsening.perm_data(train_data, perm)\n",
    "        val_data = coarsening.perm_data(val_data, perm)\n",
    "        test_data = coarsening.perm_data(test_data, perm)\n",
    "\n",
    "        common['decay_steps'] = len(train_labels) / common['batch_size']\n",
    "\n",
    "        #print('Execution time: {:.2f}s'.format(time.process_time() - t_start))\n",
    "        name = 'softmax'\n",
    "        params = common.copy()\n",
    "        params['dir_name'] += name\n",
    "        params['regularization'] = 0.5\n",
    "        params['dropout']        = 0\n",
    "        params['learning_rate']  = 0.02\n",
    "        params['decay_rate']     = .8 #.95\n",
    "        params['momentum']       = 0.9\n",
    "        params['F']              = [10]\n",
    "        params['K']              = [20]\n",
    "        params['p']              = [1]\n",
    "        params['M']              = [C]\n",
    "        scores, y_labels, test_accuracy = model_perf.show(model_perf.test(models.cgcnn(L, **params), name, params, \n",
    "                                                                          train_data, train_labels, val_data, val_labels, \n",
    "                                                                          test_data, test_labels, val_ix))\n",
    "        fold_acc = np.append(fold_acc, test_accuracy)\n",
    "        roc_scores = np.append(roc_scores, scores)\n",
    "        labels = np.append(labels, y_labels)  \n",
    "    roc_scores = [roc_scores]\n",
    "    labels = [labels]\n",
    "    all_scores = np.append(all_scores, roc_scores)\n",
    "    all_labels = np.append(all_labels, labels)\n",
    "    fold_avg = np.mean(fold_acc)\n",
    "    total_accuracies = np.append(total_accuracies, fold_avg)"
   ]
  },
  {
   "cell_type": "code",
   "execution_count": 3,
   "metadata": {
    "collapsed": false
   },
   "outputs": [
    {
     "name": "stdout",
     "output_type": "stream",
     "text": [
      "Runs Avg: 89.58333333333334\n",
      "Standard Deviation: 2.0284625936475047\n"
     ]
    }
   ],
   "source": [
    "print(\"Runs Avg: {}\".format(np.mean(total_accuracies)))\n",
    "print(\"Standard Deviation: {}\".format(np.std(total_accuracies)))"
   ]
  },
  {
   "cell_type": "markdown",
   "metadata": {},
   "source": [
    "# Baseline"
   ]
  },
  {
   "cell_type": "code",
   "execution_count": 4,
   "metadata": {
    "collapsed": true
   },
   "outputs": [],
   "source": [
    "from sklearn.model_selection import StratifiedKFold\n",
    "from scipy import stats\n",
    "import numpy as np\n",
    "from sklearn import linear_model, svm\n",
    "from sklearn.metrics import roc_curve, auc\n",
    "import matplotlib.pyplot as plt\n",
    "\n",
    "features = np.loadtxt(open(\"../final_data.csv\", \"rb\"), delimiter=\",\", skiprows=1, usecols=range(1,94) )\n",
    "features = features.transpose()\n",
    "features = stats.zscore(features)\n",
    "y = np.loadtxt(open(\"../all_data.csv\", \"rb\"), delimiter=\",\", skiprows=1, usecols=range(1,94))\n",
    "y = y[0,:]\n",
    "lr_all_accs = []\n",
    "lr_all_scores = []\n",
    "svm_all_accs = []\n",
    "svm_all_scores = []\n",
    "base_labels = []\n",
    "for runs in range(10):\n",
    "    lr_accuracies = []\n",
    "    lr_scores = []\n",
    "    svm_accuracies = []\n",
    "    svm_scores = []\n",
    "    strat_labels = []\n",
    "\n",
    "    rbf = svm.SVC(kernel='linear')\n",
    "    logistic = linear_model.LogisticRegression(C=1e5)\n",
    "\n",
    "    skf = StratifiedKFold(n_splits=10)\n",
    "    for train_index, test_index in skf.split(features, y):\n",
    "        train_data, test_data = features[train_index], features[test_index]\n",
    "        train_labels, test_labels = y[train_index], y[test_index]\n",
    "        \n",
    "        strat_labels = np.append(strat_labels, test_labels)\n",
    "\n",
    "        log = logistic.fit(train_data, train_labels)\n",
    "        log_prob = log.decision_function(test_data)\n",
    "        log_acc = log.score(test_data, test_labels)\n",
    "        lr_accuracies = np.append(lr_accuracies, log_acc)\n",
    "        lr_scores = np.append(lr_scores, log_prob)\n",
    "        #print('Logistic Regression Accuracy: %f' % log_acc)\n",
    "\n",
    "        rbf = rbf.fit(train_data, train_labels)\n",
    "        svm_acc = rbf.score(test_data, test_labels)\n",
    "        svm_prob = rbf.decision_function(test_data)\n",
    "        #print('SVM Accuracy: %f' % svm_acc)\n",
    "        svm_accuracies = np.append(svm_accuracies, svm_acc)\n",
    "        svm_scores = np.append(svm_scores, svm_prob)\n",
    "   \n",
    "    base_labels = np.append(base_labels, strat_labels)\n",
    "    lr_all_scores = np.append(lr_all_scores, lr_scores)\n",
    "    lr_fold_avg = np.mean(lr_accuracies)\n",
    "    lr_all_accs = np.append(lr_all_accs, lr_fold_avg)\n",
    "    svm_all_scores = np.append(svm_all_scores, svm_scores)\n",
    "    svm_fold_avg = np.mean(svm_accuracies)\n",
    "    svm_all_accs = np.append(svm_all_accs, svm_fold_avg)"
   ]
  },
  {
   "cell_type": "code",
   "execution_count": 7,
   "metadata": {
    "collapsed": false
   },
   "outputs": [
    {
     "name": "stdout",
     "output_type": "stream",
     "text": [
      "LR Avg: 0.9677777777777778\n",
      "LR Standard Deviation: 0.0\n",
      "SVM Avg: 0.9366666666666669\n",
      "SVM Standard Deviation: 1.1102230246251565e-16\n"
     ]
    }
   ],
   "source": [
    "print(\"LR Avg: {}\".format(np.mean(lr_all_accs)))\n",
    "print(\"LR Standard Deviation: {}\".format(np.std(lr_all_accs)))\n",
    "print(\"SVM Avg: {}\".format(np.mean(svm_all_accs)))\n",
    "print(\"SVM Standard Deviation: {}\".format(np.std(svm_all_accs)))"
   ]
  },
  {
   "cell_type": "markdown",
   "metadata": {},
   "source": [
    "# ROC Curve"
   ]
  },
  {
   "cell_type": "code",
   "execution_count": 6,
   "metadata": {
    "collapsed": false,
    "scrolled": false
   },
   "outputs": [
    {
     "data": {
      "image/png": "[encoded data removed]",
      "text/plain": [
       "<matplotlib.figure.Figure at 0x23e7f6a8f28>"
      ]
     },
     "metadata": {},
     "output_type": "display_data"
    }
   ],
   "source": [
    "fpr = dict()\n",
    "tpr = dict()\n",
    "roc_auc = dict()\n",
    "\n",
    "fpr['lr'], tpr['lr'], _ = roc_curve(base_labels, lr_all_scores)\n",
    "roc_auc['lr'] = auc(fpr['lr'], tpr['lr'])\n",
    "fpr['svm'], tpr['svm'], _ = roc_curve(base_labels, svm_all_scores)\n",
    "roc_auc['svm'] = auc(fpr['svm'], tpr['svm'])\n",
    "fpr['gcn'], tpr['gcn'], _ = roc_curve(all_labels, all_scores)\n",
    "roc_auc['gcn'] = auc(fpr['gcn'], tpr['gcn'])\n",
    "\n",
    "plt.figure()\n",
    "plt.plot(fpr['lr'], tpr['lr'], lw=3, label='Logistic Regression (area = %0.2f)' % roc_auc['lr'])\n",
    "plt.plot(fpr['svm'], tpr['svm'], lw=3, label='SVM (area = %0.2f)' % roc_auc['svm'])\n",
    "plt.plot(fpr['gcn'], tpr['gcn'], lw=3, label='GCN (area = %0.2f)' % roc_auc['gcn'])\n",
    "plt.plot([0, 1], [0, 1], color='navy', lw=2, linestyle='--')\n",
    "plt.xlim([0.0, 1.0])\n",
    "plt.ylim([0.0, 1.0])\n",
    "plt.xlabel('False Positive Rate')\n",
    "plt.ylabel('True Positive Rate')\n",
    "plt.title('Receiver Operating Characteristic')\n",
    "plt.legend(loc=\"lower right\")\n",
    "plt.savefig('10x_Combined_ROC.eps')\n",
    "plt.show()"
   ]
  },
  {
   "cell_type": "code",
   "execution_count": null,
   "metadata": {
    "collapsed": true
   },
   "outputs": [],
   "source": []
  }
 ],
 "metadata": {
  "kernelspec": {
   "display_name": "Python 3",
   "language": "python",
   "name": "python3"
  },
  "language_info": {
   "codemirror_mode": {
    "name": "ipython",
    "version": 3
   },
   "file_extension": ".py",
   "mimetype": "text/x-python",
   "name": "python",
   "nbconvert_exporter": "python",
   "pygments_lexer": "ipython3",
   "version": "3.5.4"
  }
 },
 "nbformat": 4,
 "nbformat_minor": 2
}
