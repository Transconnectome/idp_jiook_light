{
 "cells": [
  {
   "cell_type": "code",
   "execution_count": 32,
   "metadata": {
    "collapsed": false
   },
   "outputs": [],
   "source": [
    "from sklearn.svm import LinearSVC\n",
    "from sklearn.feature_selection import SelectFromModel\n",
    "import numpy as np\n",
    "import pandas as pd\n",
    "from pprint import pprint\n",
    "from os import listdir\n",
    "from os.path import isfile, join\n",
    "from sklearn.model_selection import StratifiedKFold,RepeatedStratifiedKFold\n",
    "from scipy import stats\n",
    "import numpy as np\n",
    "from sklearn import linear_model, svm\n",
    "import re\n",
    "from sklearn.metrics import roc_curve, auc,f1_score\n",
    "from sklearn.pipeline import Pipeline\n",
    "from sklearn.ensemble import RandomForestClassifier\n",
    "#s = \"../braindata/data_1_mor_select_100.csv\"\n",
    "import os          \n",
    "from sklearn import linear_model, svm\n",
    "from sklearn.ensemble import ExtraTreesClassifier\n",
    "\n",
    "os.getcwd()\n",
    "os.chdir('../braindata')\n",
    "#dd =pd.read_csv(\"./vbm/data_vec_downsample_10_masked.csv\",header=0)\n",
    "#dd2 =pd.read_csv(\"./vbm/NBS_connectome_3M_count2_vector.csv\",header=0)\n",
    "dd3 =pd.read_csv(\"./vbm/data_ALL_demo_vbm_downsample_10_connectome.csv\",header=1)\n",
    "#data_ALL_demo_vbm_downsample_10_connectome.csv\n",
    "#NBS_connectome_count2_vector_all\n",
    "#NBS_connectome_3M_count2_vector.csv\n"
   ]
  },
  {
   "cell_type": "code",
   "execution_count": 33,
   "metadata": {
    "collapsed": false
   },
   "outputs": [
    {
     "name": "stderr",
     "output_type": "stream",
     "text": [
      "/Users/posnerlab/Library/Python/3.5/lib/python/site-packages/scipy/stats/stats.py:2247: RuntimeWarning: invalid value encountered in true_divide\n",
      "  return (a - mns) / sstd\n"
     ]
    },
    {
     "name": "stdout",
     "output_type": "stream",
     "text": [
      "[ 0.  1.  0.  0.  0.  0.  0.  0.  0.  0.  0.  0.  0.  0.  0.  0.  0.  0.\n",
      "  0.  0.  1.  0.  0.  0.  0.  0.  0.  0.  1.  0.  0.  0.  0.  0.  1.  0.\n",
      "  1.  0.  0.  0.  0.  0.  0.  0.  0.  1.  0.  0.  0.  0.  0.  0.  0.  1.\n",
      "  0.  0.  0.  0.  0.  0.  0.  0.  1.  1.  0.  0.  0.  0.  0.  0.  1.  0.\n",
      "  1.  0.  1.  1.]\n"
     ]
    }
   ],
   "source": [
    "data=np.array(dd3)\n",
    "#print(data.shape)\n",
    "idx_IN_columns = np.append(np.array([1]),np.array(range(10,data.shape[1])))\n",
    "X=data[:,idx_IN_columns]\n",
    "\n",
    "#features=data[:,11:data.shape[1]]\n",
    "#features = features.transpose()\n",
    "X = stats.zscore(X)\n",
    "#print(features.shape)\n",
    "y=data[:,2]\n",
    "print(y)\n",
    "#5: ad-smi / 6:mci-smi / 7:adonly-smi / 8:ad-mci / 9:adonly-mci / 10:adonly - adwithsmallvv\n",
    "\n",
    "ind_num=np.isnan(y)\n",
    "# print(ind_num.shape)\n",
    "\n",
    "\n",
    "y_no_nan = y[~ind_num]\n",
    "\n",
    "X_no_nan = X[~ind_num,:]\n",
    "\n",
    "       # print(y.shape)\n",
    "\n",
    "y=y_no_nan\n",
    "X=X_no_nan\n",
    "feature_num_all=[]\n",
    "lr_all_feature=[]\n",
    "svm_all_feature=[]\n",
    "lr_fls_feature=[]\n",
    "svm_fls_feature=[]\n",
    "\n",
    "#X=X.reshape(X.size,1)\n",
    "#X=X.astype(np.float64,copy=False)\n",
    "np.isnan(X).any()\n",
    "#feature_num=features.shape[1]\n",
    "X[np.isnan(X)] = np.median(X[~np.isnan(X)])\n",
    "clf = ExtraTreesClassifier(n_estimators=50,\n",
    "                              random_state=0)\n",
    "clf = clf.fit(X, y)\n",
    "importances = clf.feature_importances_\n",
    "importances\n",
    "indices = np.argsort(importances)[::-1]\n",
    "#print(\"Feature ranking:\")"
   ]
  },
  {
   "cell_type": "code",
   "execution_count": 37,
   "metadata": {
    "collapsed": false
   },
   "outputs": [
    {
     "name": "stdout",
     "output_type": "stream",
     "text": [
      "1000\n"
     ]
    },
    {
     "name": "stderr",
     "output_type": "stream",
     "text": [
      "/Library/Frameworks/Python.framework/Versions/3.5/lib/python3.5/site-packages/sklearn/metrics/classification.py:1135: UndefinedMetricWarning: F-score is ill-defined and being set to 0.0 due to no predicted samples.\n",
      "  'precision', 'predicted', average, warn_for)\n"
     ]
    },
    {
     "name": "stdout",
     "output_type": "stream",
     "text": [
      "0.704442664057\n",
      "0.819346399046\n",
      "1.0\n",
      "[ 0.  0.  0.  0.  0.  0.  0.  0.  0.  0.  0.  0.  0.  0.  0.  0.  0.  0.\n",
      "  0.  0.  0.  0.  0.  0.  0.  0.  0.  0.  0.  0.  0.  0.  0.  0.  0.  0.\n",
      "  0.  0.  0.  0.  0.  0.  0.  0.  0.  0.  0.  0.  0.  0.  0.  0.  0.  0.\n",
      "  0.  0.  0.  0.  0.  0.  0.  0.  0.  0.  0.  0.  0.  0.  0.  0.  0.  0.\n",
      "  0.  0.  0.  0.  0.  0.  1.  0.  0.  0.  0.  0.  0.  0.  0.  0.  0.  0.\n",
      "  0.  0.  0.  0.  0.  0.  0.  0.  0.  0.]\n",
      "1000\n",
      "0.704442664057\n",
      "0.819346399046\n",
      "1.0\n",
      "[ 0.  0.  0.  0.  0.  0.  0.  0.  0.  0.  0.  0.  0.  0.  0.  0.  0.  0.\n",
      "  0.  0.  0.  0.  0.  0.  0.  0.  0.  0.  0.  0.  0.  0.  0.  0.  0.  0.\n",
      "  0.  0.  0.  0.  0.  0.  0.  0.  0.  0.  0.  0.  0.  0.  0.  0.  0.  0.\n",
      "  0.  0.  0.  0.  0.  0.  0.  0.  0.  0.  0.  0.  0.  0.  0.  0.  0.  0.\n",
      "  0.  0.  0.  0.  0.  0.  1.  0.  0.  0.  0.  0.  0.  0.  0.  0.  0.  0.\n",
      "  0.  0.  0.  0.  0.  0.  0.  0.  0.  0.]\n"
     ]
    }
   ],
   "source": [
    "#for f in range(X.shape[1]):\n",
    "#    print(\"%d. feature %d (%f)\" % (f + 1, indices[f], importances[indices[f]]))\n",
    "#n_features = [2,5,10,20,40,45,50,55,50,65,70,80,100,1000,2000,4000,8000]\n",
    "#n_features = [10,30,31,32,33,34,35,36,37,38,39,40,50,100,500,1000,2000,3000]\n",
    "#n_features = [10,100,200,1000,10000,50000,100000,150000,200000]\n",
    "n_features = [1000,1000]\n",
    "\n",
    "#n_features = [30,30]\n",
    "n_features.sort()\n",
    "\n",
    "for i in n_features:\n",
    "#     #print(i)\n",
    "    \n",
    "#     #lsvc = LinearSVC(C=J[i],penalty=\"l1\", dual=True).fit(X, y)\n",
    "#     #model = SelectFromModel(lsvc, prefit=True)\n",
    "#     #features = model.transform(X)\n",
    "#     clf = ExtraTreesClassifier(n_estimators=250,\n",
    "#                               random_state=0)\n",
    "#     clf = clf.fit(X, y)\n",
    "#     importances = forest.feature_importances_\n",
    "       \n",
    "    index=indices[0:i]\n",
    "    features=X[:,index]\n",
    "#     clf.feature_importances_ \n",
    "\n",
    "#     model = SelectFromModel(clf, threshold=0.6,prefit=True)\n",
    "#     features = model.transform(X)\n",
    "#     features.shape               \n",
    "#     #features=features.reshape(features.size,1)\n",
    "#     #features=features.astype(np.float64,copy=false)\n",
    "#     np.isnan(features).any()\n",
    "    feature_num=features.shape[1]\n",
    "    print(feature_num)\n",
    "    \n",
    "  \n",
    "    lr_all_accs = []\n",
    "    lr_all_scores = []\n",
    "    lr_f1s = []\n",
    "    svm_all_accs = []\n",
    "    svm_all_scores = []\n",
    "    svm_f1s = []\n",
    "    base_labels = []\n",
    "    for runs in range(1):\n",
    "        lr_accuracies = []\n",
    "        lr_scores = []\n",
    "        svm_accuracies = []\n",
    "        svm_scores = []\n",
    "        strat_labels = []\n",
    "        \n",
    "        logistic = linear_model.LogisticRegression(C=1e5)\n",
    "        rbf = svm.SVC(C=10,kernel='linear',gamma=0.01)\n",
    "        \n",
    "        \n",
    "        #skf = StratifiedKFold(n_splits=3)\n",
    "        skf = RepeatedStratifiedKFold(n_splits=10, n_repeats=10,random_state=36851234)\n",
    "        for train_index, test_index in skf.split(features, y):\n",
    "                    train_data, test_data = features[train_index], features[test_index]\n",
    "                    train_labels, test_labels = y[train_index], y[test_index]\n",
    "\n",
    "                    strat_labels = np.append(strat_labels, test_labels)\n",
    "\n",
    "                    log = logistic.fit(train_data, train_labels)\n",
    "                    log_prob = log.decision_function(test_data)\n",
    "                    log_acc = log.score(test_data, test_labels)\n",
    "\n",
    "                    #f1 calculation\n",
    "                    y_pred = logistic.predict(test_data)\n",
    "                    log_f1 = f1_score(test_labels, y_pred)\n",
    "\n",
    "                    lr_accuracies = np.append(lr_accuracies, log_acc)\n",
    "                    lr_scores = np.append(lr_scores, log_prob)\n",
    "                    lr_f1s = np.append(lr_f1s, log_f1)\n",
    "                    #print('Logistic Regression Accuracy: %f' % log_acc)\n",
    "\n",
    "                    rbf = rbf.fit(train_data, train_labels)\n",
    "                    svm_acc = rbf.score(test_data, test_labels)\n",
    "                    svm_prob = rbf.decision_function(test_data)\n",
    "\n",
    "                    #f1 calculation\n",
    "                    y_pred = rbf.predict(test_data)\n",
    "                    svm_f1 = f1_score(test_labels, y_pred)\n",
    "                    #print('SVM Accuracy: %f' % svm_acc)\n",
    "                    svm_accuracies = np.append(svm_accuracies, svm_acc)\n",
    "                    svm_scores = np.append(svm_scores, svm_prob)\n",
    "                    svm_f1s = np.append(svm_f1s, svm_f1)\n",
    "\n",
    "                    base_labels = np.append(base_labels, strat_labels)\n",
    "                    lr_all_scores = np.append(lr_all_scores, lr_scores)\n",
    "                    lr_fold_avg = np.mean(lr_accuracies)\n",
    "                    lr_all_accs = np.append(lr_all_accs, lr_fold_avg)\n",
    "                    svm_all_scores = np.append(svm_all_scores, svm_scores)\n",
    "                    svm_fold_avg = np.mean(svm_accuracies)\n",
    "                    svm_all_accs = np.append(svm_all_accs, svm_fold_avg)\n",
    "                    #print('Logistic Regression Accuracy: %f' % log_acc_avg)\n",
    "                    #print('SVM Regression Accuracy: %f' % svm_acc_avg)\n",
    "    \n",
    "    feature_num_all=np.append(feature_num_all,feature_num)\n",
    "    print(np.mean(lr_all_accs))\n",
    "    print(np.mean(svm_all_accs))\n",
    "    svm_f1s_nonzero=svm_f1s[np.nonzero(svm_f1s)]\n",
    "    print(np.mean(svm_f1s_nonzero))\n",
    "    print(svm_f1s)\n",
    "    lr_all_feature=np.append(lr_all_feature,np.mean(lr_all_accs))\n",
    "    svm_all_feature=np.append(svm_all_feature,np.mean(svm_all_accs))\n",
    "    lr_fls_feature=np.append(lr_fls_feature,np.mean(lr_f1s))\n",
    "    svm_fls_feature=np.append(svm_fls_feature,np.mean(svm_f1s))"
   ]
  },
  {
   "cell_type": "code",
   "execution_count": 2,
   "metadata": {
    "collapsed": false
   },
   "outputs": [
    {
     "data": {
      "image/png": "[encoded data removed]",
      "text/plain": [
       "<matplotlib.figure.Figure at 0x106af3d30>"
      ]
     },
     "metadata": {},
     "output_type": "display_data"
    },
    {
     "name": "stdout",
     "output_type": "stream",
     "text": [
      "[ 0.28571429  0.6         0.5         0.6         0.36363636  0.57142857\n",
      "  0.44444444  0.25        0.28571429  0.54545455  0.66666667  0.5         0.4\n",
      "  0.85714286  0.44444444  0.57142857  0.75        0.6         0.8         0.8\n",
      "  0.25        0.66666667  0.5         0.5         0.66666667  0.28571429\n",
      "  0.57142857  0.75      ]\n",
      "LR accuracy Avg: 0.7981407047626188\n",
      "LR accuracy Standard Deviation: 0.0\n",
      "LR f1s Avg : 0.5050179450179451\n",
      "LR f1s Standard Deviation: 0.14476450858838238\n",
      "SVM Avg: 0.8319735348913664\n",
      "SVM Standard Deviation: 0.009240197327193578\n",
      "SVM f1s Avg : 0.5008850408850408\n",
      "SVM f1s Standard Deviation: 0.0\n",
      "[ 0.74074074  0.77777778  0.78518519  0.79259259  0.78962963  0.80469136\n",
      "  0.79026455  0.7887037   0.78995885  0.77762963  0.7810101   0.78592593\n",
      "  0.79099715  0.79269841  0.80118519  0.79972222  0.80496732  0.81135802\n",
      "  0.81348928  0.81540741  0.81467372  0.81468013  0.80663446  0.80802469\n",
      "  0.8082963   0.80997151  0.80960219  0.80978836  0.81251596  0.81609877]\n"
     ]
    }
   ],
   "source": [
    "import matplotlib.pyplot as plt\n",
    "plt.figure()\n",
    "plt.plot( (feature_num_all), lr_all_feature*100, lw=1, label='Logistic Regression')\n",
    "plt.plot( (feature_num_all), svm_all_feature*100, lw=1, label='SVM')\n",
    "plt.xlim([0, 3000])\n",
    "plt.ylim([0, 100])\n",
    "plt.xlabel('Number of Features')\n",
    "plt.ylabel('Accuracy')\n",
    "plt.title('Number of Features vs Accuracy')\n",
    "plt.legend(loc=\"lower right\")\n",
    "#plt.savefig('monk_ssri_conntome_counts.eps')\n",
    "plt.show()\n",
    "\n",
    "svm_f1s=svm_f1s[np.nonzero(svm_f1s)]\n",
    "print(svm_f1s)\n",
    "\n",
    "print(\"LR accuracy Avg: {}\".format(np.mean(lr_all_feature)))\n",
    "print(\"LR accuracy Standard Deviation: {}\".format(np.std(lr_all_feature)))\n",
    "\n",
    "print(\"LR f1s Avg : {}\".format(np.mean( lr_fls_feature)))\n",
    "print(\"LR f1s Standard Deviation: {}\".format(np.std(lr_f1s)))\n",
    "\n",
    "print(\"SVM Avg: {}\".format(np.mean(svm_all_feature)))\n",
    "print(\"SVM Standard Deviation: {}\".format(np.std(svm_all_accs)))\n",
    "\n",
    "print(\"SVM f1s Avg : {}\".format(np.mean( svm_fls_feature )))\n",
    "print(\"SVM f1s Standard Deviation: {}\".format(np.std(svm_fls_feature)))\n",
    "print(lr_all_accs)"
   ]
  },
  {
   "cell_type": "code",
   "execution_count": null,
   "metadata": {
    "collapsed": false
   },
   "outputs": [],
   "source": [
    "clf = ExtraTreesClassifier(n_estimators=250,\n",
    "                              random_state=0)\n",
    "clf = clf.fit(X, y)\n",
    "importances = clf.feature_importances_\n",
    "importances\n",
    "indices = np.argsort(importances)[::-1]\n",
    "print(\"Feature ranking:\")\n",
    "\n",
    "for f in range(X.shape[1]):\n",
    "    print(\"%d. feature %d (%f)\" % (f + 1, indices[f], importances[indices[f]]))"
   ]
  },
  {
   "cell_type": "code",
   "execution_count": null,
   "metadata": {
    "collapsed": false
   },
   "outputs": [],
   "source": [
    "from sklearn.svm import LinearSVC\n",
    "from sklearn.feature_selection import SelectFromModel\n",
    "import numpy as np\n",
    "import pandas as pd\n",
    "from pprint import pprint\n",
    "from os import listdir\n",
    "from os.path import isfile, join\n",
    "from sklearn.model_selection import StratifiedKFold\n",
    "from scipy import stats\n",
    "import numpy as np\n",
    "from sklearn import linear_model, svm\n",
    "import re\n",
    "from sklearn.metrics import roc_curve, auc,f1_score\n",
    "from sklearn.pipeline import Pipeline\n"
   ]
  },
  {
   "cell_type": "code",
   "execution_count": null,
   "metadata": {
    "collapsed": false
   },
   "outputs": [],
   "source": [
    "X.shape"
   ]
  },
  {
   "cell_type": "code",
   "execution_count": null,
   "metadata": {
    "collapsed": false
   },
   "outputs": [],
   "source": [
    "X.shape"
   ]
  },
  {
   "cell_type": "code",
   "execution_count": null,
   "metadata": {
    "collapsed": false
   },
   "outputs": [],
   "source": [
    "os.getcwd()\n",
    "os.chdir('../idp_jiook_local/braindata')"
   ]
  },
  {
   "cell_type": "code",
   "execution_count": null,
   "metadata": {
    "collapsed": false
   },
   "outputs": [],
   "source": [
    "lr_all_accs.shape"
   ]
  },
  {
   "cell_type": "code",
   "execution_count": null,
   "metadata": {
    "collapsed": false
   },
   "outputs": [],
   "source": [
    "np.isnan(features)"
   ]
  },
  {
   "cell_type": "code",
   "execution_count": null,
   "metadata": {
    "collapsed": false
   },
   "outputs": [],
   "source": [
    "print(30:40)"
   ]
  },
  {
   "cell_type": "code",
   "execution_count": null,
   "metadata": {
    "collapsed": false
   },
   "outputs": [],
   "source": [
    "np.log(20000)"
   ]
  },
  {
   "cell_type": "code",
   "execution_count": null,
   "metadata": {
    "collapsed": true
   },
   "outputs": [],
   "source": []
  }
 ],
 "metadata": {
  "kernelspec": {
   "display_name": "Python 3",
   "language": "python",
   "name": "python3"
  },
  "language_info": {
   "codemirror_mode": {
    "name": "ipython",
    "version": 3
   },
   "file_extension": ".py",
   "mimetype": "text/x-python",
   "name": "python",
   "nbconvert_exporter": "python",
   "pygments_lexer": "ipython3",
   "version": "3.5.4"
  }
 },
 "nbformat": 4,
 "nbformat_minor": 2
}
