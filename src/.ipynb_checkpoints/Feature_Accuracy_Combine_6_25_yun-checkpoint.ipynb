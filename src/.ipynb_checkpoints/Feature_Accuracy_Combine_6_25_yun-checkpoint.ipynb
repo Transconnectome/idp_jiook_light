{
 "cells": [
  {
   "cell_type": "code",
   "execution_count": 1,
   "metadata": {
    "collapsed": true
   },
   "outputs": [],
   "source": [
    "# Import modules\n",
    "from __future__ import print_function\n",
    "import pickle\n",
    "import os\n",
    "import scipy.io\n",
    "from scipy import stats\n",
    "\n",
    "import pandas as pd\n",
    "from numpy import *\n",
    "\n",
    "import numpy as np\n",
    "from matplotlib import pyplot as plt\n",
    "from scipy import stats\n",
    "import pandas as pd\n",
    "import argparse\n",
    "from sklearn.model_selection import GridSearchCV, cross_val_score,cross_val_predict,StratifiedKFold\n",
    "from sklearn.feature_selection import SelectFromModel\n",
    "from sklearn.pipeline import Pipeline\n",
    "from sklearn.metrics import roc_auc_score,confusion_matrix\n",
    "from sklearn.preprocessing import StandardScaler\n",
    "from sklearn.ensemble import RandomForestClassifier\n",
    "from sklearn.ensemble import ExtraTreesClassifier\n",
    "from sklearn.metrics import accuracy_score\n",
    "\n",
    "##read the data and clean data\n",
    "def argumentparser():\n",
    "    parser = argparse.ArgumentParser(description='PyTorch Connectome CNN')\n",
    "    # hyper-parameters\n",
    "    parser.add_argument('--dataset', type=int, default=1, help='select a dataset (1:connectome, 2: connectome + morphometry)')\n",
    "    return parser\n",
    "def data_fetch_clean(file,type):\n",
    "    #os.getcwd()\n",
    "    #os.chdir('../braindata')\n",
    "    dd =pd.read_csv(file,header=0)\n",
    "    print(dd.shape)\n",
    "    import csv\n",
    "\n",
    "    with open(file, 'r') as f:\n",
    "        d_reader = csv.DictReader(f)\n",
    "\n",
    "        #get fieldnames from DictReader object and store in list\n",
    "        headers = d_reader.fieldnames\n",
    "    data=np.array(dd)\n",
    "    #print(data.shape)\n",
    "    idx_IN_columns = np.append(np.array([3,4]),np.array(range(11,data.shape[1])))\n",
    "    print(idx_IN_columns)\n",
    "    X=data[:,idx_IN_columns]\n",
    "    #features=data[:,11:data.shape[1]]\n",
    "    #features = features.transpose()\n",
    "    X = stats.zscore(X)\n",
    "    #print(features.shape)\n",
    "    y=data[:,type]\n",
    "    #5: ad-smi / 6:mci-smi / 7:adonly-smi / 8:ad-mci / 9:adonly-mci / 10:adonly - adwithsmallvv\n",
    "\n",
    "\n",
    "    ind_num=np.isnan(y)\n",
    "    # print(ind_num.shape)\n",
    "\n",
    "\n",
    "    y_no_nan = y[~ind_num]\n",
    "\n",
    "    X_no_nan = X[~ind_num,:]\n",
    "\n",
    "           # print(y.shape)\n",
    "\n",
    "    y=y_no_nan\n",
    "    X=X_no_nan\n",
    "    feature_num_all=[]\n",
    "    lr_all_feature=[]\n",
    "    svm_all_feature=[]\n",
    "    lr_fls_feature=[]\n",
    "    svm_fls_feature=[]\n",
    "    base_labels= []\n",
    "\n",
    "    np.isnan(X).any()\n",
    "\n",
    "    X[np.isnan(X)] = np.median(X[~np.isnan(X)])\n",
    "    return X,y\n",
    "\n",
    "#classification and cross validation "
   ]
  },
  {
   "cell_type": "code",
   "execution_count": 2,
   "metadata": {
    "collapsed": true
   },
   "outputs": [],
   "source": [
    "def clf_randomforest(X,y,name):\n",
    "\n",
    "    n_fold = 10\n",
    "\n",
    "    inner_cv = StratifiedKFold(n_splits=n_fold, shuffle=True, random_state=234)\n",
    "    outer_cv = StratifiedKFold(n_splits=n_fold, shuffle=True, random_state=234)\n",
    "\n",
    "    scaler = StandardScaler()\n",
    "    scaler.fit(X)\n",
    "    X = scaler.transform(X)\n",
    "\n",
    "    avg_acc = []\n",
    "    avg_TP = []\n",
    "    avg_TN = []\n",
    "    avg_FP = []\n",
    "    avg_FN = []\n",
    "    avg_sen = []\n",
    "    avg_spec = []\n",
    "\n",
    "    roc_label = []\n",
    "    roc_pred = []\n",
    "    roc_prob = []\n",
    "    for train_index, test_index in outer_cv.split(X, y):\n",
    "        X_train, X_test = X[train_index], X[test_index]\n",
    "        y_train, y_test = y[train_index], y[test_index]\n",
    "        # 'featureExtract__n_estimators': np.arange(10, 100, 10),\n",
    "        params = {'randomforest__min_samples_leaf': np.arange(1, 51, 5),\n",
    "                  'randomforest__n_estimators': np.arange(10, 100, 10)}\n",
    "        # clf_m = RandomForestClassifier(random_state=0)\n",
    "\n",
    "        pipe = Pipeline([\n",
    "            ('featureExtract', SelectFromModel(ExtraTreesClassifier())),\n",
    "            ('randomforest', RandomForestClassifier())\n",
    "        ])\n",
    "\n",
    "        clf = GridSearchCV(estimator=pipe, param_grid=params, cv=inner_cv, scoring='accuracy')\n",
    "        clf.fit(X_train, y_train)\n",
    "\n",
    "        fs = clf.best_estimator_.named_steps['featureExtract']\n",
    "        mask = fs.get_support()\n",
    "        y_pred = clf.predict(X_test)\n",
    "        y_prob = clf.predict_proba(X_test)\n",
    "      #  roc_pred = clf.predict_proba(X_test)\n",
    "\n",
    "        acc = accuracy_score(y_test, y_pred)\n",
    "        auc = roc_auc_score(y_test, y_prob[:, 1])\n",
    "\n",
    "        roc_label = np.append(roc_label, y_test)\n",
    "        roc_pred = np.append(roc_pred, y_pred)\n",
    "        roc_prob = np.append(roc_prob, y_prob[:, 1])\n",
    "\n",
    "\n",
    "        conf_mat = confusion_matrix(y_test, y_pred)\n",
    "\n",
    "        TP = conf_mat[0][0]\n",
    "        FP = conf_mat[0][1]\n",
    "        FN = conf_mat[1][0]\n",
    "        TN = conf_mat[1][1]\n",
    "\n",
    "        avg_TP = np.append(avg_TP, TP)\n",
    "        avg_TN = np.append(avg_TN, TN)\n",
    "        avg_FP = np.append(avg_FP, FP)\n",
    "        avg_FN = np.append(avg_FN, FN)\n",
    "\n",
    "        avg_acc = np.append(avg_acc, acc)\n",
    "\n",
    "        print(TP, FP, FN, TN)\n",
    "        sen = TP / (TP + FN)\n",
    "        spec = TN / (TN + FP)\n",
    "\n",
    "        avg_sen = np.append(avg_sen, sen)\n",
    "        avg_spec = np.append(avg_spec, spec)\n",
    "        print('Accuracy:{},AUC:{}'.format(acc, auc))\n",
    "        print('Sensitivity:{},Specificity:{}'.format(sen, spec))\n",
    "\n",
    "    print(\"Accuracy Avg: {}\".format(np.mean(avg_acc)))\n",
    "    print(\"Accuracy Standard Deviation: {}\".format(np.std(avg_acc)))\n",
    "    print(\"Sensitivity Avg: {}\".format(np.mean(avg_sen)))\n",
    "    print(\"Sensitivity Standard Deviation: {}\".format(np.std(avg_sen)))\n",
    "    print(\"Specificity Avg: {}\".format(np.mean(avg_spec)))\n",
    "    print(\"Specificity Standard Deviation: {}\".format(np.std(avg_spec)))\n",
    "\n",
    "    #if dataset == 1:\n",
    "    pickle.dump(roc_label, open('roc_label_'+name+'.p', \"wb\"))\n",
    "    pickle.dump(roc_pred, open('roc_pred_'+name+'.p', \"wb\"))\n",
    "    pickle.dump(roc_prob, open('roc_prob_'+name+'.p', \"wb\"))\n",
    "#     elif dataset == 2:\n",
    "#         pickle.dump(roc_label, open('roc_label_con_morph.p', \"wb\"))\n",
    "#         pickle.dump(roc_pred, open('roc_pred_con_morph.p', \"wb\"))\n",
    "#         pickle.dump(roc_prob, open('roc_prob_con_morph.p', \"wb\"))"
   ]
  },
  {
   "cell_type": "code",
   "execution_count": 22,
   "metadata": {
    "collapsed": true
   },
   "outputs": [],
   "source": [
    "c=pd.read_csv('combine_new.csv')\n"
   ]
  },
  {
   "cell_type": "code",
   "execution_count": 3,
   "metadata": {
    "collapsed": true
   },
   "outputs": [],
   "source": [
    "save_name=[\"AD vs SMC\",\"MCI vs SMC\",\"ADonly vs SMC\",\"AD vs MCI\",\"ADonly vs MCI\",\"ADonly vs ADwithsmallvv\"]\n"
   ]
  },
  {
   "cell_type": "code",
   "execution_count": 21,
   "metadata": {
    "collapsed": true
   },
   "outputs": [],
   "source": [
    "# filename=\"comine_new.csv\"\n",
    "# cwd=os.getcwd()\n",
    "# cwd\n",
    "\n",
    "# # os.chdir('../data/adni')\n",
    "# import pandas as pd\n",
    "# pd.read_csv('combine_new.csv')"
   ]
  },
  {
   "cell_type": "code",
   "execution_count": null,
   "metadata": {
    "collapsed": true
   },
   "outputs": [],
   "source": []
  },
  {
   "cell_type": "code",
   "execution_count": 4,
   "metadata": {
    "collapsed": false
   },
   "outputs": [
    {
     "name": "stdout",
     "output_type": "stream",
     "text": [
      "(208, 34657)\n",
      "[    3     4    11 ... 34654 34655 34656]\n"
     ]
    },
    {
     "name": "stderr",
     "output_type": "stream",
     "text": [
      "/Users/posnerlab/miniconda3/lib/python3.6/site-packages/scipy/stats/stats.py:2253: RuntimeWarning: invalid value encountered in true_divide\n",
      "  return (a - mns) / sstd\n"
     ]
    },
    {
     "name": "stdout",
     "output_type": "stream",
     "text": [
      "3 1 0 7\n",
      "Accuracy:0.9090909090909091,AUC:1.0\n",
      "Sensitivity:1.0,Specificity:0.875\n",
      "2 2 0 7\n",
      "Accuracy:0.8181818181818182,AUC:1.0\n",
      "Sensitivity:1.0,Specificity:0.7777777777777778\n",
      "4 0 1 5\n",
      "Accuracy:0.9,AUC:0.875\n",
      "Sensitivity:0.8,Specificity:1.0\n",
      "3 1 2 4\n",
      "Accuracy:0.7,AUC:0.7708333333333333\n",
      "Sensitivity:0.6,Specificity:0.8\n",
      "4 0 1 5\n",
      "Accuracy:0.9,AUC:1.0\n",
      "Sensitivity:0.8,Specificity:1.0\n",
      "4 0 1 5\n",
      "Accuracy:0.9,AUC:0.9583333333333334\n",
      "Sensitivity:0.8,Specificity:1.0\n",
      "3 0 0 6\n",
      "Accuracy:1.0,AUC:1.0\n",
      "Sensitivity:1.0,Specificity:1.0\n",
      "2 1 2 4\n",
      "Accuracy:0.6666666666666666,AUC:0.7777777777777779\n",
      "Sensitivity:0.5,Specificity:0.8\n",
      "2 1 0 6\n",
      "Accuracy:0.8888888888888888,AUC:0.8333333333333334\n",
      "Sensitivity:1.0,Specificity:0.8571428571428571\n",
      "2 1 2 4\n",
      "Accuracy:0.6666666666666666,AUC:0.888888888888889\n",
      "Sensitivity:0.5,Specificity:0.8\n",
      "Accuracy Avg: 0.8349494949494949\n",
      "Accuracy Standard Deviation: 0.11111864069987842\n",
      "Sensitivity Avg: 0.8\n",
      "Sensitivity Standard Deviation: 0.19493588689617927\n",
      "Specificity Avg: 0.8909920634920635\n",
      "Specificity Standard Deviation: 0.09305298334685763\n",
      "(208, 34657)\n",
      "[    3     4    11 ... 34654 34655 34656]\n"
     ]
    },
    {
     "name": "stderr",
     "output_type": "stream",
     "text": [
      "/Users/posnerlab/miniconda3/lib/python3.6/site-packages/scipy/stats/stats.py:2253: RuntimeWarning: invalid value encountered in true_divide\n",
      "  return (a - mns) / sstd\n"
     ]
    },
    {
     "name": "stdout",
     "output_type": "stream",
     "text": [
      "2 5 2 9\n",
      "Accuracy:0.6111111111111112,AUC:0.6753246753246753\n",
      "Sensitivity:0.5,Specificity:0.6428571428571429\n",
      "1 6 4 7\n",
      "Accuracy:0.4444444444444444,AUC:0.5584415584415584\n",
      "Sensitivity:0.2,Specificity:0.5384615384615384\n",
      "3 3 0 11\n",
      "Accuracy:0.8235294117647058,AUC:0.9772727272727273\n",
      "Sensitivity:1.0,Specificity:0.7857142857142857\n",
      "5 1 1 10\n",
      "Accuracy:0.8823529411764706,AUC:0.8333333333333334\n",
      "Sensitivity:0.8333333333333334,Specificity:0.9090909090909091\n",
      "3 3 1 10\n",
      "Accuracy:0.7647058823529411,AUC:0.8863636363636364\n",
      "Sensitivity:0.75,Specificity:0.7692307692307693\n",
      "4 2 0 11\n",
      "Accuracy:0.8823529411764706,AUC:0.8636363636363638\n",
      "Sensitivity:1.0,Specificity:0.8461538461538461\n",
      "4 2 1 10\n",
      "Accuracy:0.8235294117647058,AUC:0.8181818181818182\n",
      "Sensitivity:0.8,Specificity:0.8333333333333334\n",
      "3 3 0 11\n",
      "Accuracy:0.8235294117647058,AUC:0.7803030303030303\n",
      "Sensitivity:1.0,Specificity:0.7857142857142857\n",
      "3 3 1 10\n",
      "Accuracy:0.7647058823529411,AUC:0.8257575757575757\n",
      "Sensitivity:0.75,Specificity:0.7692307692307693\n",
      "4 2 2 9\n",
      "Accuracy:0.7647058823529411,AUC:0.7803030303030303\n",
      "Sensitivity:0.6666666666666666,Specificity:0.8181818181818182\n",
      "Accuracy Avg: 0.7584967320261438\n",
      "Accuracy Standard Deviation: 0.12799823851259223\n",
      "Sensitivity Avg: 0.75\n",
      "Sensitivity Standard Deviation: 0.2385139175999776\n",
      "Specificity Avg: 0.7697968697968698\n",
      "Specificity Standard Deviation: 0.1008703631640144\n",
      "(208, 34657)\n",
      "[    3     4    11 ... 34654 34655 34656]\n"
     ]
    },
    {
     "name": "stderr",
     "output_type": "stream",
     "text": [
      "/Users/posnerlab/miniconda3/lib/python3.6/site-packages/scipy/stats/stats.py:2253: RuntimeWarning: invalid value encountered in true_divide\n",
      "  return (a - mns) / sstd\n"
     ]
    },
    {
     "name": "stdout",
     "output_type": "stream",
     "text": [
      "4 0 1 7\n",
      "Accuracy:0.9166666666666666,AUC:1.0\n",
      "Sensitivity:0.8,Specificity:1.0\n",
      "4 0 0 8\n",
      "Accuracy:1.0,AUC:1.0\n",
      "Sensitivity:1.0,Specificity:1.0\n",
      "4 0 1 7\n",
      "Accuracy:0.9166666666666666,AUC:0.9375\n",
      "Sensitivity:0.8,Specificity:1.0\n",
      "4 0 0 8\n",
      "Accuracy:1.0,AUC:1.0\n",
      "Sensitivity:1.0,Specificity:1.0\n",
      "4 0 0 8\n",
      "Accuracy:1.0,AUC:1.0\n",
      "Sensitivity:1.0,Specificity:1.0\n",
      "4 0 0 8\n",
      "Accuracy:1.0,AUC:1.0\n",
      "Sensitivity:1.0,Specificity:1.0\n",
      "3 0 0 8\n",
      "Accuracy:1.0,AUC:1.0\n",
      "Sensitivity:1.0,Specificity:1.0\n",
      "3 0 0 8\n",
      "Accuracy:1.0,AUC:1.0\n",
      "Sensitivity:1.0,Specificity:1.0\n",
      "3 0 0 8\n",
      "Accuracy:1.0,AUC:1.0\n",
      "Sensitivity:1.0,Specificity:1.0\n",
      "3 0 0 7\n",
      "Accuracy:1.0,AUC:1.0\n",
      "Sensitivity:1.0,Specificity:1.0\n",
      "Accuracy Avg: 0.9833333333333332\n",
      "Accuracy Standard Deviation: 0.03333333333333335\n",
      "Sensitivity Avg: 0.96\n",
      "Sensitivity Standard Deviation: 0.07999999999999999\n",
      "Specificity Avg: 1.0\n",
      "Specificity Standard Deviation: 0.0\n",
      "(208, 34657)\n",
      "[    3     4    11 ... 34654 34655 34656]\n"
     ]
    },
    {
     "name": "stderr",
     "output_type": "stream",
     "text": [
      "/Users/posnerlab/miniconda3/lib/python3.6/site-packages/scipy/stats/stats.py:2253: RuntimeWarning: invalid value encountered in true_divide\n",
      "  return (a - mns) / sstd\n"
     ]
    },
    {
     "name": "stdout",
     "output_type": "stream",
     "text": [
      "4 3 1 7\n",
      "Accuracy:0.7333333333333333,AUC:0.7142857142857143\n",
      "Sensitivity:0.8,Specificity:0.7\n",
      "2 5 0 8\n",
      "Accuracy:0.6666666666666666,AUC:0.625\n",
      "Sensitivity:1.0,Specificity:0.6153846153846154\n",
      "6 0 1 7\n",
      "Accuracy:0.9285714285714286,AUC:0.8958333333333334\n",
      "Sensitivity:0.8571428571428571,Specificity:1.0\n",
      "5 1 0 8\n",
      "Accuracy:0.9285714285714286,AUC:0.9583333333333334\n",
      "Sensitivity:1.0,Specificity:0.8888888888888888\n",
      "4 2 1 7\n",
      "Accuracy:0.7857142857142857,AUC:0.875\n",
      "Sensitivity:0.8,Specificity:0.7777777777777778\n",
      "4 2 1 7\n",
      "Accuracy:0.7857142857142857,AUC:0.9375\n",
      "Sensitivity:0.8,Specificity:0.7777777777777778\n",
      "3 3 0 8\n",
      "Accuracy:0.7857142857142857,AUC:0.8229166666666667\n",
      "Sensitivity:1.0,Specificity:0.7272727272727273\n",
      "4 2 0 8\n",
      "Accuracy:0.8571428571428571,AUC:0.8125\n",
      "Sensitivity:1.0,Specificity:0.8\n",
      "3 3 1 7\n",
      "Accuracy:0.7142857142857143,AUC:0.8333333333333333\n",
      "Sensitivity:0.75,Specificity:0.7\n",
      "5 1 0 7\n",
      "Accuracy:0.9230769230769231,AUC:0.8809523809523809\n",
      "Sensitivity:1.0,Specificity:0.875\n",
      "Accuracy Avg: 0.8108791208791208\n",
      "Accuracy Standard Deviation: 0.08970636141935207\n",
      "Sensitivity Avg: 0.9007142857142858\n",
      "Sensitivity Standard Deviation: 0.10214285714285713\n",
      "Specificity Avg: 0.7862101787101787\n",
      "Specificity Standard Deviation: 0.10582267886037959\n",
      "(208, 34657)\n",
      "[    3     4    11 ... 34654 34655 34656]\n"
     ]
    },
    {
     "name": "stderr",
     "output_type": "stream",
     "text": [
      "/Users/posnerlab/miniconda3/lib/python3.6/site-packages/scipy/stats/stats.py:2253: RuntimeWarning: invalid value encountered in true_divide\n",
      "  return (a - mns) / sstd\n"
     ]
    },
    {
     "name": "stdout",
     "output_type": "stream",
     "text": [
      "0 4 2 6\n",
      "Accuracy:0.5,AUC:0.265625\n",
      "Sensitivity:0.0,Specificity:0.6\n",
      "0 3 0 8\n",
      "Accuracy:0.7272727272727273,AUC:0.7916666666666667\n",
      "Sensitivity:nan,Specificity:0.7272727272727273\n"
     ]
    },
    {
     "name": "stderr",
     "output_type": "stream",
     "text": [
      "/Users/posnerlab/miniconda3/lib/python3.6/site-packages/ipykernel_launcher.py:68: RuntimeWarning: invalid value encountered in long_scalars\n"
     ]
    },
    {
     "name": "stdout",
     "output_type": "stream",
     "text": [
      "0 3 1 7\n",
      "Accuracy:0.6363636363636364,AUC:0.7083333333333334\n",
      "Sensitivity:0.0,Specificity:0.7\n",
      "0 3 0 8\n",
      "Accuracy:0.7272727272727273,AUC:0.75\n",
      "Sensitivity:nan,Specificity:0.7272727272727273\n"
     ]
    },
    {
     "name": "stderr",
     "output_type": "stream",
     "text": [
      "/Users/posnerlab/miniconda3/lib/python3.6/site-packages/ipykernel_launcher.py:68: RuntimeWarning: invalid value encountered in long_scalars\n"
     ]
    },
    {
     "name": "stdout",
     "output_type": "stream",
     "text": [
      "1 2 0 8\n",
      "Accuracy:0.8181818181818182,AUC:0.8125\n",
      "Sensitivity:1.0,Specificity:0.8\n",
      "1 2 0 8\n",
      "Accuracy:0.8181818181818182,AUC:1.0\n",
      "Sensitivity:1.0,Specificity:0.8\n",
      "0 3 1 7\n",
      "Accuracy:0.6363636363636364,AUC:0.4791666666666667\n",
      "Sensitivity:0.0,Specificity:0.7\n",
      "1 2 1 7\n",
      "Accuracy:0.7272727272727273,AUC:0.875\n",
      "Sensitivity:0.5,Specificity:0.7777777777777778\n",
      "0 3 0 8\n",
      "Accuracy:0.7272727272727273,AUC:0.7916666666666666\n",
      "Sensitivity:nan,Specificity:0.7272727272727273\n"
     ]
    },
    {
     "name": "stderr",
     "output_type": "stream",
     "text": [
      "/Users/posnerlab/miniconda3/lib/python3.6/site-packages/ipykernel_launcher.py:68: RuntimeWarning: invalid value encountered in long_scalars\n"
     ]
    },
    {
     "name": "stdout",
     "output_type": "stream",
     "text": [
      "0 3 0 7\n",
      "Accuracy:0.7,AUC:0.7619047619047619\n",
      "Sensitivity:nan,Specificity:0.7\n",
      "Accuracy Avg: 0.7018181818181819\n",
      "Accuracy Standard Deviation: 0.08886799570799955\n",
      "Sensitivity Avg: nan\n",
      "Sensitivity Standard Deviation: nan\n",
      "Specificity Avg: 0.725959595959596\n",
      "Specificity Standard Deviation: 0.05616207034188857\n"
     ]
    },
    {
     "name": "stderr",
     "output_type": "stream",
     "text": [
      "/Users/posnerlab/miniconda3/lib/python3.6/site-packages/ipykernel_launcher.py:68: RuntimeWarning: invalid value encountered in long_scalars\n"
     ]
    }
   ],
   "source": [
    "filename='comine_new.csv'\n",
    "cwd=os.getcwd()\n",
    "os.chdir('../data/adni')\n",
    "for i in range(6,11):\n",
    "#     parser = argumentparser()\n",
    "#     args = parser.parse_args()\n",
    "\n",
    "    X,y=data_fetch_clean(filename,i)\n",
    "    \n",
    "\n",
    "#     X,y=data_fetch_clean()\n",
    "    y = y.reshape(-1)\n",
    "    name=save_name[i-6]\n",
    "#     if args.dataset == 1:\n",
    "    clf_randomforest(X,y,name)\n",
    "#     elif args.dataset == 2:\n",
    "#         clf_randomforest(X, y, 1)"
   ]
  },
  {
   "cell_type": "code",
   "execution_count": 5,
   "metadata": {
    "collapsed": false
   },
   "outputs": [
    {
     "data": {
      "image/png": "[encoded data removed]",
      "text/plain": [
       "<Figure size 432x288 with 1 Axes>"
      ]
     },
     "metadata": {},
     "output_type": "display_data"
    },
    {
     "data": {
      "image/png": "[encoded data removed]",
      "text/plain": [
       "<Figure size 432x288 with 1 Axes>"
      ]
     },
     "metadata": {},
     "output_type": "display_data"
    },
    {
     "data": {
      "image/png": "[encoded data removed]",
      "text/plain": [
       "<Figure size 432x288 with 1 Axes>"
      ]
     },
     "metadata": {},
     "output_type": "display_data"
    },
    {
     "data": {
      "image/png": "[encoded data removed]",
      "text/plain": [
       "<Figure size 432x288 with 1 Axes>"
      ]
     },
     "metadata": {},
     "output_type": "display_data"
    },
    {
     "data": {
      "image/png": "[encoded data removed]",
      "text/plain": [
       "<Figure size 432x288 with 1 Axes>"
      ]
     },
     "metadata": {},
     "output_type": "display_data"
    }
   ],
   "source": [
    "#os.chdir('Mor_only_6_25')\n",
    "\n",
    "for i in range(6,11):\n",
    "        name=save_name[i-6]\n",
    "\n",
    "        label=pickle.load(open('roc_label_'+name+'.p',\"rb\" ) )\n",
    "\n",
    "        pred=pickle.load(open('roc_pred_'+name+'.p',\"rb\" ) )\n",
    "\n",
    "        pp=pickle.load(open('roc_prob_'+name+'.p',\"rb\" ) )\n",
    "\n",
    "        import numpy as np \n",
    "        from sklearn.metrics import roc_curve, auc,f1_score\n",
    "        import matplotlib.pyplot as plt\n",
    "        fpr = dict()\n",
    "        tpr = dict()\n",
    "        roc_auc = dict()\n",
    "\n",
    "        fpr, tpr, _ = roc_curve(label, pp)\n",
    "        roc_auc = auc(fpr, tpr)\n",
    "\n",
    "        plt.figure()\n",
    "        plt.plot(fpr, tpr, lw=5, label='Random Forest(area = %0.2f)' % roc_auc)\n",
    "\n",
    "        plt.plot([0, 1], [0, 1], color='navy', lw=5, linestyle='--')\n",
    "        plt.xlim([0.0, 1.0])\n",
    "        plt.ylim([0.0, 1.0])\n",
    "        plt.xlabel('False Positive Rate')\n",
    "        plt.ylabel('True Positive Rate')\n",
    "        plt.title(name)\n",
    "        plt.legend(loc=\"lower right\") \n",
    "        roc_path=\"ROC_\"+name+\"_connectome.pdf\"\n",
    "        plt.savefig(roc_path)"
   ]
  },
  {
   "cell_type": "code",
   "execution_count": 6,
   "metadata": {
    "collapsed": false
   },
   "outputs": [
    {
     "data": {
      "text/plain": [
       "'/Users/posnerlab/Dropbox (NYSPI)/00 AD ML/0papers/idp_jiook/braindata'"
      ]
     },
     "execution_count": 6,
     "metadata": {},
     "output_type": "execute_result"
    }
   ],
   "source": [
    "os.getcwd()"
   ]
  },
  {
   "cell_type": "code",
   "execution_count": null,
   "metadata": {
    "collapsed": true
   },
   "outputs": [],
   "source": []
  },
  {
   "cell_type": "code",
   "execution_count": null,
   "metadata": {
    "collapsed": true
   },
   "outputs": [],
   "source": []
  }
 ],
 "metadata": {
  "kernelspec": {
   "display_name": "Python 3",
   "language": "python",
   "name": "python3"
  },
  "language_info": {
   "codemirror_mode": {
    "name": "ipython",
    "version": 3
   },
   "file_extension": ".py",
   "mimetype": "text/x-python",
   "name": "python",
   "nbconvert_exporter": "python",
   "pygments_lexer": "ipython3",
   "version": "3.5.4"
  }
 },
 "nbformat": 4,
 "nbformat_minor": 2
}
