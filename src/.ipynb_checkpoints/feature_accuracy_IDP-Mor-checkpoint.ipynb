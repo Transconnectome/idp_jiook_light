{
 "cells": [
  {
   "cell_type": "code",
   "execution_count": 10,
   "metadata": {},
   "outputs": [
    {
     "name": "stdout",
     "output_type": "stream",
     "text": [
      "../braindata/data_1_mor_select_100.csv\n",
      "(208,)\n",
      "0.636363636364\n",
      "0.545454545455\n",
      "../braindata/data_1_mor_select_200.csv\n",
      "(208,)\n",
      "0.439595959596\n",
      "0.545454545455\n",
      "../braindata/data_1_mor_select_300.csv\n",
      "(208,)\n",
      "0.636363636364\n",
      "0.727272727273\n",
      "../braindata/data_1_mor_select_400.csv\n",
      "(208,)\n",
      "0.545454545455\n",
      "0.636363636364\n",
      "../braindata/data_1_mor_select_500.csv\n",
      "(208,)\n",
      "0.636363636364\n",
      "0.727272727273\n",
      "../braindata/data_1_mor_select_600.csv\n",
      "(208,)\n",
      "0.563636363636\n",
      "0.727272727273\n",
      "../braindata/data_1_mor_select_700.csv\n",
      "(208,)\n",
      "0.636363636364\n",
      "0.727272727273\n",
      "../braindata/data_1_mor_select_800.csv\n",
      "(208,)\n",
      "0.545454545455\n",
      "0.727272727273\n",
      "../braindata/data_1_mor_select_900.csv\n",
      "(208,)\n",
      "0.545454545455\n",
      "0.818181818182\n"
     ]
    }
   ],
   "source": [
    "import numpy as np\n",
    "import pandas as pd\n",
    "from pprint import pprint\n",
    "from os import listdir\n",
    "from os.path import isfile, join\n",
    "from sklearn.model_selection import StratifiedKFold\n",
    "from scipy import stats\n",
    "import numpy as np\n",
    "from sklearn import linear_model, svm\n",
    "import re\n",
    "from sklearn.metrics import roc_curve, auc,f1_score\n",
    "\n",
    "\n",
    "\n",
    "n_features = [100,200,300,400,500,600,700,800,900]\n",
    "n_features.sort()\n",
    "s = \"../braindata/data_1_mor_select_100.csv\"\n",
    "\n",
    "lr_all_feature=[]\n",
    "svm_all_feature=[]\n",
    "lr_fls_feature=[]\n",
    "svm_fls_feature=[]\n",
    "\n",
    "for i in n_features:\n",
    "    lr_all_accs = []\n",
    "    lr_all_scores = []\n",
    "    lr_f1s = []\n",
    "    svm_all_accs = []\n",
    "    svm_all_scores = []\n",
    "    svm_f1s = []\n",
    "    base_labels = []\n",
    "    #lr_accuracies = []\n",
    "    #svm_accuracies = []\n",
    "    \n",
    "    replaced = re.sub('100', str(i), s)\n",
    "    print(replaced)\n",
    "    dd =pd.read_csv(replaced,header=0)\n",
    "    data=np.array(dd)\n",
    "        #print(data.shape)\n",
    "    idx_IN_columns = np.append(np.array([3,4]),np.array(range(11,data.shape[1])))\n",
    "    features=data[:,idx_IN_columns]\n",
    "        #features=data[:,11:data.shape[1]]\n",
    "        #features = features.transpose()\n",
    "    features = stats.zscore(features)\n",
    "        #print(features.shape)\n",
    "    y=data[:,6]\n",
    "        #print(y)\n",
    "    print(y.shape)\n",
    "        #5: ad-smi / 6:mci-smi / 7:adonly-smi / 8:ad-mci / 9:adonly-mci / 10:adonly - adwithsmallvv\n",
    "\n",
    "    ind_num=np.isnan(y)\n",
    "       # print(ind_num.shape)\n",
    "    y_no_nan = y[~ind_num]\n",
    "    features_no_nan = features[~ind_num,:]\n",
    "\n",
    "       # print(y.shape)\n",
    "\n",
    "    y=y_no_nan\n",
    "    features=features_no_nan\n",
    "    \n",
    "    for runs in range(10):\n",
    "        lr_accuracies = []\n",
    "        lr_scores = []\n",
    "        svm_accuracies = []\n",
    "        svm_scores = []\n",
    "        strat_labels = []\n",
    "\n",
    "        logistic = linear_model.LogisticRegression(C=1e5)\n",
    "        rbf = svm.SVC(C=10,kernel='linear',gamma=0.01)\n",
    "       \n",
    "        skf = StratifiedKFold(n_splits=10)\n",
    "    for train_index, test_index in skf.split(features, y):\n",
    "                train_data, test_data = features[train_index], features[test_index]\n",
    "                train_labels, test_labels = y[train_index], y[test_index]\n",
    "\n",
    "                strat_labels = np.append(strat_labels, test_labels)\n",
    "\n",
    "                log = logistic.fit(train_data, train_labels)\n",
    "                log_prob = log.decision_function(test_data)\n",
    "                log_acc = log.score(test_data, test_labels)\n",
    "\n",
    "                #f1 calculation\n",
    "                y_pred = logistic.predict(test_data)\n",
    "                log_f1 = f1_score(test_labels, y_pred)\n",
    "\n",
    "                lr_accuracies = np.append(lr_accuracies, log_acc)\n",
    "                lr_scores = np.append(lr_scores, log_prob)\n",
    "                lr_f1s = np.append(lr_f1s, log_f1)\n",
    "                #print('Logistic Regression Accuracy: %f' % log_acc)\n",
    "\n",
    "                rbf = rbf.fit(train_data, train_labels)\n",
    "                svm_acc = rbf.score(test_data, test_labels)\n",
    "                svm_prob = rbf.decision_function(test_data)\n",
    "\n",
    "                #f1 calculation\n",
    "                y_pred = rbf.predict(test_data)\n",
    "                svm_f1 = f1_score(test_labels, y_pred)\n",
    "                #print('SVM Accuracy: %f' % svm_acc)\n",
    "                svm_accuracies = np.append(svm_accuracies, svm_acc)\n",
    "                svm_scores = np.append(svm_scores, svm_prob)\n",
    "                svm_f1s = np.append(svm_f1s, svm_f1)\n",
    "\n",
    "                base_labels = np.append(base_labels, strat_labels)\n",
    "                lr_all_scores = np.append(lr_all_scores, lr_scores)\n",
    "                lr_fold_avg = np.mean(lr_accuracies)\n",
    "                lr_all_accs = np.append(lr_all_accs, lr_fold_avg)\n",
    "                svm_all_scores = np.append(svm_all_scores, svm_scores)\n",
    "                svm_fold_avg = np.mean(svm_accuracies)\n",
    "                svm_all_accs = np.append(svm_all_accs, svm_fold_avg)\n",
    "                #print('Logistic Regression Accuracy: %f' % log_acc_avg)\n",
    "                #print('SVM Regression Accuracy: %f' % svm_acc_avg)\n",
    "    print(max(lr_all_accs))\n",
    "    print(max(svm_all_accs))\n",
    "    \n",
    "    lr_all_feature=np.append(lr_all_feature,np.mean(lr_all_accs))\n",
    "    svm_all_feature=np.append(svm_all_feature,np.mean(svm_all_accs))\n",
    "    lr_fls_feature=np.append(lr_fls_feature,np.mean(lr_f1s))\n",
    "    svm_fls_feature=np.append(svm_fls_feature,np.mean(svm_f1s))"
   ]
  },
  {
   "cell_type": "code",
   "execution_count": 20,
   "metadata": {},
   "outputs": [
    {
     "data": {
      "image/png": "[encoded data removed]",
      "text/plain": [
       "<matplotlib.figure.Figure at 0x116416198>"
      ]
     },
     "metadata": {},
     "output_type": "display_data"
    }
   ],
   "source": [
    "import matplotlib.pyplot as plt\n",
    "plt.figure()\n",
    "plt.plot(n_features, lr_all_feature*100, lw=1, label='Logistic Regression')\n",
    "plt.plot(n_features, svm_all_feature*100, lw=1, label='SVM')\n",
    "plt.xlim([0, 900])\n",
    "plt.ylim([0, 100])\n",
    "plt.xlabel('Number of Features')\n",
    "plt.ylabel('Accuracy')\n",
    "plt.title('Number of Features vs Accuracy')\n",
    "plt.legend(loc=\"lower right\")\n",
    "#plt.savefig('feat_acc.eps')\n",
    "plt.show()"
   ]
  },
  {
   "cell_type": "code",
   "execution_count": 17,
   "metadata": {},
   "outputs": [
    {
     "name": "stdout",
     "output_type": "stream",
     "text": [
      "[ 0.875       0.66666667  0.66666667  0.57142857  0.5         0.66666667\n",
      "  0.2         0.61538462  0.76923077  0.71428571]\n",
      "LR accuracy Avg: 0.47861102649065607\n",
      "LR accuracy Standard Deviation: 0.02975121775107424\n",
      "LR f1s Avg : 0.510638127304794\n",
      "LR f1s Standard Deviation: 0.197711220586164\n",
      "SVM Avg: 0.5462435421231718\n",
      "SVM Standard Deviation: 0.10135984720830055\n",
      "SVM f1s Avg : 0.5970804195804196\n",
      "SVM f1s Standard Deviation: 0.021561657004209835\n"
     ]
    }
   ],
   "source": [
    "svm_f1s=svm_f1s[np.nonzero(svm_f1s)]\n",
    "print(svm_f1s)\n",
    "\n",
    "print(\"LR accuracy Avg: {}\".format(np.mean(lr_all_feature)))\n",
    "print(\"LR accuracy Standard Deviation: {}\".format(np.std(lr_all_feature)))\n",
    "\n",
    "print(\"LR f1s Avg : {}\".format(np.mean( lr_fls_feature)))\n",
    "print(\"LR f1s Standard Deviation: {}\".format(np.std(lr_f1s)))\n",
    "\n",
    "print(\"SVM Avg: {}\".format(np.mean(svm_all_feature)))\n",
    "print(\"SVM Standard Deviation: {}\".format(np.std(svm_all_accs)))\n",
    "\n",
    "print(\"SVM f1s Avg : {}\".format(np.mean( svm_fls_feature )))\n",
    "print(\"SVM f1s Standard Deviation: {}\".format(np.std(svm_fls_feature)))\n",
    "#print(lr_all_accs)"
   ]
  },
  {
   "cell_type": "code",
   "execution_count": 11,
   "metadata": {},
   "outputs": [
    {
     "data": {
      "text/plain": [
       "array([ 0.48315797,  0.40502253,  0.50382728,  0.46442288,  0.50286283,\n",
       "        0.49052553,  0.50894308,  0.47623585,  0.47250128])"
      ]
     },
     "execution_count": 11,
     "metadata": {},
     "output_type": "execute_result"
    }
   ],
   "source": [
    "lr_all_feature"
   ]
  },
  {
   "cell_type": "code",
   "execution_count": 5,
   "metadata": {},
   "outputs": [
    {
     "data": {
      "text/plain": [
       "array([ 72.0952381 ,  73.9047619 ,  70.42857143,  76.        ,\n",
       "        74.57142857,  78.        ,  80.0952381 ,  81.42857143,  82.14285714])"
      ]
     },
     "execution_count": 5,
     "metadata": {},
     "output_type": "execute_result"
    }
   ],
   "source": [
    "svm_total_accuracies"
   ]
  },
  {
   "cell_type": "code",
   "execution_count": null,
   "metadata": {
    "collapsed": true
   },
   "outputs": [],
   "source": []
  }
 ],
 "metadata": {
  "kernelspec": {
   "display_name": "Python 3",
   "language": "python",
   "name": "python3"
  },
  "language_info": {
   "codemirror_mode": {
    "name": "ipython",
    "version": 3
   },
   "file_extension": ".py",
   "mimetype": "text/x-python",
   "name": "python",
   "nbconvert_exporter": "python",
   "pygments_lexer": "ipython3",
   "version": "3.6.1"
  }
 },
 "nbformat": 4,
 "nbformat_minor": 2
}
