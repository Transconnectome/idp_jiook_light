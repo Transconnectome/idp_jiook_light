{
 "cells": [
  {
   "cell_type": "code",
   "execution_count": 50,
   "metadata": {
    "collapsed": false
   },
   "outputs": [
    {
     "name": "stdout",
     "output_type": "stream",
     "text": [
      "Automatically created module for IPython interactive environment\n",
      "Optimal number of features for SVM : 4200\n",
      "Optimal number of features for Logistic : 200\n"
     ]
    },
    {
     "data": {
      "image/png": "[encoded data removed]",
      "text/plain": [
       "<matplotlib.figure.Figure at 0x10a378940>"
      ]
     },
     "metadata": {},
     "output_type": "display_data"
    },
    {
     "name": "stdout",
     "output_type": "stream",
     "text": [
      "Printing SVMCV results:\n",
      "1. Number of features: 6000;Grid_Score: 0.805354\n",
      "2. Number of features: 5000;Grid_Score: 0.805354\n",
      "3. Number of features: 7000;Grid_Score: 0.805354\n",
      "4. Number of features: 9000;Grid_Score: 0.805354\n",
      "5. Number of features: 1000;Grid_Score: 0.798283\n",
      "6. Number of features: 11000;Grid_Score: 0.796263\n",
      "7. Number of features: 10000;Grid_Score: 0.796263\n",
      "8. Number of features: 30000;Grid_Score: 0.796263\n",
      "9. Number of features: 29000;Grid_Score: 0.796263\n",
      "10. Number of features: 28000;Grid_Score: 0.796263\n",
      "11. Number of features: 27000;Grid_Score: 0.796263\n",
      "12. Number of features: 26000;Grid_Score: 0.796263\n",
      "13. Number of features: 12000;Grid_Score: 0.796263\n",
      "14. Number of features: 23000;Grid_Score: 0.796263\n",
      "15. Number of features: 22000;Grid_Score: 0.796263\n",
      "16. Number of features: 21000;Grid_Score: 0.796263\n",
      "17. Number of features: 20000;Grid_Score: 0.796263\n",
      "18. Number of features: 18000;Grid_Score: 0.796263\n",
      "19. Number of features: 17000;Grid_Score: 0.796263\n",
      "20. Number of features: 16000;Grid_Score: 0.796263\n",
      "21. Number of features: 15000;Grid_Score: 0.796263\n",
      "22. Number of features: 14000;Grid_Score: 0.796263\n",
      "23. Number of features: 13000;Grid_Score: 0.796263\n",
      "24. Number of features: 4000;Grid_Score: 0.794242\n",
      "25. Number of features: 25000;Grid_Score: 0.787172\n",
      "26. Number of features: 19000;Grid_Score: 0.787172\n",
      "27. Number of features: 31000;Grid_Score: 0.787172\n",
      "28. Number of features: 32000;Grid_Score: 0.787172\n",
      "29. Number of features: 24000;Grid_Score: 0.787172\n",
      "30. Number of features: 67000;Grid_Score: 0.786061\n",
      "31. Number of features: 68000;Grid_Score: 0.786061\n",
      "32. Number of features: 39000;Grid_Score: 0.786061\n",
      "33. Number of features: 54000;Grid_Score: 0.786061\n",
      "34. Number of features: 66000;Grid_Score: 0.786061\n",
      "35. Number of features: 65000;Grid_Score: 0.786061\n",
      "36. Number of features: 64000;Grid_Score: 0.786061\n",
      "37. Number of features: 63000;Grid_Score: 0.786061\n",
      "38. Number of features: 62000;Grid_Score: 0.786061\n",
      "39. Number of features: 61000;Grid_Score: 0.786061\n",
      "40. Number of features: 60000;Grid_Score: 0.786061\n",
      "41. Number of features: 59000;Grid_Score: 0.786061\n",
      "42. Number of features: 58000;Grid_Score: 0.786061\n",
      "43. Number of features: 57000;Grid_Score: 0.786061\n",
      "44. Number of features: 56000;Grid_Score: 0.786061\n",
      "45. Number of features: 55000;Grid_Score: 0.786061\n",
      "46. Number of features: 53000;Grid_Score: 0.786061\n",
      "47. Number of features: 40000;Grid_Score: 0.786061\n",
      "48. Number of features: 52000;Grid_Score: 0.786061\n",
      "49. Number of features: 51000;Grid_Score: 0.786061\n",
      "50. Number of features: 50000;Grid_Score: 0.786061\n",
      "51. Number of features: 49000;Grid_Score: 0.786061\n",
      "52. Number of features: 48000;Grid_Score: 0.786061\n",
      "53. Number of features: 47000;Grid_Score: 0.786061\n",
      "54. Number of features: 46000;Grid_Score: 0.786061\n",
      "55. Number of features: 45000;Grid_Score: 0.786061\n",
      "56. Number of features: 44000;Grid_Score: 0.786061\n",
      "57. Number of features: 43000;Grid_Score: 0.786061\n",
      "58. Number of features: 42000;Grid_Score: 0.786061\n",
      "59. Number of features: 41000;Grid_Score: 0.786061\n",
      "60. Number of features: 38000;Grid_Score: 0.786061\n",
      "61. Number of features: 34000;Grid_Score: 0.785152\n",
      "62. Number of features: 35000;Grid_Score: 0.785152\n",
      "63. Number of features: 3000;Grid_Score: 0.785152\n",
      "64. Number of features: 33000;Grid_Score: 0.776061\n",
      "65. Number of features: 36000;Grid_Score: 0.776061\n",
      "66. Number of features: 37000;Grid_Score: 0.776061\n",
      "67. Number of features: 2000;Grid_Score: 0.776061\n",
      "68. Number of features: 0;Grid_Score: 0.649596\n"
     ]
    }
   ],
   "source": [
    "print(__doc__)\n",
    "\n",
    "import matplotlib.pyplot as plt\n",
    "from sklearn.svm import SVC\n",
    "from sklearn.model_selection import StratifiedKFold\n",
    "from sklearn.feature_selection import RFECV\n",
    "#ffrom sklearn import linear_model, svm\n",
    "from sklearn.datasets import make_classification\n",
    "import os \n",
    "import pandas as pd\n",
    "import numpy as np\n",
    "from scipy import stats\n",
    "from sklearn import linear_model, svm\n",
    "\n",
    "\n",
    "os.getcwd()\n",
    "#os.chdir('/Users/yunwang/Documents/research/Jiook_AD/papers/idp_jiook_local/braindata')\n",
    "dd =pd.read_csv(\"../braindata/data_2_conn.csv\",header=0)\n",
    "data=np.array(dd)\n",
    "#print(data.shape)\n",
    "idx_IN_columns = np.append(np.array([3,4]),np.array(range(11,data.shape[1])))\n",
    "X=data[:,idx_IN_columns]\n",
    "\n",
    "X = stats.zscore(X)\n",
    "y=data[:,6]\n",
    "#5: ad-smi / 6:mci-smi / 7:adonly-smi / 8:ad-mci / 9:adonly-mci / 10:adonly - adwithsmallvv\n",
    "\n",
    "ind_num=np.isnan(y)\n",
    "\n",
    "\n",
    "y_no_nan = y[~ind_num]\n",
    "\n",
    "X_no_nan = X[~ind_num,:]\n",
    "\n",
    "   # print(y.shape)\n",
    "\n",
    "y=y_no_nan\n",
    "X=X_no_nan\n",
    "feature_num_all=[]\n",
    "lr_all_feature=[]\n",
    "svm_all_feature=[]\n",
    "lr_fls_feature=[]\n",
    "svm_fls_feature=[]\n",
    "\n",
    "np.isnan(X).any()\n",
    "X[np.isnan(X)] = np.median(X[~np.isnan(X)])\n",
    "\n",
    "svc=SVC(kernel=\"linear\")\n",
    "SVMcv = RFECV(estimator=svc, step=500,cv=StratifiedKFold(10),\n",
    "          scoring='accuracy')\n",
    "SVMcv.fit(X, y)\n",
    "logistic = linear_model.LogisticRegression(C=1e5)\n",
    "LOGcv = RFECV(estimator=logistic, step=500,cv=StratifiedKFold(10),\n",
    "          scoring='accuracy')\n",
    "LOGcv.fit(X, y)\n",
    "\n",
    "print(\"Optimal number of features for SVM : %d\" % SVMcv.n_features_)\n",
    "print(\"Optimal number of features for Logistic : %d\" % LOGcv.n_features_)\n",
    "\n",
    "# Plot number of features VS. cross-validation scores\n",
    "plt.figure()\n",
    "plt.xlabel(\"Number of features selected\")\n",
    "plt.ylabel(\"Cross validation score (nb of correct classifications)\")\n",
    "plt.plot([x*500 for x in range(1, len(SVMcv.grid_scores_)+1)], SVMcv.grid_scores_,lw=1, label='SVM')\n",
    "plt.plot([x*500 for x in range(1, len(LOGcv.grid_scores_)+1)], LOGcv.grid_scores_,lw=1, label='Logistic Regression')\n",
    "\n",
    "plt.legend(loc=\"lower right\")\n",
    "\n",
    "#plt.ylim([0, 100])\n",
    "\n",
    "plt.show()\n",
    "g_scores = SVMcv.grid_scores_\n",
    "indices = np.argsort(g_scores)[::-1]\n",
    "print('Printing SVMCV results:')\n",
    "for f in range(1, len(SVMcv.grid_scores_)):\n",
    "    print(\"%d. Number of features: %d;Grid_Score: %f\" % (f , indices[f]*1000, g_scores[indices[f]]))\n"
   ]
  },
  {
   "cell_type": "code",
   "execution_count": 48,
   "metadata": {
    "collapsed": false
   },
   "outputs": [
    {
     "data": {
      "image/png": "[encoded data removed]",
      "text/plain": [
       "<matplotlib.figure.Figure at 0x109db29e8>"
      ]
     },
     "metadata": {},
     "output_type": "display_data"
    }
   ],
   "source": [
    "plt.figure()\n",
    "plt.xlabel(\"Number of features selected\")\n",
    "plt.ylabel(\"Cross validation score (nb of correct classifications)\")\n",
    "plt.plot([x*1000 for x in range(1, len(SVMcv.grid_scores_)+1)], SVMcv.grid_scores_*100,lw=1, label='SVM')\n",
    "plt.plot([x*1000 for x in range(1, len(LOGcv.grid_scores_)+1)], LOGcv.grid_scores_*100,lw=1, label='Logistic Regression')\n",
    "\n",
    "plt.legend(loc=\"lower right\")\n",
    "\n",
    "#plt.ylim([0, 1])\n",
    "\n",
    "plt.show()"
   ]
  },
  {
   "cell_type": "code",
   "execution_count": 43,
   "metadata": {
    "collapsed": false
   },
   "outputs": [
    {
     "data": {
      "text/plain": [
       "array([ 2,  3,  4,  5,  6,  7,  8,  9, 10, 11, 12, 13, 14, 15, 18, 33, 34,\n",
       "       20, 21, 22, 23, 24, 25, 26, 27, 28, 29, 30, 31, 32, 19, 17, 16,  1,\n",
       "        0])"
      ]
     },
     "execution_count": 43,
     "metadata": {},
     "output_type": "execute_result"
    }
   ],
   "source": [
    "indices = np.argsort(g_scores)[::-1]\n",
    "indices"
   ]
  },
  {
   "cell_type": "code",
   "execution_count": 33,
   "metadata": {
    "collapsed": false
   },
   "outputs": [
    {
     "ename": "IndexError",
     "evalue": "index 1000 is out of bounds for axis 0 with size 35",
     "output_type": "error",
     "traceback": [
      "\u001b[0;31m---------------------------------------------------------------------------\u001b[0m",
      "\u001b[0;31mIndexError\u001b[0m                                Traceback (most recent call last)",
      "\u001b[0;32m<ipython-input-33-db1b1cea078c>\u001b[0m in \u001b[0;36m<module>\u001b[0;34m()\u001b[0m\n\u001b[0;32m----> 1\u001b[0;31m \u001b[0mindices\u001b[0m\u001b[0;34m[\u001b[0m\u001b[0mf\u001b[0m\u001b[0;34m]\u001b[0m\u001b[0;34m\u001b[0m\u001b[0m\n\u001b[0m",
      "\u001b[0;31mIndexError\u001b[0m: index 1000 is out of bounds for axis 0 with size 35"
     ]
    }
   ],
   "source": [
    "indices[f]"
   ]
  },
  {
   "cell_type": "code",
   "execution_count": 22,
   "metadata": {
    "collapsed": false
   },
   "outputs": [
    {
     "data": {
      "text/plain": [
       "(35,)"
      ]
     },
     "execution_count": 22,
     "metadata": {},
     "output_type": "execute_result"
    }
   ],
   "source": [
    "g_scores.shape"
   ]
  },
  {
   "cell_type": "code",
   "execution_count": 30,
   "metadata": {
    "collapsed": false
   },
   "outputs": [
    {
     "ename": "IndexError",
     "evalue": "index 1000 is out of bounds for axis 0 with size 35",
     "output_type": "error",
     "traceback": [
      "\u001b[0;31m---------------------------------------------------------------------------\u001b[0m",
      "\u001b[0;31mIndexError\u001b[0m                                Traceback (most recent call last)",
      "\u001b[0;32m<ipython-input-30-db1b1cea078c>\u001b[0m in \u001b[0;36m<module>\u001b[0;34m()\u001b[0m\n\u001b[0;32m----> 1\u001b[0;31m \u001b[0mindices\u001b[0m\u001b[0;34m[\u001b[0m\u001b[0mf\u001b[0m\u001b[0;34m]\u001b[0m\u001b[0;34m\u001b[0m\u001b[0m\n\u001b[0m",
      "\u001b[0;31mIndexError\u001b[0m: index 1000 is out of bounds for axis 0 with size 35"
     ]
    }
   ],
   "source": [
    "indices[f]"
   ]
  },
  {
   "cell_type": "code",
   "execution_count": null,
   "metadata": {
    "collapsed": true
   },
   "outputs": [],
   "source": []
  }
 ],
 "metadata": {
  "kernelspec": {
   "display_name": "Python 3",
   "language": "python",
   "name": "python3"
  },
  "language_info": {
   "codemirror_mode": {
    "name": "ipython",
    "version": 3
   },
   "file_extension": ".py",
   "mimetype": "text/x-python",
   "name": "python",
   "nbconvert_exporter": "python",
   "pygments_lexer": "ipython3",
   "version": "3.5.4"
  }
 },
 "nbformat": 4,
 "nbformat_minor": 2
}
