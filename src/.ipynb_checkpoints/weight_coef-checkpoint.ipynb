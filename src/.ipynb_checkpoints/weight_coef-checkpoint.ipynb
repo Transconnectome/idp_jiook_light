{
 "cells": [
  {
   "cell_type": "code",
   "execution_count": 1,
   "metadata": {
    "collapsed": true
   },
   "outputs": [],
   "source": [
    "from scipy import stats\n",
    "import numpy as np\n",
    "from sklearn import linear_model, svm\n",
    "import matplotlib.pyplot as plt\n",
    "import pandas as pd\n",
    "\n",
    "\n",
    "X= np.loadtxt(open(\"../100_final_data.csv\", \"rb\"), delimiter=\",\", skiprows=1, usecols=range(1,94) )\n",
    "X = X.transpose()\n",
    "X = stats.zscore(X)\n",
    "y = np.loadtxt(open(\"../all_data.csv\", \"rb\"), delimiter=\",\", skiprows=1, usecols=range(1,94))\n",
    "y = y[0,:]"
   ]
  },
  {
   "cell_type": "code",
   "execution_count": 2,
   "metadata": {
    "collapsed": true
   },
   "outputs": [],
   "source": [
    "features = np.loadtxt(open(\"../final_data.csv\", \"rb\"), dtype=str, delimiter=\",\", skiprows=1, usecols=0)"
   ]
  },
  {
   "cell_type": "code",
   "execution_count": 3,
   "metadata": {
    "collapsed": true
   },
   "outputs": [],
   "source": [
    "svm = svm.SVC(kernel='linear')\n",
    "logistic = linear_model.LogisticRegression(C=1e5)\n",
    "\n",
    "svm_weights = svm.fit(X, y).coef_[0]\n",
    "log_weights = logistic.fit(X, y).coef_[0]"
   ]
  },
  {
   "cell_type": "code",
   "execution_count": 4,
   "metadata": {
    "collapsed": true
   },
   "outputs": [],
   "source": [
    "abs_svm_weights = np.absolute(svm_weights)\n",
    "abs_log_weights = np.absolute(log_weights)\n",
    "svm_srtd_ix = np.argsort(abs_svm_weights)\n",
    "log_srtd_ix = np.argsort(abs_log_weights)"
   ]
  },
  {
   "cell_type": "code",
   "execution_count": 5,
   "metadata": {
    "collapsed": true
   },
   "outputs": [],
   "source": [
    "srtd_array = []\n",
    "for i in log_srtd_ix:\n",
    "    line = [[features[i], log_weights[i]]]\n",
    "    srtd_array = srtd_array + line\n",
    "srtd_array = np.array(srtd_array)"
   ]
  },
  {
   "cell_type": "code",
   "execution_count": 6,
   "metadata": {
    "collapsed": false
   },
   "outputs": [
    {
     "name": "stdout",
     "output_type": "stream",
     "text": [
      "[['1_count_volumeadj_1587' '-1.71278366544']\n",
      " ['1_count_volumeadj_214' '-1.7541839981']\n",
      " ['1_length_1895' '1.78635840639']\n",
      " ['1_length_4763' '1.94279632165']\n",
      " ['rh_S_oc_sup_and_transversal_thickness' '-1.95676496592']\n",
      " ['1_length_3666' '-2.01870160276']\n",
      " ['1_count_volumeadj_3079' '-2.06835771595']\n",
      " ['1_length_718' '-2.14795373387']\n",
      " ['1_length_486' '2.16803227515']\n",
      " ['1_count_volumeadj_3324' '-2.23243500474']]\n"
     ]
    }
   ],
   "source": [
    "print(srtd_array[-10:,:])"
   ]
  },
  {
   "cell_type": "code",
   "execution_count": 7,
   "metadata": {
    "collapsed": false
   },
   "outputs": [
    {
     "data": {
      "image/png": "[encoded data removed]",
      "text/plain": [
       "<matplotlib.figure.Figure at 0x210004b9a20>"
      ]
     },
     "metadata": {},
     "output_type": "display_data"
    }
   ],
   "source": [
    "x = srtd_array[:,1].astype(float)\n",
    "n, bins, patches = plt.hist(x, 30)\n",
    "plt.xlabel('Weights')\n",
    "plt.title('100 Weights Histogram')\n",
    "plt.savefig('100_hist_weights.eps')\n",
    "plt.show()"
   ]
  },
  {
   "cell_type": "code",
   "execution_count": 8,
   "metadata": {
    "collapsed": true
   },
   "outputs": [],
   "source": [
    "from scipy import stats\n",
    "import numpy as np\n",
    "from sklearn import linear_model, svm\n",
    "import matplotlib.pyplot as plt\n",
    "import pandas as pd\n",
    "\n",
    "\n",
    "X= np.loadtxt(open(\"../final_data.csv\", \"rb\"), delimiter=\",\", skiprows=1, usecols=range(1,94) )\n",
    "X = X.transpose()\n",
    "X = stats.zscore(X)\n",
    "y = np.loadtxt(open(\"../all_data.csv\", \"rb\"), delimiter=\",\", skiprows=1, usecols=range(1,94))\n",
    "y = y[0,:]\n",
    "features = np.loadtxt(open(\"../final_data.csv\", \"rb\"), dtype=str, delimiter=\",\", skiprows=1, usecols=0)"
   ]
  },
  {
   "cell_type": "code",
   "execution_count": 10,
   "metadata": {
    "collapsed": false
   },
   "outputs": [
    {
     "data": {
      "image/png": "[encoded data removed]",
      "text/plain": [
       "<matplotlib.figure.Figure at 0x2100347acc0>"
      ]
     },
     "metadata": {},
     "output_type": "display_data"
    }
   ],
   "source": [
    "logistic = linear_model.LogisticRegression(C=1e5)\n",
    "log_weights = logistic.fit(X, y).coef_[0]\n",
    "abs_log_weights = np.absolute(log_weights)\n",
    "log_srtd_ix = np.argsort(abs_log_weights)\n",
    "srtd_array = []\n",
    "for i in log_srtd_ix:\n",
    "    line = [[features[i], log_weights[i]]]\n",
    "    srtd_array = srtd_array + line\n",
    "srtd_array = np.array(srtd_array)\n",
    "\n",
    "x = srtd_array[:,1].astype(float)\n",
    "n, bins, patches = plt.hist(x, 50)\n",
    "plt.xlabel('Weights')\n",
    "plt.title('All Weights Histogram')\n",
    "plt.savefig('all_hist_weights.eps')\n",
    "plt.show()"
   ]
  },
  {
   "cell_type": "code",
   "execution_count": null,
   "metadata": {
    "collapsed": true
   },
   "outputs": [],
   "source": []
  }
 ],
 "metadata": {
  "kernelspec": {
   "display_name": "Python 3",
   "language": "python",
   "name": "python3"
  },
  "language_info": {
   "codemirror_mode": {
    "name": "ipython",
    "version": 3
   },
   "file_extension": ".py",
   "mimetype": "text/x-python",
   "name": "python",
   "nbconvert_exporter": "python",
   "pygments_lexer": "ipython3",
   "version": "3.5.4"
  }
 },
 "nbformat": 4,
 "nbformat_minor": 2
}
