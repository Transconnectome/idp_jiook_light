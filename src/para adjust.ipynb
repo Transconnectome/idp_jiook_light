{
 "cells": [
  {
   "cell_type": "code",
   "execution_count": 4,
   "metadata": {
    "collapsed": true
   },
   "outputs": [],
   "source": [
    "from sklearn.model_selection import StratifiedKFold\n",
    "from scipy import stats\n",
    "import numpy as np\n",
    "from sklearn import linear_model, svm\n",
    "from sklearn.metrics import roc_curve, auc\n",
    "import matplotlib.pyplot as plt\n",
    "from sklearn.model_selection import GridSearchCV\n",
    "\n",
    "features = np.loadtxt(open(\"../final_data.csv\", \"rb\"), delimiter=\",\", skiprows=1, usecols=range(1,94) )\n",
    "features = features.transpose()\n",
    "features = stats.zscore(features)\n",
    "y = np.loadtxt(open(\"../all_data.csv\", \"rb\"), delimiter=\",\", skiprows=1, usecols=range(1,94))\n",
    "y = y[0,:]"
   ]
  },
  {
   "cell_type": "code",
   "execution_count": 5,
   "metadata": {},
   "outputs": [
    {
     "name": "stdout",
     "output_type": "stream",
     "text": [
      "LR accuracy avg: 0.9677777777777778\n",
      "SVM accuracy avg: 0.9366666666666668\n"
     ]
    }
   ],
   "source": [
    "lr_accuracies = []\n",
    "lr_scores = []\n",
    "svm_accuracies = []\n",
    "svm_scores = []\n",
    "strat_labels = []\n",
    "\n",
    "rbf = svm.SVC(kernel='linear')\n",
    "logistic = linear_model.LogisticRegression(C=1e5)\n",
    "\n",
    "skf = StratifiedKFold(n_splits=10)\n",
    "for train_index, test_index in skf.split(features, y):\n",
    "    train_data, test_data = features[train_index], features[test_index]\n",
    "    train_labels, test_labels = y[train_index], y[test_index]\n",
    "    log = logistic.fit(train_data, train_labels)\n",
    "    log_prob = log.decision_function(test_data)\n",
    "    log_acc = log.score(test_data, test_labels)\n",
    "    #print('Logistic Regression Accuracy: %f' % log_acc)\n",
    "    \n",
    "    rbf = rbf.fit(train_data, train_labels)\n",
    "    svm_acc = rbf.score(test_data, test_labels)\n",
    "    svm_prob = rbf.decision_function(test_data)\n",
    "    #print('SVM Accuracy: %f' % svm_acc)\n",
    "    \n",
    "    lr_accuracies = np.append(lr_accuracies, log_acc)\n",
    "    lr_scores = np.append(lr_scores, log_prob)\n",
    "    svm_accuracies = np.append(svm_accuracies, svm_acc)\n",
    "    svm_scores = np.append(svm_scores, svm_prob)\n",
    "    strat_labels = np.append(strat_labels, test_labels)\n",
    "print(\"LR accuracy avg: {}\".format(np.mean(lr_accuracies)))\n",
    "print(\"SVM accuracy avg: {}\".format(np.mean(svm_accuracies)))"
   ]
  },
  {
   "cell_type": "code",
   "execution_count": 6,
   "metadata": {},
   "outputs": [
    {
     "data": {
      "image/png": "[encoded data removed]",
      "text/plain": [
       "<matplotlib.figure.Figure at 0x1e6d02001d0>"
      ]
     },
     "metadata": {},
     "output_type": "display_data"
    }
   ],
   "source": [
    "fpr = dict()\n",
    "tpr = dict()\n",
    "roc_auc = dict()\n",
    "\n",
    "fpr['svm'], tpr['svm'], _ = roc_curve(strat_labels, svm_scores)\n",
    "roc_auc['svm'] = auc(fpr['svm'], tpr['svm'])\n",
    "fpr['lr'], tpr['lr'], _ = roc_curve(strat_labels, lr_scores)\n",
    "roc_auc['lr'] = auc(fpr['lr'], tpr['lr'])\n",
    "\n",
    "plt.figure()\n",
    "plt.plot(fpr['svm'], tpr['svm'], lw=3, label='SVM (area = %0.2f)' % roc_auc['svm'])\n",
    "plt.plot(fpr['lr'], tpr['lr'], lw=3, label='Logistic Regression (area = %0.2f)' % roc_auc['lr'])\n",
    "plt.plot([0, 1], [0, 1], color='navy', lw=1, linestyle='--')\n",
    "plt.xlim([0.0, 1.0])\n",
    "plt.ylim([0.0, 1.0])\n",
    "plt.xlabel('False Positive Rate')\n",
    "plt.ylabel('True Positive Rate')\n",
    "plt.title('Receiver Operating Characteristic')\n",
    "plt.legend(loc=\"lower right\")\n",
    "#plt.savefig('param_ROC.eps')\n",
    "plt.show()"
   ]
  },
  {
   "cell_type": "code",
   "execution_count": null,
   "metadata": {
    "collapsed": true
   },
   "outputs": [],
   "source": []
  }
 ],
 "metadata": {
  "kernelspec": {
   "display_name": "Python 3",
   "language": "python",
   "name": "python3"
  },
  "language_info": {
   "codemirror_mode": {
    "name": "ipython",
    "version": 3
   },
   "file_extension": ".py",
   "mimetype": "text/x-python",
   "name": "python",
   "nbconvert_exporter": "python",
   "pygments_lexer": "ipython3",
   "version": "3.5.3"
  }
 },
 "nbformat": 4,
 "nbformat_minor": 2
}
