{
 "cells": [
  {
   "cell_type": "code",
   "execution_count": 5,
   "metadata": {
    "collapsed": false
   },
   "outputs": [
    {
     "name": "stdout",
     "output_type": "stream",
     "text": [
      "Calculating correlation...\n",
      "96.7777777778\n",
      "93.6666666667\n"
     ]
    }
   ],
   "source": [
    "import numpy as np\n",
    "import pandas as pd\n",
    "from pprint import pprint\n",
    "from os import listdir\n",
    "from os.path import isfile, join\n",
    "from sklearn.model_selection import StratifiedKFold\n",
    "from scipy import stats\n",
    "import numpy as np\n",
    "from sklearn import linear_model, svm\n",
    "\n",
    "df = pd.read_csv('../all_data.csv',header=0, index_col=0)\n",
    "df['sum'] = df.sum(axis=1, numeric_only=True)\n",
    "\n",
    "for i in df.index:\n",
    "    if df.loc[i]['sum'] == 0:\n",
    "        df.drop(i, inplace=True)\n",
    "df.drop('sum', axis=1, inplace=True)\n",
    "\n",
    "print(\"Calculating correlation...\")\n",
    "corr = {}\n",
    "for k in df.index:\n",
    "    if k == 'highrisk': continue\n",
    "  #print(\"Processing {}\".format(k))\n",
    "    corr[k] = np.absolute(np.corrcoef(df.loc['highrisk',:], df.loc[k,:]))[0,1] \n",
    "\n",
    "keys = list(corr.keys())\n",
    "for k in keys:\n",
    "    if np.isnan(corr[k]):\n",
    "        corr.pop(k, None)\n",
    "\n",
    "values = list(corr.values())\n",
    "srtd_ix = np.argsort(values)\n",
    "\n",
    "logistic = linear_model.LogisticRegression(C=1e5)\n",
    "rbf = svm.SVC(kernel='linear')\n",
    "lr_total_accuracies = []\n",
    "svm_total_accuracies = []\n",
    "\n",
    "n_features = [10, 100, 200, 400, 600, 800, 900, 1200, 1600, 3200, 4800, 6400, 7876]\n",
    "\n",
    "#pprint(df.loc[ [ keys[fid] for fid in srtd_ix[0:99] ],:])\n",
    "#print(\"Exporting to CSV...\")\n",
    "for i in n_features:\n",
    "    df.loc[ [ keys[fid] for fid in srtd_ix[-i:] ],:].to_csv('../final_data.csv')\n",
    "    #print(values[srtd_ix[-i]])\n",
    "    features = np.loadtxt(open(\"../final_data.csv\", \"rb\"), delimiter=\",\", skiprows=1, usecols=range(1,94) )\n",
    "    features = features.transpose()\n",
    "    features = stats.zscore(features)\n",
    "    y = np.loadtxt(open(\"../all_data.csv\", \"rb\"), delimiter=\",\", skiprows=1, usecols=range(1,94))\n",
    "    y = y[0,:]\n",
    "\n",
    "    lr_accuracies = []\n",
    "    svm_accuracies = []\n",
    "    skf = StratifiedKFold(n_splits=10)\n",
    "\n",
    "    for train_index, test_index in skf.split(features, y):\n",
    "        train_data, test_data = features[train_index], features[test_index]\n",
    "        train_labels, test_labels = y[train_index], y[test_index]\n",
    "        \n",
    "        log_acc = logistic.fit(train_data, train_labels).score(test_data, test_labels)\n",
    "        lr_accuracies = np.append(lr_accuracies, log_acc)\n",
    "        svm_acc = rbf.fit(train_data, train_labels).score(test_data, test_labels)\n",
    "        svm_accuracies = np.append(svm_accuracies, svm_acc)\n",
    "        \n",
    "        log_acc_avg = np.mean(lr_accuracies)*100\n",
    "        svm_acc_avg = np.mean(svm_accuracies)*100\n",
    "    #print('Logistic Regression Accuracy: %f' % log_acc_avg)\n",
    "    #print('SVM Regression Accuracy: %f' % svm_acc_avg)\n",
    "    lr_total_accuracies = np.append(lr_total_accuracies, log_acc_avg)\n",
    "    svm_total_accuracies = np.append(svm_total_accuracies, svm_acc_avg)\n",
    "print(max(lr_total_accuracies))\n",
    "print(max(svm_total_accuracies))"
   ]
  },
  {
   "cell_type": "code",
   "execution_count": 6,
   "metadata": {
    "collapsed": false
   },
   "outputs": [
    {
     "data": {
      "image/png": "[encoded data removed]",
      "text/plain": [
       "<matplotlib.figure.Figure at 0x221b47bc2e8>"
      ]
     },
     "metadata": {},
     "output_type": "display_data"
    }
   ],
   "source": [
    "import matplotlib.pyplot as plt\n",
    "plt.figure()\n",
    "plt.plot(n_features, lr_total_accuracies, lw=1, label='Logistic Regression')\n",
    "plt.plot(n_features, svm_total_accuracies, lw=1, label='SVM')\n",
    "plt.xlim([0, 7876])\n",
    "plt.ylim([0, 100])\n",
    "plt.xlabel('Number of Features')\n",
    "plt.ylabel('Accuracy')\n",
    "plt.title('Number of Features vs Accuracy')\n",
    "plt.legend(loc=\"lower right\")\n",
    "#plt.savefig('feat_acc.eps')\n",
    "plt.show()\n",
    "plt.save('')\n"
   ]
  },
  {
   "cell_type": "code",
   "execution_count": null,
   "metadata": {
    "collapsed": true
   },
   "outputs": [],
   "source": []
  }
 ],
 "metadata": {
  "kernelspec": {
   "display_name": "Python 3",
   "language": "python",
   "name": "python3"
  },
  "language_info": {
   "codemirror_mode": {
    "name": "ipython",
    "version": 3
   },
   "file_extension": ".py",
   "mimetype": "text/x-python",
   "name": "python",
   "nbconvert_exporter": "python",
   "pygments_lexer": "ipython3",
   "version": "3.5.4"
  }
 },
 "nbformat": 4,
 "nbformat_minor": 2
}
