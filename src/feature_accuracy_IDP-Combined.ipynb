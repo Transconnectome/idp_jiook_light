{
 "cells": [
  {
   "cell_type": "code",
   "execution_count": 70,
   "metadata": {},
   "outputs": [],
   "source": [
    "import numpy as np\n",
    "import pandas as pd\n",
    "from pprint import pprint\n",
    "from os import listdir\n",
    "from os.path import isfile, join\n",
    "from sklearn.model_selection import StratifiedKFold\n",
    "from scipy import stats\n",
    "import numpy as np\n",
    "from sklearn import linear_model, svm\n",
    "import re\n",
    "from sklearn.metrics import roc_curve, auc,f1_score\n",
    "\n",
    "\n",
    "\n",
    "#n_features = [100,200,300,400,500,600,700,800,900,1000,2000,3000,4000,5000,6000,7000,8000,9000,10000,11000,12000,13000,14000,15000,16000,17000,18000,19000,20000,21000,22000,23000,24000,25000,26000,27000,28000,29000,30000]\n",
    "n_features = [100,200,300,400,500,600,700,800,900,1000]\n",
    "n_features.sort()\n",
    "s = \"../braindata/data_3_conn_select_100.csv\"\n",
    "\n",
    "lr_all_feature=[]\n",
    "svm_all_feature=[]\n",
    "lr_fls_feature=[]\n",
    "svm_fls_feature=[]\n",
    "\n",
    "for i in n_features:\n",
    "    lr_all_accs = []\n",
    "    lr_all_scores = []\n",
    "    lr_f1s = []\n",
    "    svm_all_accs = []\n",
    "    svm_all_scores = []\n",
    "    svm_f1s = []\n",
    "    base_labels = []\n",
    "    #lr_accuracies = []\n",
    "    #svm_accuracies = []\n",
    "    \n",
    "    replaced = re.sub('100', str(i), s)\n",
    "    #print(replaced)\n",
    "    dd =pd.read_csv(replaced,header=0)\n",
    "    data=np.array(dd)\n",
    "        #print(data.shape)\n",
    "    idx_IN_columns = np.append(np.array([3,4]),np.array(range(11,data.shape[1])))\n",
    "    features=data[:,idx_IN_columns]\n",
    "        #features=data[:,11:data.shape[1]]\n",
    "        #features = features.transpose()\n",
    "    features = stats.zscore(features)\n",
    "        #print(features.shape)\n",
    "    y=data[:,6]\n",
    "        #print(y)\n",
    "   # print(y.shape)\n",
    "        #5: ad-smi / 6:mci-smi / 7:adonly-smi / 8:ad-mci / 9:adonly-mci / 10:adonly - adwithsmallvv\n",
    "\n",
    "    ind_num=np.isnan(y)\n",
    "       # print(ind_num.shape)\n",
    "    y_no_nan = y[~ind_num]\n",
    "    features_no_nan = features[~ind_num,:]\n",
    "\n",
    "       # print(y.shape)\n",
    "\n",
    "    y=y_no_nan\n",
    "    features=features_no_nan\n",
    "    \n",
    "\n",
    "    for runs in range(100):\n",
    "        lr_accuracies = []\n",
    "        lr_scores = []\n",
    "        svm_accuracies = []\n",
    "        svm_scores = []\n",
    "        strat_labels = []\n",
    "\n",
    "        logistic = linear_model.LogisticRegression(C=1e5)\n",
    "        rbf = svm.SVC(C=10,kernel='linear',gamma=0.01)\n",
    "\n",
    "        skf = StratifiedKFold(n_splits=10)\n",
    "\n",
    "        for train_index, test_index in skf.split(features, y):\n",
    "                    train_data, test_data = features[train_index], features[test_index]\n",
    "                    train_labels, test_labels = y[train_index], y[test_index]\n",
    "\n",
    "                    strat_labels = np.append(strat_labels, test_labels)\n",
    "\n",
    "                    log = logistic.fit(train_data, train_labels)\n",
    "                    log_prob = log.decision_function(test_data)\n",
    "                    log_acc = log.score(test_data, test_labels)\n",
    "\n",
    "                    #f1 calculation\n",
    "                    y_pred = logistic.predict(test_data)\n",
    "                    log_f1 = f1_score(test_labels, y_pred)\n",
    "\n",
    "\n",
    "                    rbf = rbf.fit(train_data, train_labels)\n",
    "                    svm_acc = rbf.score(test_data, test_labels)\n",
    "                    svm_prob = rbf.decision_function(test_data)\n",
    "\n",
    "                    #f1 calculation\n",
    "                    y_pred = rbf.predict(test_data)\n",
    "                    svm_f1 = f1_score(test_labels, y_pred)\n",
    "                    #print('SVM Accuracy: %f' % svm_acc)\n",
    "\n",
    "                    lr_accuracies = np.append(lr_accuracies, log_acc)\n",
    "                    lr_scores = np.append(lr_scores, log_prob)\n",
    "                    lr_f1s = np.append(lr_f1s, log_f1)\n",
    "                    #print('Logistic Regression Accuracy: %f' % log_acc)\n",
    "                    svm_accuracies = np.append(svm_accuracies, svm_acc)\n",
    "                    svm_scores = np.append(svm_scores, svm_prob)\n",
    "                    svm_f1s = np.append(svm_f1s, svm_f1)\n",
    "\n",
    "                    base_labels = np.append(base_labels, strat_labels)\n",
    "                    lr_all_scores = np.append(lr_all_scores, lr_scores)\n",
    "                    lr_fold_avg = np.mean(lr_accuracies)\n",
    "                    lr_all_accs = np.append(lr_all_accs, lr_fold_avg)\n",
    "                    svm_all_scores = np.append(svm_all_scores, svm_scores)\n",
    "                    svm_fold_avg = np.mean(svm_accuracies)\n",
    "                    svm_all_accs = np.append(svm_all_accs, svm_fold_avg)\n",
    "                    #print('Logistic Regression Accuracy: %f' % log_acc_avg)\n",
    "                    #print('SVM Regression Accuracy: %f' % svm_acc_avg)\n",
    "        #print(max(lr_all_accs))\n",
    "       # print(max(svm_all_accs))\n",
    "\n",
    "    lr_all_feature=np.append(lr_all_feature,np.mean(lr_all_accs))\n",
    "    svm_all_feature=np.append(svm_all_feature,np.mean(svm_all_accs))\n",
    "    lr_fls_feature=np.append(lr_fls_feature,np.mean(lr_f1s))\n",
    "    svm_fls_feature=np.append(svm_fls_feature,np.mean(svm_f1s))"
   ]
  },
  {
   "cell_type": "code",
   "execution_count": 75,
   "metadata": {},
   "outputs": [
    {
     "data": {
      "image/png": "[encoded data removed]",
      "text/plain": [
       "<matplotlib.figure.Figure at 0x1a1615a390>"
      ]
     },
     "metadata": {},
     "output_type": "display_data"
    }
   ],
   "source": [
    "import matplotlib.pyplot as plt\n",
    "plt.figure()\n",
    "plt.plot(n_features, lr_all_feature*100, lw=1, label='Logistic Regression')\n",
    "plt.plot(n_features, svm_all_feature*100, lw=1, label='SVM')\n",
    "plt.xlim([100, 1000])\n",
    "plt.ylim([60, 100])\n",
    "plt.xlabel('Number of Features')\n",
    "plt.ylabel('Accuracy')\n",
    "plt.title('Number of Features vs Accuracy')\n",
    "plt.legend(loc=\"lower right\")\n",
    "#plt.savefig('AD_SMI_Combined.eps')\n",
    "plt.show()"
   ]
  },
  {
   "cell_type": "code",
   "execution_count": 76,
   "metadata": {},
   "outputs": [
    {
     "name": "stdout",
     "output_type": "stream",
     "text": [
      "[ 0.93333333  0.93333333  0.92307692  1.          0.92307692  0.92307692\n",
      "  1.          0.90909091  0.93333333  0.93333333  0.92307692  1.\n",
      "  0.92307692  0.92307692  1.          0.90909091  0.93333333  0.93333333\n",
      "  0.92307692  1.          0.92307692  0.92307692  1.          0.90909091\n",
      "  0.93333333  0.93333333  0.92307692  1.          0.92307692  0.92307692\n",
      "  1.          0.90909091  0.93333333  0.93333333  0.92307692  1.\n",
      "  0.92307692  0.92307692  1.          0.90909091  0.93333333  0.93333333\n",
      "  0.92307692  1.          0.92307692  0.92307692  1.          0.90909091\n",
      "  0.93333333  0.93333333  0.92307692  1.          0.92307692  0.92307692\n",
      "  1.          0.90909091  0.93333333  0.93333333  0.92307692  1.\n",
      "  0.92307692  0.92307692  1.          0.90909091  0.93333333  0.93333333\n",
      "  0.92307692  1.          0.92307692  0.92307692  1.          0.90909091\n",
      "  0.93333333  0.93333333  0.92307692  1.          0.92307692  0.92307692\n",
      "  1.          0.90909091  0.93333333  0.93333333  0.92307692  1.\n",
      "  0.92307692  0.92307692  1.          0.90909091  0.93333333  0.93333333\n",
      "  0.92307692  1.          0.92307692  0.92307692  1.          0.90909091\n",
      "  0.93333333  0.93333333  0.92307692  1.          0.92307692  0.92307692\n",
      "  1.          0.90909091  0.93333333  0.93333333  0.92307692  1.\n",
      "  0.92307692  0.92307692  1.          0.90909091  0.93333333  0.93333333\n",
      "  0.92307692  1.          0.92307692  0.92307692  1.          0.90909091\n",
      "  0.93333333  0.93333333  0.92307692  1.          0.92307692  0.92307692\n",
      "  1.          0.90909091  0.93333333  0.93333333  0.92307692  1.\n",
      "  0.92307692  0.92307692  1.          0.90909091  0.93333333  0.93333333\n",
      "  0.92307692  1.          0.92307692  0.92307692  1.          0.90909091\n",
      "  0.93333333  0.93333333  0.92307692  1.          0.92307692  0.92307692\n",
      "  1.          0.90909091  0.93333333  0.93333333  0.92307692  1.\n",
      "  0.92307692  0.92307692  1.          0.90909091  0.93333333  0.93333333\n",
      "  0.92307692  1.          0.92307692  0.92307692  1.          0.90909091\n",
      "  0.93333333  0.93333333  0.92307692  1.          0.92307692  0.92307692\n",
      "  1.          0.90909091  0.93333333  0.93333333  0.92307692  1.\n",
      "  0.92307692  0.92307692  1.          0.90909091  0.93333333  0.93333333\n",
      "  0.92307692  1.          0.92307692  0.92307692  1.          0.90909091\n",
      "  0.93333333  0.93333333  0.92307692  1.          0.92307692  0.92307692\n",
      "  1.          0.90909091  0.93333333  0.93333333  0.92307692  1.\n",
      "  0.92307692  0.92307692  1.          0.90909091  0.93333333  0.93333333\n",
      "  0.92307692  1.          0.92307692  0.92307692  1.          0.90909091\n",
      "  0.93333333  0.93333333  0.92307692  1.          0.92307692  0.92307692\n",
      "  1.          0.90909091  0.93333333  0.93333333  0.92307692  1.\n",
      "  0.92307692  0.92307692  1.          0.90909091  0.93333333  0.93333333\n",
      "  0.92307692  1.          0.92307692  0.92307692  1.          0.90909091\n",
      "  0.93333333  0.93333333  0.92307692  1.          0.92307692  0.92307692\n",
      "  1.          0.90909091  0.93333333  0.93333333  0.92307692  1.\n",
      "  0.92307692  0.92307692  1.          0.90909091  0.93333333  0.93333333\n",
      "  0.92307692  1.          0.92307692  0.92307692  1.          0.90909091\n",
      "  0.93333333  0.93333333  0.92307692  1.          0.92307692  0.92307692\n",
      "  1.          0.90909091  0.93333333  0.93333333  0.92307692  1.\n",
      "  0.92307692  0.92307692  1.          0.90909091  0.93333333  0.93333333\n",
      "  0.92307692  1.          0.92307692  0.92307692  1.          0.90909091\n",
      "  0.93333333  0.93333333  0.92307692  1.          0.92307692  0.92307692\n",
      "  1.          0.90909091  0.93333333  0.93333333  0.92307692  1.\n",
      "  0.92307692  0.92307692  1.          0.90909091  0.93333333  0.93333333\n",
      "  0.92307692  1.          0.92307692  0.92307692  1.          0.90909091\n",
      "  0.93333333  0.93333333  0.92307692  1.          0.92307692  0.92307692\n",
      "  1.          0.90909091  0.93333333  0.93333333  0.92307692  1.\n",
      "  0.92307692  0.92307692  1.          0.90909091  0.93333333  0.93333333\n",
      "  0.92307692  1.          0.92307692  0.92307692  1.          0.90909091\n",
      "  0.93333333  0.93333333  0.92307692  1.          0.92307692  0.92307692\n",
      "  1.          0.90909091  0.93333333  0.93333333  0.92307692  1.\n",
      "  0.92307692  0.92307692  1.          0.90909091  0.93333333  0.93333333\n",
      "  0.92307692  1.          0.92307692  0.92307692  1.          0.90909091\n",
      "  0.93333333  0.93333333  0.92307692  1.          0.92307692  0.92307692\n",
      "  1.          0.90909091  0.93333333  0.93333333  0.92307692  1.\n",
      "  0.92307692  0.92307692  1.          0.90909091  0.93333333  0.93333333\n",
      "  0.92307692  1.          0.92307692  0.92307692  1.          0.90909091\n",
      "  0.93333333  0.93333333  0.92307692  1.          0.92307692  0.92307692\n",
      "  1.          0.90909091  0.93333333  0.93333333  0.92307692  1.\n",
      "  0.92307692  0.92307692  1.          0.90909091  0.93333333  0.93333333\n",
      "  0.92307692  1.          0.92307692  0.92307692  1.          0.90909091\n",
      "  0.93333333  0.93333333  0.92307692  1.          0.92307692  0.92307692\n",
      "  1.          0.90909091  0.93333333  0.93333333  0.92307692  1.\n",
      "  0.92307692  0.92307692  1.          0.90909091  0.93333333  0.93333333\n",
      "  0.92307692  1.          0.92307692  0.92307692  1.          0.90909091\n",
      "  0.93333333  0.93333333  0.92307692  1.          0.92307692  0.92307692\n",
      "  1.          0.90909091  0.93333333  0.93333333  0.92307692  1.\n",
      "  0.92307692  0.92307692  1.          0.90909091  0.93333333  0.93333333\n",
      "  0.92307692  1.          0.92307692  0.92307692  1.          0.90909091\n",
      "  0.93333333  0.93333333  0.92307692  1.          0.92307692  0.92307692\n",
      "  1.          0.90909091  0.93333333  0.93333333  0.92307692  1.\n",
      "  0.92307692  0.92307692  1.          0.90909091  0.93333333  0.93333333\n",
      "  0.92307692  1.          0.92307692  0.92307692  1.          0.90909091\n",
      "  0.93333333  0.93333333  0.92307692  1.          0.92307692  0.92307692\n",
      "  1.          0.90909091  0.93333333  0.93333333  0.92307692  1.\n",
      "  0.92307692  0.92307692  1.          0.90909091  0.93333333  0.93333333\n",
      "  0.92307692  1.          0.92307692  0.92307692  1.          0.90909091\n",
      "  0.93333333  0.93333333  0.92307692  1.          0.92307692  0.92307692\n",
      "  1.          0.90909091  0.93333333  0.93333333  0.92307692  1.\n",
      "  0.92307692  0.92307692  1.          0.90909091  0.93333333  0.93333333\n",
      "  0.92307692  1.          0.92307692  0.92307692  1.          0.90909091\n",
      "  0.93333333  0.93333333  0.92307692  1.          0.92307692  0.92307692\n",
      "  1.          0.90909091  0.93333333  0.93333333  0.92307692  1.\n",
      "  0.92307692  0.92307692  1.          0.90909091  0.93333333  0.93333333\n",
      "  0.92307692  1.          0.92307692  0.92307692  1.          0.90909091\n",
      "  0.93333333  0.93333333  0.92307692  1.          0.92307692  0.92307692\n",
      "  1.          0.90909091  0.93333333  0.93333333  0.92307692  1.\n",
      "  0.92307692  0.92307692  1.          0.90909091  0.93333333  0.93333333\n",
      "  0.92307692  1.          0.92307692  0.92307692  1.          0.90909091\n",
      "  0.93333333  0.93333333  0.92307692  1.          0.92307692  0.92307692\n",
      "  1.          0.90909091  0.93333333  0.93333333  0.92307692  1.\n",
      "  0.92307692  0.92307692  1.          0.90909091  0.93333333  0.93333333\n",
      "  0.92307692  1.          0.92307692  0.92307692  1.          0.90909091\n",
      "  0.93333333  0.93333333  0.92307692  1.          0.92307692  0.92307692\n",
      "  1.          0.90909091  0.93333333  0.93333333  0.92307692  1.\n",
      "  0.92307692  0.92307692  1.          0.90909091  0.93333333  0.93333333\n",
      "  0.92307692  1.          0.92307692  0.92307692  1.          0.90909091\n",
      "  0.93333333  0.93333333  0.92307692  1.          0.92307692  0.92307692\n",
      "  1.          0.90909091  0.93333333  0.93333333  0.92307692  1.\n",
      "  0.92307692  0.92307692  1.          0.90909091  0.93333333  0.93333333\n",
      "  0.92307692  1.          0.92307692  0.92307692  1.          0.90909091\n",
      "  0.93333333  0.93333333  0.92307692  1.          0.92307692  0.92307692\n",
      "  1.          0.90909091  0.93333333  0.93333333  0.92307692  1.\n",
      "  0.92307692  0.92307692  1.          0.90909091  0.93333333  0.93333333\n",
      "  0.92307692  1.          0.92307692  0.92307692  1.          0.90909091\n",
      "  0.93333333  0.93333333  0.92307692  1.          0.92307692  0.92307692\n",
      "  1.          0.90909091  0.93333333  0.93333333  0.92307692  1.\n",
      "  0.92307692  0.92307692  1.          0.90909091  0.93333333  0.93333333\n",
      "  0.92307692  1.          0.92307692  0.92307692  1.          0.90909091\n",
      "  0.93333333  0.93333333  0.92307692  1.          0.92307692  0.92307692\n",
      "  1.          0.90909091  0.93333333  0.93333333  0.92307692  1.\n",
      "  0.92307692  0.92307692  1.          0.90909091  0.93333333  0.93333333\n",
      "  0.92307692  1.          0.92307692  0.92307692  1.          0.90909091\n",
      "  0.93333333  0.93333333  0.92307692  1.          0.92307692  0.92307692\n",
      "  1.          0.90909091  0.93333333  0.93333333  0.92307692  1.\n",
      "  0.92307692  0.92307692  1.          0.90909091  0.93333333  0.93333333\n",
      "  0.92307692  1.          0.92307692  0.92307692  1.          0.90909091\n",
      "  0.93333333  0.93333333  0.92307692  1.          0.92307692  0.92307692\n",
      "  1.          0.90909091  0.93333333  0.93333333  0.92307692  1.\n",
      "  0.92307692  0.92307692  1.          0.90909091  0.93333333  0.93333333\n",
      "  0.92307692  1.          0.92307692  0.92307692  1.          0.90909091\n",
      "  0.93333333  0.93333333  0.92307692  1.          0.92307692  0.92307692\n",
      "  1.          0.90909091  0.93333333  0.93333333  0.92307692  1.\n",
      "  0.92307692  0.92307692  1.          0.90909091  0.93333333  0.93333333\n",
      "  0.92307692  1.          0.92307692  0.92307692  1.          0.90909091\n",
      "  0.93333333  0.93333333  0.92307692  1.          0.92307692  0.92307692\n",
      "  1.          0.90909091]\n",
      "LR accuracy Avg: 0.7698416827\n",
      "LR accuracy Standard Deviation: 0.0339613340077\n",
      "LR f1s Avg : 0.648551476301\n",
      "LR f1s Standard Deviation: 0.329909474155\n",
      "SVM Avg: 0.882523733365\n",
      "SVM Standard Deviation: 0.0400124215603\n",
      "SVM f1s Avg : 0.747471250971\n",
      "SVM f1s Standard Deviation: 0.0145255110394\n"
     ]
    }
   ],
   "source": [
    "svm_f1s=svm_f1s[np.nonzero(svm_f1s)]\n",
    "print(svm_f1s)\n",
    "\n",
    "print(\"LR accuracy Avg: {}\".format(np.mean(lr_all_feature)))\n",
    "print(\"LR accuracy Standard Deviation: {}\".format(np.std(lr_all_feature)))\n",
    "\n",
    "print(\"LR f1s Avg : {}\".format(np.mean( lr_fls_feature)))\n",
    "print(\"LR f1s Standard Deviation: {}\".format(np.std(lr_f1s)))\n",
    "\n",
    "print(\"SVM Avg: {}\".format(np.mean(svm_all_feature)))\n",
    "print(\"SVM Standard Deviation: {}\".format(np.std(svm_all_accs)))\n",
    "\n",
    "print(\"SVM f1s Avg : {}\".format(np.mean( svm_fls_feature )))\n",
    "print(\"SVM f1s Standard Deviation: {}\".format(np.std(svm_fls_feature)))\n",
    "#print(lr_all_accs)"
   ]
  },
  {
   "cell_type": "code",
   "execution_count": 65,
   "metadata": {},
   "outputs": [
    {
     "data": {
      "text/plain": [
       "array([ 0.99269577,  0.98539153,  0.98539153,  0.98539153,  0.98539153,\n",
       "        0.98539153,  0.98539153,  0.98539153,  0.98539153,  0.98539153,\n",
       "        0.98539153,  0.98539153,  0.98539153,  0.98539153,  0.98539153])"
      ]
     },
     "execution_count": 65,
     "metadata": {},
     "output_type": "execute_result"
    }
   ],
   "source": [
    "svm_all_feature"
   ]
  },
  {
   "cell_type": "code",
   "execution_count": 66,
   "metadata": {},
   "outputs": [
    {
     "data": {
      "text/plain": [
       "array([ 0.99269577,  0.98539153,  0.98539153,  0.98539153,  0.9780873 ,\n",
       "        0.98539153,  0.97078307,  0.97078307,  0.97078307,  0.97078307,\n",
       "        0.9780873 ,  0.9780873 ,  0.9780873 ,  0.9780873 ,  0.9780873 ])"
      ]
     },
     "execution_count": 66,
     "metadata": {},
     "output_type": "execute_result"
    }
   ],
   "source": [
    "lr_all_feature"
   ]
  },
  {
   "cell_type": "code",
   "execution_count": 58,
   "metadata": {},
   "outputs": [
    {
     "data": {
      "text/plain": [
       "(10,)"
      ]
     },
     "execution_count": 58,
     "metadata": {},
     "output_type": "execute_result"
    }
   ],
   "source": [
    " lr_accuracies.shape"
   ]
  },
  {
   "cell_type": "code",
   "execution_count": 59,
   "metadata": {},
   "outputs": [
    {
     "data": {
      "text/plain": [
       "(20,)"
      ]
     },
     "execution_count": 59,
     "metadata": {},
     "output_type": "execute_result"
    }
   ],
   "source": [
    "lr_all_accs.shape"
   ]
  },
  {
   "cell_type": "code",
   "execution_count": null,
   "metadata": {
    "collapsed": true
   },
   "outputs": [],
   "source": []
  }
 ],
 "metadata": {
  "kernelspec": {
   "display_name": "Python 2",
   "language": "python",
   "name": "python2"
  },
  "language_info": {
   "codemirror_mode": {
    "name": "ipython",
    "version": 2
   },
   "file_extension": ".py",
   "mimetype": "text/x-python",
   "name": "python",
   "nbconvert_exporter": "python",
   "pygments_lexer": "ipython2",
   "version": "2.7.13"
  }
 },
 "nbformat": 4,
 "nbformat_minor": 2
}
